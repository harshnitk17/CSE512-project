{
  "nbformat": 4,
  "nbformat_minor": 0,
  "metadata": {
    "colab": {
      "provenance": [],
      "gpuType": "T4"
    },
    "kernelspec": {
      "name": "python3",
      "display_name": "Python 3"
    },
    "language_info": {
      "name": "python"
    },
    "accelerator": "GPU"
  },
  "cells": [
    {
      "cell_type": "code",
      "execution_count": 1,
      "metadata": {
        "id": "JBFOUL7W34hj",
        "colab": {
          "base_uri": "https://localhost:8080/"
        },
        "outputId": "c8aedbe7-51c9-4b01-e5aa-47cb1897f51d"
      },
      "outputs": [
        {
          "output_type": "stream",
          "name": "stdout",
          "text": [
            "Requirement already satisfied: tensorflow in /usr/local/lib/python3.10/dist-packages (2.14.0)\n",
            "Requirement already satisfied: soundfile in /usr/local/lib/python3.10/dist-packages (0.12.1)\n",
            "Requirement already satisfied: absl-py>=1.0.0 in /usr/local/lib/python3.10/dist-packages (from tensorflow) (1.4.0)\n",
            "Requirement already satisfied: astunparse>=1.6.0 in /usr/local/lib/python3.10/dist-packages (from tensorflow) (1.6.3)\n",
            "Requirement already satisfied: flatbuffers>=23.5.26 in /usr/local/lib/python3.10/dist-packages (from tensorflow) (23.5.26)\n",
            "Requirement already satisfied: gast!=0.5.0,!=0.5.1,!=0.5.2,>=0.2.1 in /usr/local/lib/python3.10/dist-packages (from tensorflow) (0.5.4)\n",
            "Requirement already satisfied: google-pasta>=0.1.1 in /usr/local/lib/python3.10/dist-packages (from tensorflow) (0.2.0)\n",
            "Requirement already satisfied: h5py>=2.9.0 in /usr/local/lib/python3.10/dist-packages (from tensorflow) (3.9.0)\n",
            "Requirement already satisfied: libclang>=13.0.0 in /usr/local/lib/python3.10/dist-packages (from tensorflow) (16.0.6)\n",
            "Requirement already satisfied: ml-dtypes==0.2.0 in /usr/local/lib/python3.10/dist-packages (from tensorflow) (0.2.0)\n",
            "Requirement already satisfied: numpy>=1.23.5 in /usr/local/lib/python3.10/dist-packages (from tensorflow) (1.23.5)\n",
            "Requirement already satisfied: opt-einsum>=2.3.2 in /usr/local/lib/python3.10/dist-packages (from tensorflow) (3.3.0)\n",
            "Requirement already satisfied: packaging in /usr/local/lib/python3.10/dist-packages (from tensorflow) (23.2)\n",
            "Requirement already satisfied: protobuf!=4.21.0,!=4.21.1,!=4.21.2,!=4.21.3,!=4.21.4,!=4.21.5,<5.0.0dev,>=3.20.3 in /usr/local/lib/python3.10/dist-packages (from tensorflow) (3.20.3)\n",
            "Requirement already satisfied: setuptools in /usr/local/lib/python3.10/dist-packages (from tensorflow) (67.7.2)\n",
            "Requirement already satisfied: six>=1.12.0 in /usr/local/lib/python3.10/dist-packages (from tensorflow) (1.16.0)\n",
            "Requirement already satisfied: termcolor>=1.1.0 in /usr/local/lib/python3.10/dist-packages (from tensorflow) (2.3.0)\n",
            "Requirement already satisfied: typing-extensions>=3.6.6 in /usr/local/lib/python3.10/dist-packages (from tensorflow) (4.5.0)\n",
            "Requirement already satisfied: wrapt<1.15,>=1.11.0 in /usr/local/lib/python3.10/dist-packages (from tensorflow) (1.14.1)\n",
            "Requirement already satisfied: tensorflow-io-gcs-filesystem>=0.23.1 in /usr/local/lib/python3.10/dist-packages (from tensorflow) (0.34.0)\n",
            "Requirement already satisfied: grpcio<2.0,>=1.24.3 in /usr/local/lib/python3.10/dist-packages (from tensorflow) (1.59.3)\n",
            "Requirement already satisfied: tensorboard<2.15,>=2.14 in /usr/local/lib/python3.10/dist-packages (from tensorflow) (2.14.1)\n",
            "Requirement already satisfied: tensorflow-estimator<2.15,>=2.14.0 in /usr/local/lib/python3.10/dist-packages (from tensorflow) (2.14.0)\n",
            "Requirement already satisfied: keras<2.15,>=2.14.0 in /usr/local/lib/python3.10/dist-packages (from tensorflow) (2.14.0)\n",
            "Requirement already satisfied: cffi>=1.0 in /usr/local/lib/python3.10/dist-packages (from soundfile) (1.16.0)\n",
            "Requirement already satisfied: wheel<1.0,>=0.23.0 in /usr/local/lib/python3.10/dist-packages (from astunparse>=1.6.0->tensorflow) (0.42.0)\n",
            "Requirement already satisfied: pycparser in /usr/local/lib/python3.10/dist-packages (from cffi>=1.0->soundfile) (2.21)\n",
            "Requirement already satisfied: google-auth<3,>=1.6.3 in /usr/local/lib/python3.10/dist-packages (from tensorboard<2.15,>=2.14->tensorflow) (2.17.3)\n",
            "Requirement already satisfied: google-auth-oauthlib<1.1,>=0.5 in /usr/local/lib/python3.10/dist-packages (from tensorboard<2.15,>=2.14->tensorflow) (1.0.0)\n",
            "Requirement already satisfied: markdown>=2.6.8 in /usr/local/lib/python3.10/dist-packages (from tensorboard<2.15,>=2.14->tensorflow) (3.5.1)\n",
            "Requirement already satisfied: requests<3,>=2.21.0 in /usr/local/lib/python3.10/dist-packages (from tensorboard<2.15,>=2.14->tensorflow) (2.31.0)\n",
            "Requirement already satisfied: tensorboard-data-server<0.8.0,>=0.7.0 in /usr/local/lib/python3.10/dist-packages (from tensorboard<2.15,>=2.14->tensorflow) (0.7.2)\n",
            "Requirement already satisfied: werkzeug>=1.0.1 in /usr/local/lib/python3.10/dist-packages (from tensorboard<2.15,>=2.14->tensorflow) (3.0.1)\n",
            "Requirement already satisfied: cachetools<6.0,>=2.0.0 in /usr/local/lib/python3.10/dist-packages (from google-auth<3,>=1.6.3->tensorboard<2.15,>=2.14->tensorflow) (5.3.2)\n",
            "Requirement already satisfied: pyasn1-modules>=0.2.1 in /usr/local/lib/python3.10/dist-packages (from google-auth<3,>=1.6.3->tensorboard<2.15,>=2.14->tensorflow) (0.3.0)\n",
            "Requirement already satisfied: rsa<5,>=3.1.4 in /usr/local/lib/python3.10/dist-packages (from google-auth<3,>=1.6.3->tensorboard<2.15,>=2.14->tensorflow) (4.9)\n",
            "Requirement already satisfied: requests-oauthlib>=0.7.0 in /usr/local/lib/python3.10/dist-packages (from google-auth-oauthlib<1.1,>=0.5->tensorboard<2.15,>=2.14->tensorflow) (1.3.1)\n",
            "Requirement already satisfied: charset-normalizer<4,>=2 in /usr/local/lib/python3.10/dist-packages (from requests<3,>=2.21.0->tensorboard<2.15,>=2.14->tensorflow) (3.3.2)\n",
            "Requirement already satisfied: idna<4,>=2.5 in /usr/local/lib/python3.10/dist-packages (from requests<3,>=2.21.0->tensorboard<2.15,>=2.14->tensorflow) (3.6)\n",
            "Requirement already satisfied: urllib3<3,>=1.21.1 in /usr/local/lib/python3.10/dist-packages (from requests<3,>=2.21.0->tensorboard<2.15,>=2.14->tensorflow) (2.0.7)\n",
            "Requirement already satisfied: certifi>=2017.4.17 in /usr/local/lib/python3.10/dist-packages (from requests<3,>=2.21.0->tensorboard<2.15,>=2.14->tensorflow) (2023.11.17)\n",
            "Requirement already satisfied: MarkupSafe>=2.1.1 in /usr/local/lib/python3.10/dist-packages (from werkzeug>=1.0.1->tensorboard<2.15,>=2.14->tensorflow) (2.1.3)\n",
            "Requirement already satisfied: pyasn1<0.6.0,>=0.4.6 in /usr/local/lib/python3.10/dist-packages (from pyasn1-modules>=0.2.1->google-auth<3,>=1.6.3->tensorboard<2.15,>=2.14->tensorflow) (0.5.1)\n",
            "Requirement already satisfied: oauthlib>=3.0.0 in /usr/local/lib/python3.10/dist-packages (from requests-oauthlib>=0.7.0->google-auth-oauthlib<1.1,>=0.5->tensorboard<2.15,>=2.14->tensorflow) (3.2.2)\n",
            "Cloning into 'models'...\n",
            "remote: Enumerating objects: 90080, done.\u001b[K\n",
            "remote: Counting objects: 100% (113/113), done.\u001b[K\n",
            "remote: Compressing objects: 100% (60/60), done.\u001b[K\n",
            "remote: Total 90080 (delta 61), reused 100 (delta 50), pack-reused 89967\u001b[K\n",
            "Receiving objects: 100% (90080/90080), 606.62 MiB | 21.43 MiB/s, done.\n",
            "Resolving deltas: 100% (64889/64889), done.\n"
          ]
        }
      ],
      "source": [
        "!pip install tensorflow soundfile\n",
        "\n",
        "import os\n",
        "import numpy as np\n",
        "import pandas as pd\n",
        "import tensorflow as tf\n",
        "import soundfile as sf\n",
        "from sklearn.preprocessing import MultiLabelBinarizer\n",
        "from sklearn.model_selection import train_test_split\n",
        "from sklearn.metrics import f1_score, precision_score, recall_score, hamming_loss\n",
        "import ast\n",
        "\n",
        "# Clone TensorFlow models repository (for VGGish)\n",
        "!git clone https://github.com/tensorflow/models.git\n"
      ]
    },
    {
      "cell_type": "code",
      "source": [
        "%cd models/research/audioset/vggish"
      ],
      "metadata": {
        "colab": {
          "base_uri": "https://localhost:8080/"
        },
        "id": "z-e-_Ruj6Pjh",
        "outputId": "fc0c1632-7c75-4a0e-ef7e-7dc1f2839af6"
      },
      "execution_count": 2,
      "outputs": [
        {
          "output_type": "stream",
          "name": "stdout",
          "text": [
            "/content/models/research/audioset/vggish\n"
          ]
        }
      ]
    },
    {
      "cell_type": "code",
      "source": [
        "# Download VGGish model checkpoints\n",
        "!curl -O https://storage.googleapis.com/audioset/vggish_model.ckpt\n",
        "!curl -O https://storage.googleapis.com/audioset/vggish_pca_params.npz"
      ],
      "metadata": {
        "colab": {
          "base_uri": "https://localhost:8080/"
        },
        "id": "QOwKlhkMNhu4",
        "outputId": "2bc5c4ce-887f-4195-c7e7-f5b789816329"
      },
      "execution_count": 3,
      "outputs": [
        {
          "output_type": "stream",
          "name": "stdout",
          "text": [
            "  % Total    % Received % Xferd  Average Speed   Time    Time     Time  Current\n",
            "                                 Dload  Upload   Total   Spent    Left  Speed\n",
            "100  277M  100  277M    0     0  65.6M      0  0:00:04  0:00:04 --:--:-- 65.6M\n",
            "  % Total    % Received % Xferd  Average Speed   Time    Time     Time  Current\n",
            "                                 Dload  Upload   Total   Spent    Left  Speed\n",
            "100 73020  100 73020    0     0   171k      0 --:--:-- --:--:-- --:--:--  171k\n"
          ]
        }
      ]
    },
    {
      "cell_type": "code",
      "source": [
        "!pip install resampy"
      ],
      "metadata": {
        "colab": {
          "base_uri": "https://localhost:8080/"
        },
        "id": "nE15qILR6i9z",
        "outputId": "76f3f7e5-9f7a-40fa-cb44-56a25c86beb3"
      },
      "execution_count": 4,
      "outputs": [
        {
          "output_type": "stream",
          "name": "stdout",
          "text": [
            "Collecting resampy\n",
            "  Downloading resampy-0.4.2-py3-none-any.whl (3.1 MB)\n",
            "\u001b[2K     \u001b[90m━━━━━━━━━━━━━━━━━━━━━━━━━━━━━━━━━━━━━━━━\u001b[0m \u001b[32m3.1/3.1 MB\u001b[0m \u001b[31m10.8 MB/s\u001b[0m eta \u001b[36m0:00:00\u001b[0m\n",
            "\u001b[?25hRequirement already satisfied: numpy>=1.17 in /usr/local/lib/python3.10/dist-packages (from resampy) (1.23.5)\n",
            "Requirement already satisfied: numba>=0.53 in /usr/local/lib/python3.10/dist-packages (from resampy) (0.58.1)\n",
            "Requirement already satisfied: llvmlite<0.42,>=0.41.0dev0 in /usr/local/lib/python3.10/dist-packages (from numba>=0.53->resampy) (0.41.1)\n",
            "Installing collected packages: resampy\n",
            "Successfully installed resampy-0.4.2\n"
          ]
        }
      ]
    },
    {
      "cell_type": "code",
      "source": [
        "# Import VGGish after changing directory\n",
        "import vggish_params\n",
        "import vggish_input\n",
        "import vggish_slim"
      ],
      "metadata": {
        "id": "FH1JpIuN6J3W"
      },
      "execution_count": 5,
      "outputs": []
    },
    {
      "cell_type": "code",
      "source": [
        "from google.colab import drive\n",
        "drive.mount('/content/drive')"
      ],
      "metadata": {
        "colab": {
          "base_uri": "https://localhost:8080/"
        },
        "id": "BTnV3wdr6sT8",
        "outputId": "b81e66c2-fad6-4d27-8b2c-8306271f59c9"
      },
      "execution_count": 6,
      "outputs": [
        {
          "output_type": "stream",
          "name": "stdout",
          "text": [
            "Mounted at /content/drive\n"
          ]
        }
      ]
    },
    {
      "cell_type": "code",
      "source": [
        "# Load dataset\n",
        "df = pd.read_csv('/content/drive/MyDrive/MLProject/songs-balanced-final.csv')\n",
        "df['merged_labels'] = df['merged_labels'].apply(ast.literal_eval)\n",
        "\n",
        "# Define all genres and moods\n",
        "all_genres = ['electronic', 'rock', 'funk&soul', 'pop', 'folk&country', 'hiphop', 'rhythm&blues', 'jazz']\n",
        "all_moods = ['happy/celebration/party/dance', 'loss/sad/heartbreak/angst/protest', 'romantic/love/passion/devotion', 'motivating/inspirational/uplifting/confidence/nostalgia']\n",
        "\n",
        "# Binarize labels\n",
        "mlb = MultiLabelBinarizer(classes=all_genres + all_moods)\n",
        "df['labels'] = list(mlb.fit_transform(df['merged_labels']))\n",
        "\n",
        "import os\n",
        "for index, sample in df.iterrows():\n",
        "  file_path = sample[\"file_path\"]\n",
        "  if not os.path.isfile(file_path):\n",
        "        df = df.drop(index)\n",
        "\n",
        "# Split dataset\n",
        "train_df, test_df = train_test_split(df, test_size=0.2, random_state=42)\n",
        "train_df, val_df = train_test_split(train_df, test_size=0.2, random_state=42)\n"
      ],
      "metadata": {
        "id": "onxxiCk74w1L"
      },
      "execution_count": 7,
      "outputs": []
    },
    {
      "cell_type": "code",
      "source": [
        "print(train_df.shape)\n",
        "print(val_df.shape)\n",
        "print(test_df.shape)"
      ],
      "metadata": {
        "colab": {
          "base_uri": "https://localhost:8080/"
        },
        "id": "yR0gkM6WTxxu",
        "outputId": "52f10032-c6fd-4597-80b2-f711d8e1b02a"
      },
      "execution_count": 8,
      "outputs": [
        {
          "output_type": "stream",
          "name": "stdout",
          "text": [
            "(1290, 5)\n",
            "(323, 5)\n",
            "(404, 5)\n"
          ]
        }
      ]
    },
    {
      "cell_type": "code",
      "source": [
        "def preprocess_audio(file_path, sr=16000):\n",
        "    # Load a specific part of the audio file (from 1:00 to 1:30 min)\n",
        "    wav_data, sr = sf.read(file_path)\n",
        "    #assert wav_data.dtype == np.int16, 'Bad sample type: %r' % wav_data.dtype\n",
        "    samples = wav_data / 32768.0  # Convert to [-1.0, +1.0]\n",
        "    # Compute log mel spectrogram features\n",
        "    log_mel = vggish_input.waveform_to_examples(samples, sr)\n",
        "\n",
        "    return log_mel\n",
        "\n",
        "def data_generator(df, batch_size=32):\n",
        "    while True:\n",
        "        for start in range(0, len(df), batch_size):\n",
        "            x_batch = []\n",
        "            y_batch = []\n",
        "            end = min(start + batch_size, len(df))\n",
        "            df_batch = df[start:end]\n",
        "            for _, row in df_batch.iterrows():\n",
        "                file_path = row['file_path']\n",
        "                labels = row['labels']\n",
        "                spectrogram = preprocess_audio(file_path)\n",
        "\n",
        "                x_batch.append(spectrogram)\n",
        "                y_batch.append(labels)\n",
        "            x_batch = np.array(x_batch)\n",
        "            y_batch = np.array(y_batch)\n",
        "\n",
        "            yield x_batch, y_batch"
      ],
      "metadata": {
        "id": "5t1h0F3J40-J"
      },
      "execution_count": 9,
      "outputs": []
    },
    {
      "cell_type": "code",
      "source": [
        "# Define VGGish model\n",
        "def load_vggish():\n",
        "    with tf.Graph().as_default(), tf.compat.v1.Session() as sess:\n",
        "        vggish_slim.define_vggish_slim(training=False)\n",
        "        vggish_slim.load_vggish_slim_checkpoint(sess, 'vggish_model.ckpt')\n",
        "\n",
        "        features_tensor = sess.graph.get_tensor_by_name(vggish_params.INPUT_TENSOR_NAME)\n",
        "        embedding_tensor = sess.graph.get_tensor_by_name(vggish_params.OUTPUT_TENSOR_NAME)\n",
        "\n",
        "        return sess, features_tensor, embedding_tensor\n",
        "\n",
        "sess, features_tensor, embedding_tensor = load_vggish()\n"
      ],
      "metadata": {
        "id": "sgtOoEe75Jv-",
        "colab": {
          "base_uri": "https://localhost:8080/"
        },
        "outputId": "95d143a8-6b96-4d7f-901f-a3f1d560799a"
      },
      "execution_count": 10,
      "outputs": [
        {
          "output_type": "stream",
          "name": "stderr",
          "text": [
            "/usr/local/lib/python3.10/dist-packages/tensorflow/python/keras/engine/base_layer_v1.py:1697: UserWarning: `layer.apply` is deprecated and will be removed in a future version. Please use `layer.__call__` method instead.\n",
            "  warnings.warn('`layer.apply` is deprecated and '\n",
            "/usr/local/lib/python3.10/dist-packages/tensorflow/python/keras/legacy_tf_layers/core.py:318: UserWarning: `tf.layers.flatten` is deprecated and will be removed in a future version. Please use `tf.keras.layers.Flatten` instead.\n",
            "  warnings.warn('`tf.layers.flatten` is deprecated and '\n"
          ]
        }
      ]
    },
    {
      "cell_type": "code",
      "source": [
        "from tensorflow.keras.optimizers import Adam\n",
        "\n",
        "def build_model(num_classes):\n",
        "    model = tf.keras.Sequential()\n",
        "\n",
        "    # Convolutional Layer 1\n",
        "    model.add(tf.keras.layers.Conv2D(64, (3, 3), activation='relu', input_shape=(31, 96, 64)))\n",
        "    model.add(tf.keras.layers.MaxPooling2D((2, 2)))\n",
        "    model.add(tf.keras.layers.BatchNormalization())\n",
        "\n",
        "    # Convolutional Layer 2\n",
        "    model.add(tf.keras.layers.Conv2D(128, (3, 3), activation='relu'))\n",
        "    model.add(tf.keras.layers.MaxPooling2D((2, 2)))\n",
        "    model.add(tf.keras.layers.BatchNormalization())\n",
        "\n",
        "    # Convolutional Layer 3\n",
        "    model.add(tf.keras.layers.Conv2D(256, (3, 3), activation='relu'))\n",
        "    model.add(tf.keras.layers.MaxPooling2D((2, 2)))\n",
        "    model.add(tf.keras.layers.BatchNormalization())\n",
        "\n",
        "    # Flatten layer\n",
        "    model.add(tf.keras.layers.Flatten())\n",
        "\n",
        "    # Dense Layer 1\n",
        "    model.add(tf.keras.layers.Dense(512, activation='relu'))\n",
        "    model.add(tf.keras.layers.Dropout(0.5))\n",
        "    model.add(tf.keras.layers.BatchNormalization())\n",
        "\n",
        "    # Dense Layer 2\n",
        "    model.add(tf.keras.layers.Dense(256, activation='relu'))\n",
        "    model.add(tf.keras.layers.Dropout(0.5))\n",
        "    model.add(tf.keras.layers.BatchNormalization())\n",
        "\n",
        "    # Output Layer\n",
        "    model.add(tf.keras.layers.Dense(num_classes, activation='sigmoid'))\n",
        "\n",
        "    return model\n",
        "\n",
        "\n",
        "num_classes = len(all_genres) + len(all_moods)\n",
        "model = build_model(num_classes)\n",
        "optimizer = Adam(learning_rate = 0.001)\n",
        "model.compile(optimizer=optimizer, loss='binary_crossentropy', metrics=['accuracy'])\n",
        "\n",
        "# Assuming 'model' is your compiled Keras model\n",
        "optimizer = model.optimizer\n",
        "print(\"Learning Rate:\", optimizer.learning_rate.numpy())\n",
        "\n",
        "\n",
        "def exact_match_accuracy(true_labels, predictions):\n",
        "    exact_match = np.all(true_labels == predictions, axis=1)\n",
        "    ema_accuracy = np.mean(exact_match)\n",
        "    genre_true, mood_true = true_labels[:, :8], true_labels[:, 8:]\n",
        "    genre_pred, mood_pred = predictions[:, :8], predictions[:, 8:]\n",
        "    exact_match_genre = np.all(genre_true == genre_pred, axis=1)\n",
        "    exact_match_mood = np.all(mood_true == mood_pred, axis=1)\n",
        "    exact_match_genres = np.mean(exact_match_genre)\n",
        "    exact_match_moods = np.mean(exact_match_mood)\n",
        "\n",
        "    return ema_accuracy, exact_match_genres, exact_match_moods\n"
      ],
      "metadata": {
        "id": "Mnhu0L1V5LTL",
        "colab": {
          "base_uri": "https://localhost:8080/"
        },
        "outputId": "fcbb4154-1eec-45f5-b538-afdb400b509e"
      },
      "execution_count": 12,
      "outputs": [
        {
          "output_type": "stream",
          "name": "stdout",
          "text": [
            "Learning Rate: 0.001\n"
          ]
        }
      ]
    },
    {
      "cell_type": "code",
      "source": [
        "import matplotlib.pyplot as plt\n",
        "\n",
        "def train_and_evaluate_model(model, train_df, val_df, epochs=15, batch_size=32, threshold=0.5):\n",
        "    train_gen = data_generator(train_df, batch_size)\n",
        "    val_gen = data_generator(val_df, batch_size)\n",
        "\n",
        "    steps_per_epoch = len(train_df) // batch_size\n",
        "    validation_steps = len(val_df) // batch_size\n",
        "    if len(val_df) % batch_size != 0:\n",
        "        validation_steps += 1  # To include the last smaller batch\n",
        "\n",
        "    # Lists to store training and validation losses\n",
        "    train_losses = []\n",
        "    val_losses = []\n",
        "\n",
        "    model_save_dir = '/content/saved_models/'\n",
        "\n",
        "    for epoch in range(epochs):\n",
        "        print(epoch)\n",
        "        history = model.fit(train_gen, steps_per_epoch=steps_per_epoch, epochs=1)\n",
        "        train_losses.append(history.history['loss'][0])\n",
        "        val_loss, val_accuracy = model.evaluate(val_gen, steps=validation_steps)\n",
        "        val_losses.append(val_loss)\n",
        "\n",
        "        # Resetting the validation generator\n",
        "        val_gen = data_generator(val_df, batch_size)\n",
        "        val_preds = model.predict(val_gen, steps=validation_steps)\n",
        "\n",
        "        # Convert probabilities to binary values\n",
        "        val_preds_binary = (val_preds > threshold).astype(int)\n",
        "\n",
        "        # Truncate the labels to match the number of predictions\n",
        "        val_labels = np.array(val_df['labels'].tolist())[:len(val_preds_binary)]\n",
        "\n",
        "        # Save the model at each epoch\n",
        "        model_save_path = os.path.join(model_save_dir, f'model_epoch_{epoch + 1}.h5')\n",
        "        model.save_weights(model_save_path)\n",
        "\n",
        "        # Custom metrics\n",
        "        f1 = f1_score(val_labels, val_preds_binary, average='micro')\n",
        "        precision = precision_score(val_labels, val_preds_binary, average='micro')\n",
        "        recall = recall_score(val_labels, val_preds_binary, average='micro')\n",
        "        hamming = hamming_loss(val_labels, val_preds_binary)\n",
        "        ema_accuracy, exact_match_genres, exact_match_moods = exact_match_accuracy(val_labels, val_preds_binary)\n",
        "\n",
        "        print(f\"Epoch {epoch + 1}/{epochs}\")\n",
        "        print(f\" - val_loss: {val_loss:.4f} - val_accuracy: {val_accuracy:.4f}\")\n",
        "        print(f\" - F1 Score: {f1:.4f} - Precision: {precision:.4f} - Recall: {recall:.4f}\")\n",
        "        print(f\" - Hamming Loss: {hamming:.4f}\")\n",
        "        print(f\" - Exact Match Accuracy: {ema_accuracy:.4f}\")\n",
        "        print(f\" - Exact Match Genres: {exact_match_genres:.4f} - Exact Match Moods: {exact_match_moods:.4f}\")\n",
        "\n",
        "    print(train_losses, val_losses)\n",
        "\n",
        "# Train and evaluate the model\n",
        "train_and_evaluate_model(model, train_df, val_df)\n",
        "# 200\n"
      ],
      "metadata": {
        "id": "RGklOcVg5NBv",
        "colab": {
          "base_uri": "https://localhost:8080/"
        },
        "outputId": "483f9328-336c-4859-da22-06713e77c101"
      },
      "execution_count": 13,
      "outputs": [
        {
          "output_type": "stream",
          "name": "stdout",
          "text": [
            "0\n",
            "40/40 [==============================] - 387s 10s/step - loss: 0.7877 - accuracy: 0.1516\n",
            "11/11 [==============================] - 72s 7s/step - loss: 1.5946 - accuracy: 0.1734\n",
            "11/11 [==============================] - 26s 3s/step\n",
            "Epoch 1/15\n",
            " - val_loss: 1.5946 - val_accuracy: 0.1734\n",
            " - F1 Score: 0.1957 - Precision: 0.2198 - Recall: 0.1764\n",
            " - Hamming Loss: 0.3011\n",
            " - Exact Match Accuracy: 0.0000\n",
            " - Exact Match Genres: 0.0186 - Exact Match Moods: 0.0000\n",
            "1\n",
            "40/40 [==============================] - 138s 3s/step - loss: 0.6741 - accuracy: 0.2453\n",
            "11/11 [==============================] - 29s 3s/step - loss: 1.1045 - accuracy: 0.1734\n",
            "11/11 [==============================] - 27s 3s/step\n",
            "Epoch 2/15\n",
            " - val_loss: 1.1045 - val_accuracy: 0.1734\n",
            " - F1 Score: 0.1365 - Precision: 0.2384 - Recall: 0.0957\n",
            " - Hamming Loss: 0.2513\n",
            " - Exact Match Accuracy: 0.0000\n",
            " - Exact Match Genres: 0.1734 - Exact Match Moods: 0.0000\n",
            "2\n",
            "40/40 [==============================] - 138s 3s/step - loss: 0.5800 - accuracy: 0.2773\n",
            "11/11 [==============================] - 31s 3s/step - loss: 1.3274 - accuracy: 0.1734\n",
            "11/11 [==============================] - 29s 3s/step\n",
            "Epoch 3/15\n",
            " - val_loss: 1.3274 - val_accuracy: 0.1734\n",
            " - F1 Score: 0.2660 - Precision: 0.2988 - Recall: 0.2398\n",
            " - Hamming Loss: 0.2748\n",
            " - Exact Match Accuracy: 0.0124\n",
            " - Exact Match Genres: 0.1734 - Exact Match Moods: 0.3591\n",
            "3\n",
            "40/40 [==============================] - 154s 4s/step - loss: 0.5143 - accuracy: 0.2914\n",
            "11/11 [==============================] - 29s 3s/step - loss: 1.5857 - accuracy: 0.1734\n",
            "11/11 [==============================] - 28s 3s/step\n",
            "Epoch 4/15\n",
            " - val_loss: 1.5857 - val_accuracy: 0.1734\n",
            " - F1 Score: 0.1365 - Precision: 0.2384 - Recall: 0.0957\n",
            " - Hamming Loss: 0.2513\n",
            " - Exact Match Accuracy: 0.0000\n",
            " - Exact Match Genres: 0.1734 - Exact Match Moods: 0.0000\n",
            "4\n",
            "40/40 [==============================] - 138s 3s/step - loss: 0.4654 - accuracy: 0.2992\n",
            "11/11 [==============================] - 26s 3s/step - loss: 1.9975 - accuracy: 0.0000e+00\n",
            "11/11 [==============================] - 26s 3s/step\n",
            "Epoch 5/15\n",
            " - val_loss: 1.9975 - val_accuracy: 0.0000\n",
            " - F1 Score: 0.2057 - Precision: 0.3591 - Recall: 0.1441\n",
            " - Hamming Loss: 0.2312\n",
            " - Exact Match Accuracy: 0.0000\n",
            " - Exact Match Genres: 0.0000 - Exact Match Moods: 0.3591\n",
            "5\n",
            "40/40 [==============================] - 145s 4s/step - loss: 0.4474 - accuracy: 0.3203\n",
            "11/11 [==============================] - 32s 3s/step - loss: 8.0376 - accuracy: 0.0000e+00\n",
            "11/11 [==============================] - 30s 3s/step\n",
            "Epoch 6/15\n",
            " - val_loss: 8.0376 - val_accuracy: 0.0000\n",
            " - F1 Score: 0.2660 - Precision: 0.2988 - Recall: 0.2398\n",
            " - Hamming Loss: 0.2748\n",
            " - Exact Match Accuracy: 0.0124\n",
            " - Exact Match Genres: 0.1734 - Exact Match Moods: 0.3591\n",
            "6\n",
            "40/40 [==============================] - 136s 3s/step - loss: 0.4327 - accuracy: 0.3414\n",
            "11/11 [==============================] - 29s 3s/step - loss: 4.6076 - accuracy: 0.0000e+00\n",
            "11/11 [==============================] - 26s 3s/step\n",
            "Epoch 7/15\n",
            " - val_loss: 4.6076 - val_accuracy: 0.0000\n",
            " - F1 Score: 0.2057 - Precision: 0.3591 - Recall: 0.1441\n",
            " - Hamming Loss: 0.2312\n",
            " - Exact Match Accuracy: 0.0000\n",
            " - Exact Match Genres: 0.0000 - Exact Match Moods: 0.3591\n",
            "7\n",
            "40/40 [==============================] - 140s 4s/step - loss: 0.4092 - accuracy: 0.3648\n",
            "11/11 [==============================] - 27s 3s/step - loss: 7.1298 - accuracy: 0.0000e+00\n",
            "11/11 [==============================] - 28s 3s/step\n",
            "Epoch 8/15\n",
            " - val_loss: 7.1298 - val_accuracy: 0.0000\n",
            " - F1 Score: 0.2057 - Precision: 0.3591 - Recall: 0.1441\n",
            " - Hamming Loss: 0.2312\n",
            " - Exact Match Accuracy: 0.0000\n",
            " - Exact Match Genres: 0.0000 - Exact Match Moods: 0.3591\n",
            "8\n",
            "40/40 [==============================] - 142s 4s/step - loss: 0.3996 - accuracy: 0.3531\n",
            "11/11 [==============================] - 28s 3s/step - loss: 20.5288 - accuracy: 0.0000e+00\n",
            "11/11 [==============================] - 26s 3s/step\n",
            "Epoch 9/15\n",
            " - val_loss: 20.5288 - val_accuracy: 0.0000\n",
            " - F1 Score: 0.2057 - Precision: 0.3591 - Recall: 0.1441\n",
            " - Hamming Loss: 0.2312\n",
            " - Exact Match Accuracy: 0.0000\n",
            " - Exact Match Genres: 0.0000 - Exact Match Moods: 0.3591\n",
            "9\n",
            "40/40 [==============================] - 138s 3s/step - loss: 0.3880 - accuracy: 0.3773\n",
            "11/11 [==============================] - 29s 3s/step - loss: 11.1186 - accuracy: 0.0000e+00\n",
            "11/11 [==============================] - 28s 3s/step\n",
            "Epoch 10/15\n",
            " - val_loss: 11.1186 - val_accuracy: 0.0000\n",
            " - F1 Score: 0.2627 - Precision: 0.2405 - Recall: 0.2894\n",
            " - Hamming Loss: 0.3375\n",
            " - Exact Match Accuracy: 0.0000\n",
            " - Exact Match Genres: 0.0000 - Exact Match Moods: 0.3591\n",
            "10\n",
            "40/40 [==============================] - 135s 3s/step - loss: 0.3747 - accuracy: 0.3906\n",
            "11/11 [==============================] - 29s 3s/step - loss: 22.7343 - accuracy: 0.1734\n",
            "11/11 [==============================] - 26s 3s/step\n",
            "Epoch 11/15\n",
            " - val_loss: 22.7343 - val_accuracy: 0.1734\n",
            " - F1 Score: 0.2153 - Precision: 0.1971 - Recall: 0.2373\n",
            " - Hamming Loss: 0.3591\n",
            " - Exact Match Accuracy: 0.0000\n",
            " - Exact Match Genres: 0.1734 - Exact Match Moods: 0.0000\n",
            "11\n",
            "40/40 [==============================] - 139s 4s/step - loss: 0.3725 - accuracy: 0.3734\n",
            "11/11 [==============================] - 29s 3s/step - loss: 39.1448 - accuracy: 0.1734\n",
            "11/11 [==============================] - 29s 3s/step\n",
            "Epoch 12/15\n",
            " - val_loss: 39.1448 - val_accuracy: 0.1734\n",
            " - F1 Score: 0.1530 - Precision: 0.1718 - Recall: 0.1379\n",
            " - Hamming Loss: 0.3171\n",
            " - Exact Match Accuracy: 0.0000\n",
            " - Exact Match Genres: 0.0000 - Exact Match Moods: 0.0000\n",
            "12\n",
            "40/40 [==============================] - 139s 4s/step - loss: 0.3510 - accuracy: 0.3867\n",
            "11/11 [==============================] - 26s 3s/step - loss: 51.9592 - accuracy: 0.1734\n",
            "11/11 [==============================] - 28s 3s/step\n",
            "Epoch 13/15\n",
            " - val_loss: 51.9592 - val_accuracy: 0.1734\n",
            " - F1 Score: 0.1530 - Precision: 0.1718 - Recall: 0.1379\n",
            " - Hamming Loss: 0.3171\n",
            " - Exact Match Accuracy: 0.0000\n",
            " - Exact Match Genres: 0.0000 - Exact Match Moods: 0.0000\n",
            "13\n",
            "40/40 [==============================] - 145s 4s/step - loss: 0.3136 - accuracy: 0.4437\n",
            "11/11 [==============================] - 27s 3s/step - loss: 47.7424 - accuracy: 0.1734\n",
            "11/11 [==============================] - 28s 3s/step\n",
            "Epoch 14/15\n",
            " - val_loss: 47.7424 - val_accuracy: 0.1734\n",
            " - F1 Score: 0.2146 - Precision: 0.1741 - Recall: 0.2795\n",
            " - Hamming Loss: 0.4249\n",
            " - Exact Match Accuracy: 0.0000\n",
            " - Exact Match Genres: 0.0000 - Exact Match Moods: 0.0000\n",
            "14\n",
            "40/40 [==============================] - 139s 4s/step - loss: 0.2942 - accuracy: 0.4531\n",
            "11/11 [==============================] - 27s 3s/step - loss: 29.5263 - accuracy: 0.1734\n",
            "11/11 [==============================] - 27s 3s/step\n",
            "Epoch 15/15\n",
            " - val_loss: 29.5263 - val_accuracy: 0.1734\n",
            " - F1 Score: 0.2818 - Precision: 0.2111 - Recall: 0.4236\n",
            " - Hamming Loss: 0.4484\n",
            " - Exact Match Accuracy: 0.0000\n",
            " - Exact Match Genres: 0.0000 - Exact Match Moods: 0.0000\n",
            "[0.7877490520477295, 0.6740890741348267, 0.5800209641456604, 0.5142990350723267, 0.465430349111557, 0.44735008478164673, 0.4327184557914734, 0.40920838713645935, 0.39962905645370483, 0.38804981112480164, 0.37469443678855896, 0.3724881112575531, 0.3510230779647827, 0.313587486743927, 0.2942145764827728] [1.5946071147918701, 1.1045211553573608, 1.3274421691894531, 1.5856714248657227, 1.9974843263626099, 8.03760814666748, 4.607583045959473, 7.1298322677612305, 20.528820037841797, 11.118622779846191, 22.734291076660156, 39.1447868347168, 51.959232330322266, 47.74236297607422, 29.52631187438965]\n"
          ]
        }
      ]
    },
    {
      "cell_type": "code",
      "source": [
        "# Plotting the training and validation losses\n",
        "plt.plot(range(1, epochs + 1), train_losses[0:4], label='Training Loss')\n",
        "plt.plot(range(1, epochs + 1), val_losses[0:4], label='Validation Loss')\n",
        "plt.xlabel('Epochs')\n",
        "plt.ylabel('Loss')\n",
        "plt.title('Training and Validation Losses')\n",
        "plt.legend()\n",
        "plt.show()"
      ],
      "metadata": {
        "colab": {
          "base_uri": "https://localhost:8080/",
          "height": 472
        },
        "id": "RtVNqSiuFou8",
        "outputId": "53958399-b4b8-4f56-9589-edad9dc5c155"
      },
      "execution_count": 19,
      "outputs": [
        {
          "output_type": "display_data",
          "data": {
            "text/plain": [
              "<Figure size 640x480 with 1 Axes>"
            ],
            "image/png": "[encoded data removed]"
          },
          "metadata": {}
        }
      ]
    },
    {
      "cell_type": "code",
      "source": [
        "model_load_path = os.path.join('/content/saved_models/', f'model_epoch_3.h5')\n",
        "model.load_weights(model_load_path)\n",
        "print(f\"Loaded checkpoint from epoch 3\")\n",
        "print(model)"
      ],
      "metadata": {
        "colab": {
          "base_uri": "https://localhost:8080/"
        },
        "id": "CvW3_gkE1rkS",
        "outputId": "8dde10b3-8cd7-4988-94c8-848150f6c631"
      },
      "execution_count": 20,
      "outputs": [
        {
          "output_type": "stream",
          "name": "stdout",
          "text": [
            "Loaded checkpoint from epoch 3\n",
            "<keras.src.engine.sequential.Sequential object at 0x78432c31ad10>\n"
          ]
        }
      ]
    },
    {
      "cell_type": "code",
      "source": [
        "test_gen = data_generator(test_df, batch_size=32)"
      ],
      "metadata": {
        "id": "hxKsDg4cNX3o"
      },
      "execution_count": 22,
      "outputs": []
    },
    {
      "cell_type": "code",
      "source": [
        "validation_steps = len(test_df) // 32\n",
        "if len(test_df) % 32 != 0:\n",
        "      validation_steps += 1  # To include the last smaller batch"
      ],
      "metadata": {
        "id": "OM4KhWfzHtWN"
      },
      "execution_count": 23,
      "outputs": []
    },
    {
      "cell_type": "code",
      "source": [
        "test_loss, test_accuracy = model.evaluate(test_gen, steps=validation_steps)\n",
        "\n",
        "# Resetting the validation generator\n",
        "test_preds = model.predict(test_gen, steps=validation_steps)\n",
        "\n",
        "# Convert probabilities to binary values\n",
        "test_preds_binary = (test_preds > 0.5).astype(int)\n",
        "\n",
        "# Truncate the labels to match the number of predictions\n",
        "test_labels = np.array(test_df['labels'].tolist())[:len(test_preds_binary)]\n",
        "\n",
        "\n",
        "# Custom metrics\n",
        "f1 = f1_score(test_labels, test_preds_binary, average='micro')\n",
        "precision = precision_score(test_labels, test_preds_binary, average='micro')\n",
        "recall = recall_score(test_labels, test_preds_binary, average='micro')\n",
        "hamming = hamming_loss(test_labels, test_preds_binary)\n",
        "ema_accuracy, exact_match_genres, exact_match_moods = exact_match_accuracy(test_labels, test_preds_binary)\n",
        "\n",
        "print(f\" - val_loss: {test_loss:.4f} - val_accuracy: {test_accuracy:.4f}\")\n",
        "print(f\" - F1 Score: {f1:.4f} - Precision: {precision:.4f} - Recall: {recall:.4f}\")\n",
        "print(f\" - Hamming Loss: {hamming:.4f}\")\n",
        "print(f\" - Exact Match Accuracy: {ema_accuracy:.4f}\")\n",
        "print(f\" - Exact Match Genres: {exact_match_genres:.4f} - Exact Match Moods: {exact_match_moods:.4f}\")\n",
        "\n"
      ],
      "metadata": {
        "colab": {
          "base_uri": "https://localhost:8080/"
        },
        "id": "5uJTcTiyH9Vu",
        "outputId": "d1eae061-03f2-4233-d1f4-e3237e9b16dd"
      },
      "execution_count": 25,
      "outputs": [
        {
          "output_type": "stream",
          "name": "stdout",
          "text": [
            "13/13 [==============================] - 35s 3s/step - loss: 1.3194 - accuracy: 0.1708\n",
            "13/13 [==============================] - 36s 3s/step\n",
            " - val_loss: 1.3194 - val_accuracy: 0.1708\n",
            " - F1 Score: 0.2327 - Precision: 0.2562 - Recall: 0.2132\n",
            " - Hamming Loss: 0.2816\n",
            " - Exact Match Accuracy: 0.0223\n",
            " - Exact Match Genres: 0.1708 - Exact Match Moods: 0.2970\n"
          ]
        }
      ]
    },
    {
      "cell_type": "code",
      "source": [],
      "metadata": {
        "id": "yX3QI01uItJE"
      },
      "execution_count": null,
      "outputs": []
    }
  ]
}