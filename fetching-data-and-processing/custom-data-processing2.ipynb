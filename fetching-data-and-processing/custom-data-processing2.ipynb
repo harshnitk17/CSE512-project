{
  "nbformat": 4,
  "nbformat_minor": 0,
  "metadata": {
    "colab": {
      "provenance": []
    },
    "kernelspec": {
      "name": "python3",
      "display_name": "Python 3"
    },
    "language_info": {
      "name": "python"
    }
  },
  "cells": [
    {
      "cell_type": "code",
      "execution_count": null,
      "metadata": {
        "colab": {
          "base_uri": "https://localhost:8080/"
        },
        "id": "Ms2AJMIx61mM",
        "outputId": "160a832b-c991-4ed9-b670-a5cf6ec80996"
      },
      "outputs": [
        {
          "output_type": "stream",
          "name": "stdout",
          "text": [
            "Archive:  /content/drive/MyDrive/MLProject/genius_lyrics.zip\n",
            "  inflating: ./song_lyrics.csv       \n"
          ]
        }
      ],
      "source": [
        "!unzip /content/drive/MyDrive/MLProject/genius_lyrics.zip -d ."
      ]
    },
    {
      "cell_type": "code",
      "source": [
        "import pandas as pd\n",
        "file_path = 'song_lyrics.csv'"
      ],
      "metadata": {
        "id": "uQ5miisS7dJK"
      },
      "execution_count": null,
      "outputs": []
    },
    {
      "cell_type": "code",
      "source": [
        "chunksize = 10000  # Adjust this depending on the size of your file and available memory\n",
        "filtered_data = []\n",
        "\n",
        "for chunk in pd.read_csv(file_path, chunksize=chunksize, usecols=['id', 'lyrics', 'language_ft','title','artist']):\n",
        "    filtered_chunk = chunk[chunk['language_ft'] == 'en']\n",
        "    filtered_data.append(filtered_chunk)\n",
        "\n",
        "final_df = pd.concat(filtered_data, ignore_index=True)"
      ],
      "metadata": {
        "id": "fjSUFALH7eVB"
      },
      "execution_count": null,
      "outputs": []
    },
    {
      "cell_type": "code",
      "source": [
        "final_df[final_df['id']==3278026]['artist']"
      ],
      "metadata": {
        "colab": {
          "base_uri": "https://localhost:8080/"
        },
        "id": "ihP0LigXKUh-",
        "outputId": "4e63abe6-32eb-4d95-c7f8-2bc8018dfa62"
      },
      "execution_count": null,
      "outputs": [
        {
          "output_type": "execute_result",
          "data": {
            "text/plain": [
              "1602440    M\n",
              "Name: artist, dtype: object"
            ]
          },
          "metadata": {},
          "execution_count": 8
        }
      ]
    },
    {
      "cell_type": "code",
      "source": [
        "print (final_df.head())"
      ],
      "metadata": {
        "colab": {
          "base_uri": "https://localhost:8080/"
        },
        "id": "DL3Xgife7lQQ",
        "outputId": "6e710737-68c4-4fc4-9f08-7145cec0eefc"
      },
      "execution_count": null,
      "outputs": [
        {
          "output_type": "stream",
          "name": "stdout",
          "text": [
            "               title  tag     artist  id language_ft\n",
            "0          Killa Cam  rap    Cam'ron   1          en\n",
            "1         Can I Live  rap      JAY-Z   3          en\n",
            "2  Forgive Me Father  rap   Fabolous   4          en\n",
            "3       Down and Out  rap    Cam'ron   5          en\n",
            "4             Fly In  rap  Lil Wayne   6          en\n"
          ]
        }
      ]
    },
    {
      "cell_type": "code",
      "source": [
        "final_df.dropna(subset=['title','artist','id'], inplace=True)"
      ],
      "metadata": {
        "id": "B9ng1zPb7qUU"
      },
      "execution_count": null,
      "outputs": []
    },
    {
      "cell_type": "code",
      "source": [
        "import re\n",
        "def preprocess_column(column):\n",
        "    column = column.str.replace(r\"\\(.*\\)\", \"\", regex=True)\n",
        "    column = column.str.replace(r\"\\[.*\\]\", \"\", regex=True)\n",
        "    column = column.str.replace(r\"\\{.*\\}\", \"\", regex=True)\n",
        "    column = column.str.replace(r\"[^a-zA-Z0-9\\s]\", \"\", regex=True)\n",
        "    column = column.str.replace(r\"\\s+\", \"\", regex=True)\n",
        "    column = column.str.lower()\n",
        "    column = column.str.replace(\"remix\", \"\")\n",
        "    column = column.str.replace(\"feat\", \"\")\n",
        "    column = column.str.replace(\"ft.\", \"\")\n",
        "    column = column.str.replace(\"ft\\.\", \"\")\n",
        "    column = column.str.replace(\"ft\", \"\")\n",
        "    return column"
      ],
      "metadata": {
        "id": "_7xWWBir7uFm"
      },
      "execution_count": null,
      "outputs": []
    },
    {
      "cell_type": "code",
      "source": [
        "tracks_df = pd.read_csv('output3.csv')"
      ],
      "metadata": {
        "id": "UwEzqwhC8B04"
      },
      "execution_count": null,
      "outputs": []
    },
    {
      "cell_type": "code",
      "source": [
        "print (tracks_df.head())"
      ],
      "metadata": {
        "colab": {
          "base_uri": "https://localhost:8080/"
        },
        "id": "9pRrsfw68FXs",
        "outputId": "60f54f1b-9568-43f5-f6f7-96540e9e87d3"
      },
      "execution_count": null,
      "outputs": [
        {
          "output_type": "stream",
          "name": "stdout",
          "text": [
            "      video_id                                          file_name  \\\n",
            "0  -1K1j3tUt6g         -1K1j3tUt6g#rock#Storywriter-Supercar.webm   \n",
            "1  -2jkPmVwow4  -2jkPmVwow4#rock#Aya - Rojou No Kage (Shadows ...   \n",
            "2  -6MbrH_fbT8  -6MbrH_fbT8#rock#Andra And The Backbone - Hita...   \n",
            "3  -i2Kn-EXh_A  -i2Kn-EXh_A#rock#Super Furry Animals - (Drawin...   \n",
            "4  -jidITdmeNM        -jidITdmeNM#rock#Nell (넬) - Good Night.webm   \n",
            "\n",
            "                              recording_ids                  artist  \\\n",
            "0  ['1d2db7a9-4638-4bf2-a960-fd098cb25582']                SUPERCAR   \n",
            "1  ['36ff749e-a832-48fb-9d29-d575820055d6']                      亜矢   \n",
            "2  ['30c4088d-483b-4df1-b85e-22ec4e464700']  Andra and the BackBone   \n",
            "3  ['d0ee5f7b-cf80-4f2d-8170-f288450cdd77']     Super Furry Animals   \n",
            "4  ['e95fa370-6ad0-437c-9d3a-0c097cc1a6e6']                    Nell   \n",
            "\n",
            "                              title    genres      processed_title  \\\n",
            "0                       STORYWRITER  ['rock']          storywriter   \n",
            "1                              路上の影  ['rock']                        \n",
            "2                           Hitamku  ['rock']              hitamku   \n",
            "3  (Drawing) Rings Around the World  ['rock']  ringsaroundtheworld   \n",
            "4                        Good Night  ['rock']            goodnight   \n",
            "\n",
            "      processed_artist  \n",
            "0             supercar  \n",
            "1                       \n",
            "2  andraandthebackbone  \n",
            "3    superfurryanimals  \n",
            "4                 nell  \n"
          ]
        }
      ]
    },
    {
      "cell_type": "code",
      "source": [
        "for col in ['title', 'artist']:\n",
        "    final_df[f'processed_{col}'] = preprocess_column(final_df[col])\n",
        "    tracks_df[f'processed_{col}'] = preprocess_column(tracks_df[col])"
      ],
      "metadata": {
        "id": "ddu3Ys4U8IBj"
      },
      "execution_count": null,
      "outputs": []
    },
    {
      "cell_type": "code",
      "source": [
        "print (final_df.tail())\n",
        "print (final_df.shape)"
      ],
      "metadata": {
        "colab": {
          "base_uri": "https://localhost:8080/"
        },
        "id": "cjlWJqBw8KtS",
        "outputId": "255295e5-c35f-4f95-874e-a53fbbd9bb20"
      },
      "execution_count": null,
      "outputs": [
        {
          "output_type": "stream",
          "name": "stdout",
          "text": [
            "                             title      tag                    artist  \\\n",
            "3415309  Everything Is Alright Now      pop             Chuck Bernard   \n",
            "3415310                 White Lies      pop                  ElementD   \n",
            "3415311                      Ocean      pop                   Effemar   \n",
            "3415312            Raise Our Hands      pop  Culture Code, Pag & Mylo   \n",
            "3415313                 New Number  country         Alana Springsteen   \n",
            "\n",
            "              id language_ft         processed_title    processed_artist  \n",
            "3415309  7882838          en  everythingisalrightnow        chuckbernard  \n",
            "3415310  7882840          en               whitelies            elementd  \n",
            "3415311  7882842          en                   ocean             effemar  \n",
            "3415312  7882845          en           raiseourhands  culturecodepagmylo  \n",
            "3415313  7882848          en               newnumber    alanaspringsteen  \n",
            "(3415205, 7)\n"
          ]
        }
      ]
    },
    {
      "cell_type": "code",
      "source": [
        "print (tracks_df.head())\n",
        "print (tracks_df.shape)"
      ],
      "metadata": {
        "colab": {
          "base_uri": "https://localhost:8080/"
        },
        "id": "86QBiobd8NIg",
        "outputId": "4a5421ae-5340-4732-d491-9db1d951c0a8"
      },
      "execution_count": null,
      "outputs": [
        {
          "output_type": "stream",
          "name": "stdout",
          "text": [
            "      video_id                                          file_name  \\\n",
            "0  -1K1j3tUt6g         -1K1j3tUt6g#rock#Storywriter-Supercar.webm   \n",
            "1  -2jkPmVwow4  -2jkPmVwow4#rock#Aya - Rojou No Kage (Shadows ...   \n",
            "2  -6MbrH_fbT8  -6MbrH_fbT8#rock#Andra And The Backbone - Hita...   \n",
            "3  -i2Kn-EXh_A  -i2Kn-EXh_A#rock#Super Furry Animals - (Drawin...   \n",
            "4  -jidITdmeNM        -jidITdmeNM#rock#Nell (넬) - Good Night.webm   \n",
            "\n",
            "                              recording_ids                  artist  \\\n",
            "0  ['1d2db7a9-4638-4bf2-a960-fd098cb25582']                SUPERCAR   \n",
            "1  ['36ff749e-a832-48fb-9d29-d575820055d6']                      亜矢   \n",
            "2  ['30c4088d-483b-4df1-b85e-22ec4e464700']  Andra and the BackBone   \n",
            "3  ['d0ee5f7b-cf80-4f2d-8170-f288450cdd77']     Super Furry Animals   \n",
            "4  ['e95fa370-6ad0-437c-9d3a-0c097cc1a6e6']                    Nell   \n",
            "\n",
            "                              title    genres      processed_title  \\\n",
            "0                       STORYWRITER  ['rock']          storywriter   \n",
            "1                              路上の影  ['rock']                        \n",
            "2                           Hitamku  ['rock']              hitamku   \n",
            "3  (Drawing) Rings Around the World  ['rock']  ringsaroundtheworld   \n",
            "4                        Good Night  ['rock']            goodnight   \n",
            "\n",
            "      processed_artist  \n",
            "0             supercar  \n",
            "1                       \n",
            "2  andraandthebackbone  \n",
            "3    superfurryanimals  \n",
            "4                 nell  \n",
            "(2137, 8)\n"
          ]
        }
      ]
    },
    {
      "cell_type": "code",
      "source": [
        "merged_df = pd.merge(tracks_df,final_df, left_on='processed_title', right_on='processed_title', how='inner')"
      ],
      "metadata": {
        "id": "8FQNMnUp8OvZ"
      },
      "execution_count": null,
      "outputs": []
    },
    {
      "cell_type": "code",
      "source": [
        "merged_df.columns"
      ],
      "metadata": {
        "colab": {
          "base_uri": "https://localhost:8080/"
        },
        "id": "qgTPNGed8R2e",
        "outputId": "353338f7-b12f-4bd2-af34-9f390144b475"
      },
      "execution_count": null,
      "outputs": [
        {
          "output_type": "execute_result",
          "data": {
            "text/plain": [
              "Index(['video_id', 'file_name', 'recording_ids', 'artist_x', 'title_x',\n",
              "       'genres', 'processed_title', 'processed_artist_x', 'title_y', 'tag',\n",
              "       'artist_y', 'id', 'language_ft', 'processed_artist_y'],\n",
              "      dtype='object')"
            ]
          },
          "metadata": {},
          "execution_count": 67
        }
      ]
    },
    {
      "cell_type": "code",
      "source": [
        "merged_df.shape"
      ],
      "metadata": {
        "colab": {
          "base_uri": "https://localhost:8080/"
        },
        "id": "7oc6zdx_QBUi",
        "outputId": "0ec8d7dc-6713-42fe-ae7f-c28f96adcb85"
      },
      "execution_count": null,
      "outputs": [
        {
          "output_type": "execute_result",
          "data": {
            "text/plain": [
              "(152197, 14)"
            ]
          },
          "metadata": {},
          "execution_count": 68
        }
      ]
    },
    {
      "cell_type": "code",
      "source": [
        "mask = (merged_df['processed_artist_x'] == '') | (merged_df['processed_artist_y'] == '') | (merged_df['processed_title'] == '')\n",
        "merged_df = merged_df[~mask]\n",
        "print (merged_df.shape)"
      ],
      "metadata": {
        "colab": {
          "base_uri": "https://localhost:8080/"
        },
        "id": "cmBRjE3aWpbs",
        "outputId": "a556e6c9-ab20-4c5b-ea4b-4f3a2d927145"
      },
      "execution_count": null,
      "outputs": [
        {
          "output_type": "stream",
          "name": "stdout",
          "text": [
            "(140204, 14)\n"
          ]
        }
      ]
    },
    {
      "cell_type": "code",
      "source": [
        "merged_df = merged_df[merged_df.apply(lambda row: (row['processed_artist_y'] in row['processed_artist_x']), axis=1)]"
      ],
      "metadata": {
        "id": "xw4PpE-E8UKX"
      },
      "execution_count": null,
      "outputs": []
    },
    {
      "cell_type": "code",
      "source": [
        "print (merged_df.shape)\n",
        "print (merged_df.columns)"
      ],
      "metadata": {
        "colab": {
          "base_uri": "https://localhost:8080/"
        },
        "id": "-YjptdK68vR3",
        "outputId": "a3f5f3b0-7232-4b31-bc10-33f0a9918e7c"
      },
      "execution_count": null,
      "outputs": [
        {
          "output_type": "stream",
          "name": "stdout",
          "text": [
            "(1880, 14)\n",
            "Index(['video_id', 'file_name', 'recording_ids', 'artist_x', 'title_x',\n",
            "       'genres', 'processed_title', 'processed_artist_x', 'title_y', 'tag',\n",
            "       'artist_y', 'id', 'language_ft', 'processed_artist_y'],\n",
            "      dtype='object')\n"
          ]
        }
      ]
    },
    {
      "cell_type": "code",
      "source": [
        "print (merged_df.head())"
      ],
      "metadata": {
        "colab": {
          "base_uri": "https://localhost:8080/"
        },
        "id": "CM9W-JNFQWgw",
        "outputId": "42905cec-516c-48e4-d97b-96075530fd02"
      },
      "execution_count": null,
      "outputs": [
        {
          "output_type": "stream",
          "name": "stdout",
          "text": [
            "          video_id                                          file_name  \\\n",
            "11304  -i2Kn-EXh_A  -i2Kn-EXh_A#rock#Super Furry Animals - (Drawin...   \n",
            "11612  -JJAXwAaA2w  -JJAXwAaA2w#rock#Placebo - The Bitter End (Off...   \n",
            "11657  -nqRkAsZumc            -nqRkAsZumc#rock#Incubus - Stellar.webm   \n",
            "11683  -Ue193sAcrE  -Ue193sAcrE#rock#Maximo Park - Apply Some Pres...   \n",
            "11686  -_EprMTJPWA  -_EprMTJPWA#rock#Idlewild - American English.webm   \n",
            "\n",
            "                                           recording_ids             artist_x  \\\n",
            "11304           ['d0ee5f7b-cf80-4f2d-8170-f288450cdd77']  Super Furry Animals   \n",
            "11612  ['3d76b996-e1fd-45e9-bfa4-82938799a9e8', '62ca...              Placebo   \n",
            "11657  ['0b3773b6-771b-4da8-ab0e-c2810fb57dbb', '10b6...              Incubus   \n",
            "11683           ['564198ac-e29d-47ea-beca-d862bc126cfd']          Maxïmo Park   \n",
            "11686  ['471b19b8-78b5-47a1-a407-1f8ea8a27724', '905e...             Idlewild   \n",
            "\n",
            "                                title_x    genres      processed_title  \\\n",
            "11304  (Drawing) Rings Around the World  ['rock']  ringsaroundtheworld   \n",
            "11612                    The Bitter End  ['rock']         thebitterend   \n",
            "11657                Stellar (acoustic)  ['rock']              stellar   \n",
            "11683  Apply Some Pressure (radio edit)  ['rock']    applysomepressure   \n",
            "11686                  American English  ['rock']      americanenglish   \n",
            "\n",
            "      processed_artist_x                 title_y   tag             artist_y  \\\n",
            "11304  superfurryanimals  Rings Around The World   pop  Super Furry Animals   \n",
            "11612            placebo          The Bitter End  rock              Placebo   \n",
            "11657            incubus                 Stellar  rock              Incubus   \n",
            "11683          maxmopark     Apply Some Pressure  rock           Maxmo Park   \n",
            "11686           idlewild        American English   pop             Idlewild   \n",
            "\n",
            "            id language_ft processed_artist_y  \n",
            "11304   820634          en  superfurryanimals  \n",
            "11612   453094          en            placebo  \n",
            "11657   337741          en            incubus  \n",
            "11683   332496          en          maxmopark  \n",
            "11686  1728125          en           idlewild  \n"
          ]
        }
      ]
    },
    {
      "cell_type": "code",
      "source": [
        "new_df = merged_df[['title_x','artist_x','id', 'video_id', 'genres', 'tag', 'file_name','recording_ids']].rename(columns={'id': 'genius_id', 'artist_x': 'artist' , 'title_x': 'title' , 'tag': 'genres_genius' , 'genres': 'genres_self'})\n",
        "print (new_df.shape)"
      ],
      "metadata": {
        "colab": {
          "base_uri": "https://localhost:8080/"
        },
        "id": "27lXs1-38wAu",
        "outputId": "01471410-bfdd-4754-eb46-c6856c8444d3"
      },
      "execution_count": null,
      "outputs": [
        {
          "output_type": "stream",
          "name": "stdout",
          "text": [
            "(1880, 8)\n"
          ]
        }
      ]
    },
    {
      "cell_type": "code",
      "source": [
        "!pip install musicbrainzngs"
      ],
      "metadata": {
        "colab": {
          "base_uri": "https://localhost:8080/"
        },
        "id": "5R-_RV0mDHra",
        "outputId": "0419635f-2e28-4bce-bc53-7fa31a2b53bc"
      },
      "execution_count": null,
      "outputs": [
        {
          "output_type": "stream",
          "name": "stdout",
          "text": [
            "Collecting musicbrainzngs\n",
            "  Downloading musicbrainzngs-0.7.1-py2.py3-none-any.whl (25 kB)\n",
            "Installing collected packages: musicbrainzngs\n",
            "Successfully installed musicbrainzngs-0.7.1\n"
          ]
        }
      ]
    },
    {
      "cell_type": "code",
      "source": [
        "import requests\n",
        "import musicbrainzngs as mb\n",
        "import time\n",
        "import ast\n",
        "mb.set_useragent(\"Fetching-genres-cse512-project\", \"0.1\", \"xyz@abc.com\")"
      ],
      "metadata": {
        "id": "O5etaTfBDE0B"
      },
      "execution_count": null,
      "outputs": []
    },
    {
      "cell_type": "code",
      "source": [
        "def fetch_high_level_data(recording_ids, attempts):\n",
        "    base_url = \"https://acousticbrainz.org/api/v1/high-level\"\n",
        "    params = {'recording_ids': ';'.join(recording_ids)}\n",
        "    try:\n",
        "        response = requests.get(base_url, params=params)\n",
        "        if response.status_code == 200:\n",
        "            res = response.json()\n",
        "            for r_id in recording_ids:\n",
        "                data = res.get(r_id, {})\n",
        "                if data:\n",
        "                    return data, r_id\n",
        "            return {}, ''  # Return empty values if no data is found\n",
        "        else:\n",
        "            if attempts == 0:\n",
        "                time.sleep(1)\n",
        "                return fetch_high_level_data(recording_ids, 1)\n",
        "            else:\n",
        "                return {}, ''  # Return empty values if status code is not 200\n",
        "    except Exception as e:\n",
        "        if attempts == 0:\n",
        "            time.sleep(1)\n",
        "            return fetch_high_level_data(recording_ids, 1)\n",
        "        else:\n",
        "            time.sleep(1)\n",
        "            return {}, ''  # Return empty values in case of an exception\n"
      ],
      "metadata": {
        "id": "Fm6-kQGaDXol"
      },
      "execution_count": null,
      "outputs": []
    },
    {
      "cell_type": "code",
      "source": [
        "def get_mood_and_genre(data):\n",
        "    data = data.get('0', {})\n",
        "    genre = data.get('metadata', {}).get('tags',{}).get('genre','')\n",
        "    data = data.get('highlevel', {})\n",
        "    if not data:\n",
        "        return [],genre\n",
        "    mood_scores = {\n",
        "        \"dance\": data.get(\"danceability\", {}).get(\"all\", {}).get(\"danceable\",0),\n",
        "        \"aggressive\": data.get(\"mood_aggressive\", {}).get(\"all\", {}).get(\"aggressive\", 0),\n",
        "        \"happy\": data.get(\"mood_happy\", {}).get(\"all\", {}).get(\"happy\", 0),\n",
        "        \"party\": data.get(\"mood_party\", {}).get(\"all\", {}).get(\"party\", 0),\n",
        "        \"relaxed\": data.get(\"mood_relaxed\", {}).get(\"all\", {}).get(\"relaxed\", 0),\n",
        "        \"sad\": data.get(\"mood_sad\", {}).get(\"all\", {}).get(\"sad\", 0)\n",
        "    }\n",
        "    if mood_scores['happy'] > mood_scores['sad']:\n",
        "        mood_scores.pop('sad', None)\n",
        "    else:\n",
        "        mood_scores.pop('happy', None)\n",
        "\n",
        "    filtered_moods = {mood: score for mood, score in mood_scores.items() if score > 0.5}\n",
        "    if not filtered_moods:\n",
        "        return [],genre\n",
        "\n",
        "    sorted_moods = sorted(filtered_moods, key=filtered_moods.get, reverse=True)\n",
        "    return sorted_moods[:3],genre"
      ],
      "metadata": {
        "id": "zsFgCqNWFCo5"
      },
      "execution_count": null,
      "outputs": []
    },
    {
      "cell_type": "code",
      "source": [
        "def get_genre_by_recording_ids(recording_ids):\n",
        "    for recording_id in recording_ids:\n",
        "      try:\n",
        "        result = mb.get_recording_by_id(recording_id, includes=[\"tags\"])\n",
        "        tags = result.get('recording', {}).get('tag-list',[])\n",
        "        if tags:\n",
        "          return sorted([(tag['count'], tag['name']) for tag in tags], reverse=True)\n",
        "      except Exception as e:\n",
        "        time.sleep(0.5)\n",
        "        continue\n",
        "    return []"
      ],
      "metadata": {
        "id": "yOuC0fgzJY3o"
      },
      "execution_count": null,
      "outputs": []
    },
    {
      "cell_type": "code",
      "source": [
        "new_df.shape"
      ],
      "metadata": {
        "colab": {
          "base_uri": "https://localhost:8080/"
        },
        "id": "stJHjRngVUv8",
        "outputId": "5bda3484-1829-4af4-dbeb-cf0b6eba4614"
      },
      "execution_count": null,
      "outputs": [
        {
          "output_type": "execute_result",
          "data": {
            "text/plain": [
              "(1880, 8)"
            ]
          },
          "metadata": {},
          "execution_count": 77
        }
      ]
    },
    {
      "cell_type": "code",
      "source": [
        "c=0\n",
        "selected_mbid_list = []\n",
        "mood_list = []\n",
        "genres_mb_list = []\n",
        "genres_ab_list = []\n",
        "\n",
        "for index, row in new_df.iterrows():\n",
        "  try:\n",
        "    high_level_data = {}\n",
        "    selected_mbid = ''\n",
        "    moods = []\n",
        "    genre_ab = []\n",
        "    genre_mb = []\n",
        "\n",
        "    recording_ids = ast.literal_eval(row['recording_ids'])\n",
        "    high_level_data , selected_mbid = fetch_high_level_data(recording_ids,0)\n",
        "    moods , genre_ab = get_mood_and_genre(high_level_data)\n",
        "    genre_mb = get_genre_by_recording_ids(recording_ids)[:3]\n",
        "\n",
        "    selected_mbid_list.append(selected_mbid)\n",
        "    mood_list.append(moods)\n",
        "    genres_ab_list.append(genre_ab)\n",
        "    genres_mb_list.append(genre_mb)\n",
        "\n",
        "  except Exception as e:\n",
        "    print (e)\n",
        "    selected_mbid_list.append(selected_mbid)\n",
        "    mood_list.append(moods)\n",
        "    genres_ab_list.append(genre_ab)\n",
        "    genres_mb_list.append(genre_mb)\n",
        "    continue\n",
        "\n",
        "  c+=1\n",
        "  if c%25==0:\n",
        "    print (f\"Done: {c*100/1880}%\")"
      ],
      "metadata": {
        "colab": {
          "base_uri": "https://localhost:8080/"
        },
        "id": "FjPVgi5ZAaDw",
        "outputId": "dc8ba0dd-dbf7-46ca-eb4f-ad12adf5a6bb"
      },
      "execution_count": null,
      "outputs": [
        {
          "output_type": "stream",
          "name": "stdout",
          "text": [
            "Done: 1.3297872340425532%\n",
            "Done: 2.6595744680851063%\n",
            "Done: 3.9893617021276597%\n",
            "Done: 5.319148936170213%\n",
            "Done: 6.648936170212766%\n",
            "Done: 7.9787234042553195%\n",
            "Done: 9.308510638297872%\n",
            "Done: 10.638297872340425%\n",
            "Done: 11.96808510638298%\n",
            "Done: 13.297872340425531%\n",
            "Done: 14.627659574468085%\n",
            "Done: 15.957446808510639%\n",
            "Done: 17.28723404255319%\n",
            "Done: 18.617021276595743%\n",
            "Done: 19.9468085106383%\n",
            "Done: 21.27659574468085%\n",
            "Done: 22.606382978723403%\n",
            "Done: 23.93617021276596%\n",
            "Done: 25.26595744680851%\n",
            "Done: 26.595744680851062%\n",
            "Done: 27.925531914893618%\n",
            "Done: 29.25531914893617%\n",
            "Done: 30.585106382978722%\n",
            "Done: 31.914893617021278%\n",
            "Done: 33.244680851063826%\n",
            "Done: 34.57446808510638%\n",
            "Done: 35.90425531914894%\n",
            "Done: 37.234042553191486%\n",
            "Done: 38.56382978723404%\n",
            "Done: 39.8936170212766%\n",
            "Done: 41.223404255319146%\n",
            "Done: 42.5531914893617%\n",
            "Done: 43.88297872340426%\n",
            "Done: 45.212765957446805%\n",
            "Done: 46.54255319148936%\n",
            "Done: 47.87234042553192%\n",
            "Done: 49.202127659574465%\n",
            "Done: 50.53191489361702%\n",
            "Done: 51.861702127659576%\n",
            "Done: 53.191489361702125%\n",
            "Done: 54.52127659574468%\n",
            "Done: 55.851063829787236%\n",
            "Done: 57.180851063829785%\n",
            "Done: 58.51063829787234%\n",
            "Done: 59.840425531914896%\n",
            "Done: 61.170212765957444%\n",
            "Done: 62.5%\n",
            "Done: 63.829787234042556%\n",
            "Done: 65.15957446808511%\n",
            "Done: 66.48936170212765%\n",
            "Done: 67.81914893617021%\n",
            "Done: 69.14893617021276%\n",
            "Done: 70.47872340425532%\n",
            "Done: 71.80851063829788%\n",
            "Done: 73.13829787234043%\n",
            "Done: 74.46808510638297%\n",
            "Done: 75.79787234042553%\n",
            "Done: 77.12765957446808%\n",
            "Done: 78.45744680851064%\n",
            "Done: 79.7872340425532%\n",
            "Done: 81.11702127659575%\n",
            "Done: 82.44680851063829%\n",
            "Done: 83.77659574468085%\n",
            "Done: 85.1063829787234%\n",
            "Done: 86.43617021276596%\n",
            "Done: 87.76595744680851%\n",
            "Done: 89.09574468085107%\n",
            "Done: 90.42553191489361%\n",
            "Done: 91.75531914893617%\n",
            "Done: 93.08510638297872%\n",
            "Done: 94.41489361702128%\n",
            "Done: 95.74468085106383%\n",
            "Done: 97.07446808510639%\n",
            "Done: 98.40425531914893%\n",
            "Done: 99.73404255319149%\n"
          ]
        }
      ]
    },
    {
      "cell_type": "code",
      "source": [
        "new_df['selected_mbid'] = selected_mbid_list\n",
        "new_df['mood'] = mood_list\n",
        "new_df['genres_mb'] = genres_mb_list\n",
        "new_df['genres_ab'] = genres_ab_list"
      ],
      "metadata": {
        "id": "NXq0jpfiMI3i"
      },
      "execution_count": null,
      "outputs": []
    },
    {
      "cell_type": "code",
      "source": [
        "file_path = '/content/drive/MyDrive/new_df2.csv'\n",
        "new_df.to_csv(file_path, index=False)"
      ],
      "metadata": {
        "id": "dEv8H5GWMX9i"
      },
      "execution_count": null,
      "outputs": []
    },
    {
      "cell_type": "code",
      "source": [
        "tracks_df = pd.read_csv('/content/drive/MyDrive/MLProject/songs.csv')"
      ],
      "metadata": {
        "id": "pl6M_s7xDp4c"
      },
      "execution_count": null,
      "outputs": []
    },
    {
      "cell_type": "code",
      "source": [
        "print (final_df.shape)\n",
        "print (tracks_df.shape)"
      ],
      "metadata": {
        "colab": {
          "base_uri": "https://localhost:8080/"
        },
        "id": "kAxsQRqbD0tx",
        "outputId": "e7ba0a96-4415-4a63-f5b8-dd1e1764db9b"
      },
      "execution_count": null,
      "outputs": [
        {
          "output_type": "stream",
          "name": "stdout",
          "text": [
            "(3415314, 3)\n",
            "(1880, 12)\n"
          ]
        }
      ]
    },
    {
      "cell_type": "code",
      "source": [
        "final_df.dropna(subset=['id'], inplace=True)\n",
        "tracks_df.dropna(subset=['genius_id'] , inplace=True)"
      ],
      "metadata": {
        "id": "L-8rKgqMEGeL"
      },
      "execution_count": null,
      "outputs": []
    },
    {
      "cell_type": "code",
      "source": [
        "merged_df = pd.merge(tracks_df , final_df , how=\"inner\" , left_on=\"genius_id\" ,right_on='id')\n",
        "print (merged_df.shape)\n",
        "print (merged_df.columns)"
      ],
      "metadata": {
        "colab": {
          "base_uri": "https://localhost:8080/"
        },
        "id": "oBDynW2HD6Y-",
        "outputId": "1ce42b9a-58a9-43c4-8a06-1537e4c8af24"
      },
      "execution_count": null,
      "outputs": [
        {
          "output_type": "stream",
          "name": "stdout",
          "text": [
            "(1880, 15)\n",
            "Index(['title', 'artist', 'genius_id', 'video_id', 'genres_self',\n",
            "       'genres_genius', 'file_name', 'recording_ids', 'selected_mbid', 'mood',\n",
            "       'genres_mb', 'genres_ab', 'lyrics', 'id', 'language_ft'],\n",
            "      dtype='object')\n"
          ]
        }
      ]
    },
    {
      "cell_type": "code",
      "source": [
        "new_df = merged_df[['title', 'artist', 'genius_id', 'video_id', 'genres_self','genres_genius', 'recording_ids', 'selected_mbid', 'mood', 'genres_mb', 'genres_ab', 'lyrics']]\n",
        "print (new_df.shape)"
      ],
      "metadata": {
        "colab": {
          "base_uri": "https://localhost:8080/"
        },
        "id": "wyQYQ6gSEv3D",
        "outputId": "f104e1e9-7801-47f3-d49e-ff83bf4b498e"
      },
      "execution_count": null,
      "outputs": [
        {
          "output_type": "stream",
          "name": "stdout",
          "text": [
            "(1880, 12)\n"
          ]
        }
      ]
    },
    {
      "cell_type": "code",
      "source": [
        "new_df.to_csv('/content/drive/MyDrive/MLProject/lyrics.csv', index=False)"
      ],
      "metadata": {
        "id": "dQKT0qi_HPnP"
      },
      "execution_count": null,
      "outputs": []
    }
  ]
}