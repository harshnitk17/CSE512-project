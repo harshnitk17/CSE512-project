{
  "nbformat": 4,
  "nbformat_minor": 0,
  "metadata": {
    "colab": {
      "provenance": []
    },
    "kernelspec": {
      "name": "python3",
      "display_name": "Python 3"
    },
    "language_info": {
      "name": "python"
    }
  },
  "cells": [
    {
      "cell_type": "code",
      "execution_count": null,
      "metadata": {
        "id": "3qXysIrry0tg"
      },
      "outputs": [],
      "source": [
        "!cp /content/drive/MyDrive/MLProject/archive.zip ."
      ]
    },
    {
      "cell_type": "code",
      "source": [
        "!unzip archive.zip"
      ],
      "metadata": {
        "colab": {
          "base_uri": "https://localhost:8080/"
        },
        "id": "scE6UfwUzAkj",
        "outputId": "50eeec79-659f-4486-99fd-4debbb322d42"
      },
      "execution_count": null,
      "outputs": [
        {
          "output_type": "stream",
          "name": "stdout",
          "text": [
            "Archive:  archive.zip\n",
            "  inflating: song_lyrics.csv         \n"
          ]
        }
      ]
    },
    {
      "cell_type": "code",
      "source": [
        "import pandas as pd\n",
        "file_path = 'song_lyrics.csv'"
      ],
      "metadata": {
        "id": "AdFWk01ezCyR"
      },
      "execution_count": null,
      "outputs": []
    },
    {
      "cell_type": "code",
      "source": [
        "chunksize = 10000  # Adjust this depending on the size of your file and available memory\n",
        "filtered_data = []\n",
        "\n",
        "for chunk in pd.read_csv(file_path, chunksize=chunksize, usecols=['id', 'title', 'artist' , 'language_ft']):\n",
        "    filtered_chunk = chunk[chunk['language_ft'] == 'en']\n",
        "    filtered_data.append(filtered_chunk)\n",
        "\n",
        "final_df = pd.concat(filtered_data, ignore_index=True)"
      ],
      "metadata": {
        "id": "bYGYg23JzJ1B"
      },
      "execution_count": null,
      "outputs": []
    },
    {
      "cell_type": "code",
      "source": [
        "print (final_df.head())"
      ],
      "metadata": {
        "colab": {
          "base_uri": "https://localhost:8080/"
        },
        "id": "yNYYb7QkzLIC",
        "outputId": "3989eb76-6823-497c-eb24-1bb46227725c"
      },
      "execution_count": null,
      "outputs": [
        {
          "output_type": "stream",
          "name": "stdout",
          "text": [
            "               title     artist  id language_ft  processed_title  \\\n",
            "0          Killa Cam    Cam'ron   1          en         killacam   \n",
            "1         Can I Live      JAY-Z   3          en         canilive   \n",
            "2  Forgive Me Father   Fabolous   4          en  forgivemefather   \n",
            "3       Down and Out    Cam'ron   5          en       downandout   \n",
            "4             Fly In  Lil Wayne   6          en            flyin   \n",
            "\n",
            "  processed_artist  \n",
            "0           camron  \n",
            "1             jayz  \n",
            "2         fabolous  \n",
            "3           camron  \n",
            "4         lilwayne  \n"
          ]
        }
      ]
    },
    {
      "cell_type": "code",
      "source": [
        "final_df.dropna(subset=['title','artist'], inplace=True)"
      ],
      "metadata": {
        "id": "zJXjjSlpzMy8"
      },
      "execution_count": null,
      "outputs": []
    },
    {
      "cell_type": "code",
      "source": [
        "import re\n",
        "def preprocess_column(column):\n",
        "    column = column.str.replace(r\"\\(.*\\)\", \"\", regex=True)\n",
        "    column = column.str.replace(r\"[^a-zA-Z0-9\\s]\", \"\", regex=True)\n",
        "    column = column.str.replace(r\"\\s+\", \"\", regex=True)\n",
        "    column = column.str.lower()\n",
        "    column = column.str.replace(\"remix\", \"\")\n",
        "    column = column.str.replace(\"feat\", \"\")\n",
        "    column = column.str.replace(\"ft.\", \"\")\n",
        "    column = column.str.replace(\"ft\\.\", \"\")\n",
        "    column = column.str.replace(\"ft\", \"\")\n",
        "    return column"
      ],
      "metadata": {
        "id": "tL-Ey2YezQIV"
      },
      "execution_count": null,
      "outputs": []
    },
    {
      "cell_type": "code",
      "source": [
        "tracks_df = pd.read_csv('output2.csv')"
      ],
      "metadata": {
        "id": "2JPQwJ8f0uLY"
      },
      "execution_count": null,
      "outputs": []
    },
    {
      "cell_type": "code",
      "source": [
        "print (tracks_df.head())"
      ],
      "metadata": {
        "colab": {
          "base_uri": "https://localhost:8080/"
        },
        "id": "wvZiAkbJ1ANk",
        "outputId": "347a4d3b-ea1c-4f28-fc58-49af06522861"
      },
      "execution_count": null,
      "outputs": [
        {
          "output_type": "stream",
          "name": "stdout",
          "text": [
            "                                           file_name  \\\n",
            "0  #SELFIE (Official Music Video) - The Chainsmok...   \n",
            "1  'Big Rock Candy Mountain' Burl Ives-Jx3lYqTAln...   \n",
            "2  'Round Midnight - Thelonious Monk (1947)-zre0u...   \n",
            "3  01. Mariah Carey - Vision Of Love-D_i7_cWINPI....   \n",
            "4  1913 Massacre Ramblin' Jack Elliott-BJWfHRcdSA...   \n",
            "\n",
            "                                       recording_ids                 artist  \\\n",
            "0  ['628e8408-e54f-4f04-904f-5aebfd0ed476', '6e3e...       The Chainsmokers   \n",
            "1           ['83a29d67-b013-4b4c-8f5b-e72b56e1e96f']              Burl Ives   \n",
            "2  ['5c1f90d4-0acf-4417-9061-206d2cfd9f9b', '9ab5...        Thelonious Monk   \n",
            "3  ['8c4b22b3-222b-4cb7-a204-763a9eb9a8bb', '8efa...           Mariah Carey   \n",
            "4           ['e4c7fcbe-61c7-4289-b44e-8d2188b3f57e']  Ramblin’ Jack Elliott   \n",
            "\n",
            "                                               title  \n",
            "0                        #SELFIE (Will Sparks remix)  \n",
            "1  Big Rock Candy Mountain (from Sing Out Sweet L...  \n",
            "2                                     Round Midnight  \n",
            "3                                     Vision of Love  \n",
            "4                                      1913 Massacre  \n"
          ]
        }
      ]
    },
    {
      "cell_type": "code",
      "source": [
        "for col in ['title', 'artist']:\n",
        "    final_df[f'processed_{col}'] = preprocess_column(final_df[col])\n",
        "    tracks_df[f'processed_{col}'] = preprocess_column(tracks_df[col])"
      ],
      "metadata": {
        "colab": {
          "base_uri": "https://localhost:8080/"
        },
        "id": "OfKFDxEu1HCS",
        "outputId": "c94c7bda-70db-4b4d-bd29-e1b9007e6fa0"
      },
      "execution_count": null,
      "outputs": [
        {
          "output_type": "stream",
          "name": "stderr",
          "text": [
            "<ipython-input-37-5d6f549e2164>:9: FutureWarning: The default value of regex will change from True to False in a future version.\n",
            "  column = column.str.replace(\"ft.\", \"\")\n",
            "<ipython-input-37-5d6f549e2164>:10: FutureWarning: The default value of regex will change from True to False in a future version.\n",
            "  column = column.str.replace(\"ft\\.\", \"\")\n",
            "<ipython-input-37-5d6f549e2164>:9: FutureWarning: The default value of regex will change from True to False in a future version.\n",
            "  column = column.str.replace(\"ft.\", \"\")\n",
            "<ipython-input-37-5d6f549e2164>:10: FutureWarning: The default value of regex will change from True to False in a future version.\n",
            "  column = column.str.replace(\"ft\\.\", \"\")\n"
          ]
        }
      ]
    },
    {
      "cell_type": "code",
      "source": [
        "print (final_df.tail())\n",
        "print (final_df.shape)\n"
      ],
      "metadata": {
        "colab": {
          "base_uri": "https://localhost:8080/"
        },
        "id": "Qutay_6_15P-",
        "outputId": "13c98660-6f1f-4712-d4bf-45ffa8b36cec"
      },
      "execution_count": null,
      "outputs": [
        {
          "output_type": "stream",
          "name": "stdout",
          "text": [
            "                             title                    artist       id  \\\n",
            "3415309  Everything Is Alright Now             Chuck Bernard  7882838   \n",
            "3415310                 White Lies                  ElementD  7882840   \n",
            "3415311                      Ocean                   Effemar  7882842   \n",
            "3415312            Raise Our Hands  Culture Code, Pag & Mylo  7882845   \n",
            "3415313                 New Number         Alana Springsteen  7882848   \n",
            "\n",
            "        language_ft         processed_title    processed_artist  \n",
            "3415309          en  everythingisalrightnow        chuckbernard  \n",
            "3415310          en               whitelies            elementd  \n",
            "3415311          en                   ocean             effemar  \n",
            "3415312          en           raiseourhands  culturecodepagmylo  \n",
            "3415313          en               newnumber    alanaspringsteen  \n",
            "(3415205, 6)\n"
          ]
        }
      ]
    },
    {
      "cell_type": "code",
      "source": [
        "print (tracks_df.head())\n",
        "print (tracks_df.shape)"
      ],
      "metadata": {
        "colab": {
          "base_uri": "https://localhost:8080/"
        },
        "id": "GqUB5S7SX0VH",
        "outputId": "3529bb81-b9d6-48f3-f825-13d9cf275265"
      },
      "execution_count": null,
      "outputs": [
        {
          "output_type": "stream",
          "name": "stdout",
          "text": [
            "                                           file_name  \\\n",
            "0  #SELFIE (Official Music Video) - The Chainsmok...   \n",
            "1  'Big Rock Candy Mountain' Burl Ives-Jx3lYqTAln...   \n",
            "2  'Round Midnight - Thelonious Monk (1947)-zre0u...   \n",
            "3  01. Mariah Carey - Vision Of Love-D_i7_cWINPI....   \n",
            "4  1913 Massacre Ramblin' Jack Elliott-BJWfHRcdSA...   \n",
            "\n",
            "                                       recording_ids                 artist  \\\n",
            "0  ['628e8408-e54f-4f04-904f-5aebfd0ed476', '6e3e...       The Chainsmokers   \n",
            "1           ['83a29d67-b013-4b4c-8f5b-e72b56e1e96f']              Burl Ives   \n",
            "2  ['5c1f90d4-0acf-4417-9061-206d2cfd9f9b', '9ab5...        Thelonious Monk   \n",
            "3  ['8c4b22b3-222b-4cb7-a204-763a9eb9a8bb', '8efa...           Mariah Carey   \n",
            "4           ['e4c7fcbe-61c7-4289-b44e-8d2188b3f57e']  Ramblin’ Jack Elliott   \n",
            "\n",
            "                                               title       processed_title  \\\n",
            "0                        #SELFIE (Will Sparks remix)                selfie   \n",
            "1  Big Rock Candy Mountain (from Sing Out Sweet L...  bigrockcandymountain   \n",
            "2                                     Round Midnight         roundmidnight   \n",
            "3                                     Vision of Love          visionoflove   \n",
            "4                                      1913 Massacre          1913massacre   \n",
            "\n",
            "     processed_artist  \n",
            "0     thechainsmokers  \n",
            "1            burlives  \n",
            "2      theloniousmonk  \n",
            "3         mariahcarey  \n",
            "4  ramblinjackelliott  \n",
            "(2139, 6)\n"
          ]
        }
      ]
    },
    {
      "cell_type": "code",
      "source": [
        "merged_df = pd.merge(tracks_df,final_df, left_on='processed_title', right_on='processed_title', how='inner')"
      ],
      "metadata": {
        "id": "2rRC86-E2nIG"
      },
      "execution_count": null,
      "outputs": []
    },
    {
      "cell_type": "code",
      "source": [
        "merged_df.shape"
      ],
      "metadata": {
        "colab": {
          "base_uri": "https://localhost:8080/"
        },
        "id": "utSVeMoVYBaq",
        "outputId": "9864e0ad-6be3-4e59-ec9d-63a097c055f3"
      },
      "execution_count": null,
      "outputs": [
        {
          "output_type": "execute_result",
          "data": {
            "text/plain": [
              "(150396, 11)"
            ]
          },
          "metadata": {},
          "execution_count": 128
        }
      ]
    },
    {
      "cell_type": "code",
      "source": [
        "print (merged_df.tail())"
      ],
      "metadata": {
        "colab": {
          "base_uri": "https://localhost:8080/"
        },
        "id": "ASUuxrfY6FdW",
        "outputId": "fc7ef641-90e8-4661-cf7e-0bd14c677315"
      },
      "execution_count": null,
      "outputs": [
        {
          "output_type": "stream",
          "name": "stdout",
          "text": [
            "                                                file_name  \\\n",
            "150391         ＂Groove＂ Holmes - ＂Misty＂-1OKduoWWWsE.opus   \n",
            "150392  ＂Jumpin' With Symphony Sid＂ by Lester Young-Ru...   \n",
            "150393  ＂Jumpin' With Symphony Sid＂ by Lester Young-Ru...   \n",
            "150394  ＂Untouchable Face＂ Ani Difranco (1996 - Americ...   \n",
            "150395  ＂Untouchable Face＂ Ani Difranco (1996 - Americ...   \n",
            "\n",
            "                                            recording_ids  \\\n",
            "150391  ['3f2e58ea-6095-4c04-a6e6-b2ddd5300015', '7ca7...   \n",
            "150392  ['2f3bfd59-a4f3-4927-ac96-ae7a54f34ba5', '3932...   \n",
            "150393  ['2f3bfd59-a4f3-4927-ac96-ae7a54f34ba5', '3932...   \n",
            "150394  ['f67ad9d1-62f7-4990-b286-4c23c76d3460', 'a62c...   \n",
            "150395  ['f67ad9d1-62f7-4990-b286-4c23c76d3460', 'a62c...   \n",
            "\n",
            "                       artist_x                    title_x  \\\n",
            "150391  Richard “Groove” Holmes                      Misty   \n",
            "150392             Lester Young  Jumpin' With Symphony Sid   \n",
            "150393             Lester Young  Jumpin' With Symphony Sid   \n",
            "150394             Ani DiFranco           Untouchable Face   \n",
            "150395             Ani DiFranco           Untouchable Face   \n",
            "\n",
            "              processed_title   processed_artist_x                   title_y  \\\n",
            "150391                  misty  richardgrooveholmes                     Misty   \n",
            "150392  jumpinwithsymphonysid          lesteryoung  Jumpin With Symphony Sid   \n",
            "150393  jumpinwithsymphonysid          lesteryoung  Jumpin With Symphony Sid   \n",
            "150394        untouchableface          anidifranco          Untouchable Face   \n",
            "150395        untouchableface          anidifranco          Untouchable face   \n",
            "\n",
            "                artist_y       id language_ft processed_artist_y  \n",
            "150391  Sienna Alexandra  7576387          en    siennaalexandra  \n",
            "150392       Joe Jackson   844074          en         joejackson  \n",
            "150393      Van Morrison  1553234          en        vanmorrison  \n",
            "150394      Ani DiFranco   559500          en        anidifranco  \n",
            "150395     Craig Cardiff  6241097          en       craigcardiff  \n"
          ]
        }
      ]
    },
    {
      "cell_type": "code",
      "source": [
        "merged_df = merged_df[merged_df.apply(lambda row: row['processed_artist_y'] in row['processed_artist_x'], axis=1)]\n"
      ],
      "metadata": {
        "id": "2unynuL23GRV"
      },
      "execution_count": null,
      "outputs": []
    },
    {
      "cell_type": "code",
      "source": [
        "merged_df.shape"
      ],
      "metadata": {
        "colab": {
          "base_uri": "https://localhost:8080/"
        },
        "id": "qThyp9XY3tCr",
        "outputId": "c53387e6-b1d8-4160-f23c-d44ea88ea7eb"
      },
      "execution_count": null,
      "outputs": [
        {
          "output_type": "execute_result",
          "data": {
            "text/plain": [
              "(2135, 11)"
            ]
          },
          "metadata": {},
          "execution_count": 131
        }
      ]
    },
    {
      "cell_type": "code",
      "source": [
        "print (merged_df.columns)"
      ],
      "metadata": {
        "colab": {
          "base_uri": "https://localhost:8080/"
        },
        "id": "_DRp1NHJ2x9_",
        "outputId": "1917f53c-6e36-4d0d-a70c-b6abda86f110"
      },
      "execution_count": null,
      "outputs": [
        {
          "output_type": "stream",
          "name": "stdout",
          "text": [
            "Index(['file_name', 'recording_ids', 'artist_x', 'title_x', 'processed_title',\n",
            "       'processed_artist_x', 'title_y', 'artist_y', 'id', 'language_ft',\n",
            "       'processed_artist_y'],\n",
            "      dtype='object')\n"
          ]
        }
      ]
    },
    {
      "cell_type": "code",
      "source": [
        "print (merged_df[['title_x','title_y','artist_x','artist_y','id']].tail())"
      ],
      "metadata": {
        "colab": {
          "base_uri": "https://localhost:8080/"
        },
        "id": "1_y5LUusY8nq",
        "outputId": "b1f8cd2f-c357-4b16-aa0a-3efde8890896"
      },
      "execution_count": null,
      "outputs": [
        {
          "output_type": "stream",
          "name": "stdout",
          "text": [
            "                 title_x           title_y                 artist_x  \\\n",
            "150188     Creeque Alley     Creeque Alley    The Mamas & the Papas   \n",
            "150189      Danny’s Song       Dannys Song        Loggins & Messina   \n",
            "150207        Going Down        Going Down             Freddie King   \n",
            "150385             Misty             Misty  Richard “Groove” Holmes   \n",
            "150394  Untouchable Face  Untouchable Face             Ani DiFranco   \n",
            "\n",
            "                     artist_y       id  \n",
            "150188  The Mamas & The Papas   107479  \n",
            "150189      Loggins & Messina   121913  \n",
            "150207           Freddie King   284412  \n",
            "150385       (Miki Matsubara)  6515411  \n",
            "150394           Ani DiFranco   559500  \n"
          ]
        }
      ]
    },
    {
      "cell_type": "code",
      "source": [
        "new_df = merged_df[['title_x','artist_x','id','file_name','recording_ids']]\n",
        "print (new_df.shape)"
      ],
      "metadata": {
        "colab": {
          "base_uri": "https://localhost:8080/"
        },
        "id": "9xlBcJf_ZSu_",
        "outputId": "f9c1c3ce-204a-4c0a-fadf-4eb8b8ad3478"
      },
      "execution_count": null,
      "outputs": [
        {
          "output_type": "stream",
          "name": "stdout",
          "text": [
            "(2135, 5)\n"
          ]
        }
      ]
    },
    {
      "cell_type": "code",
      "source": [
        "new_df['recording_ids'][1]"
      ],
      "metadata": {
        "colab": {
          "base_uri": "https://localhost:8080/",
          "height": 35
        },
        "id": "pHoT-QEljltU",
        "outputId": "606f37ba-83d9-428f-ac34-0202dc544035"
      },
      "execution_count": null,
      "outputs": [
        {
          "output_type": "execute_result",
          "data": {
            "text/plain": [
              "\"['628e8408-e54f-4f04-904f-5aebfd0ed476', '6e3ee8f5-a348-4367-9172-9306a4ba25c1', 'c24e6073-0ee4-4347-a17b-6c48c6a1b270']\""
            ],
            "application/vnd.google.colaboratory.intrinsic+json": {
              "type": "string"
            }
          },
          "metadata": {},
          "execution_count": 68
        }
      ]
    },
    {
      "cell_type": "code",
      "source": [
        "import ast\n",
        "ast.literal_eval(new_df['recording_ids'][1])"
      ],
      "metadata": {
        "colab": {
          "base_uri": "https://localhost:8080/"
        },
        "id": "t3N6Uv9RrXTm",
        "outputId": "5048a1a2-c7db-4159-d3f0-ef9922fcd73d"
      },
      "execution_count": null,
      "outputs": [
        {
          "output_type": "execute_result",
          "data": {
            "text/plain": [
              "['628e8408-e54f-4f04-904f-5aebfd0ed476',\n",
              " '6e3ee8f5-a348-4367-9172-9306a4ba25c1',\n",
              " 'c24e6073-0ee4-4347-a17b-6c48c6a1b270']"
            ]
          },
          "metadata": {},
          "execution_count": 71
        }
      ]
    },
    {
      "cell_type": "code",
      "source": [
        "!sudo apt-get -y -qq update\n",
        "!sudo apt-get -y -qq install postgresql"
      ],
      "metadata": {
        "id": "rpoCpXLVbLik"
      },
      "execution_count": null,
      "outputs": []
    },
    {
      "cell_type": "code",
      "source": [
        "!sudo service postgresql start"
      ],
      "metadata": {
        "colab": {
          "base_uri": "https://localhost:8080/"
        },
        "id": "J3sSNlwDb4Kj",
        "outputId": "28d93b0f-7e55-4f8c-8cc3-4ef680814dac"
      },
      "execution_count": null,
      "outputs": [
        {
          "output_type": "stream",
          "name": "stdout",
          "text": [
            " * Starting PostgreSQL 14 database server\n",
            "   ...done.\n"
          ]
        }
      ]
    },
    {
      "cell_type": "code",
      "source": [
        "!sudo -u postgres psql -U postgres -c \"ALTER USER postgres PASSWORD 'postgres';\""
      ],
      "metadata": {
        "colab": {
          "base_uri": "https://localhost:8080/"
        },
        "id": "Q77abM22b6E8",
        "outputId": "28aa73c9-c6fa-4c8c-eb79-5b893417a8da"
      },
      "execution_count": null,
      "outputs": [
        {
          "output_type": "stream",
          "name": "stdout",
          "text": [
            "ALTER ROLE\n"
          ]
        }
      ]
    },
    {
      "cell_type": "code",
      "source": [
        "!sudo -u postgres psql -U postgres -c 'CREATE DATABASE cse512_final;'"
      ],
      "metadata": {
        "colab": {
          "base_uri": "https://localhost:8080/"
        },
        "id": "6AX8wTurb9B_",
        "outputId": "f98733c6-d2d9-4bb6-d527-15ad535b5db6"
      },
      "execution_count": null,
      "outputs": [
        {
          "output_type": "stream",
          "name": "stdout",
          "text": [
            "CREATE DATABASE\n"
          ]
        }
      ]
    },
    {
      "cell_type": "code",
      "source": [
        "import psycopg2\n",
        "\n",
        "db_params = {\n",
        "    \"dbname\": \"cse512_final\",\n",
        "    \"user\": \"postgres\",\n",
        "    \"password\": \"postgres\",\n",
        "    \"host\": \"localhost\",\n",
        "    \"port\": \"5432\",\n",
        "}\n",
        "conn = psycopg2.connect(**db_params)\n",
        "cursor = conn.cursor()"
      ],
      "metadata": {
        "id": "iPLHp6iAcB6r"
      },
      "execution_count": null,
      "outputs": []
    },
    {
      "cell_type": "code",
      "source": [
        "import psycopg2\n",
        "\n",
        "try:\n",
        "    cur = cursor\n",
        "    cur.execute(\"DROP TABLE IF EXISTS music_data;\")\n",
        "    conn.commit()\n",
        "    print(\"Table deleted successfully.\")\n",
        "\n",
        "except Exception as e:\n",
        "    print(f\"Error: {e}\")\n",
        "    conn.rollback()"
      ],
      "metadata": {
        "colab": {
          "base_uri": "https://localhost:8080/"
        },
        "id": "h2mfIECRucwu",
        "outputId": "2d7d9588-b194-45d8-a4b9-84522ba2f6ff"
      },
      "execution_count": null,
      "outputs": [
        {
          "output_type": "stream",
          "name": "stdout",
          "text": [
            "Table deleted successfully.\n"
          ]
        }
      ]
    },
    {
      "cell_type": "code",
      "source": [
        "cursor.execute(\"\"\"\n",
        "    CREATE TABLE music_data (\n",
        "    mbid UUID ,\n",
        "    recording_ids VARCHAR,\n",
        "    file_name VARCHAR,\n",
        "    title VARCHAR,\n",
        "    artist VARCHAR,\n",
        "    genius_id BIGINT,\n",
        "    genres JSONB,\n",
        "    mood JSONB,\n",
        "    high_level_data JSONB\n",
        ");\n",
        "\"\"\")\n",
        "conn.commit()"
      ],
      "metadata": {
        "id": "UdTtz7wWcJG9"
      },
      "execution_count": null,
      "outputs": []
    },
    {
      "cell_type": "code",
      "source": [
        "!pip install musicbrainzngs"
      ],
      "metadata": {
        "colab": {
          "base_uri": "https://localhost:8080/"
        },
        "id": "jhvDL4qhfQOJ",
        "outputId": "dac4f07c-67a0-49c2-93e1-78190e2329a2"
      },
      "execution_count": null,
      "outputs": [
        {
          "output_type": "stream",
          "name": "stdout",
          "text": [
            "Collecting musicbrainzngs\n",
            "  Downloading musicbrainzngs-0.7.1-py2.py3-none-any.whl (25 kB)\n",
            "Installing collected packages: musicbrainzngs\n",
            "Successfully installed musicbrainzngs-0.7.1\n"
          ]
        }
      ]
    },
    {
      "cell_type": "code",
      "source": [
        "import requests\n",
        "import musicbrainzngs as mb\n",
        "import psycopg2\n",
        "import time\n",
        "mb.set_useragent(\"Fetching-genres-cse512-project\", \"0.1\", \"xyz@abc.com\")"
      ],
      "metadata": {
        "id": "GuX_Tw6ejETw"
      },
      "execution_count": null,
      "outputs": []
    },
    {
      "cell_type": "code",
      "source": [
        "def get_genre_by_recording_id(recording_id):\n",
        "    try:\n",
        "        result = mb.get_recording_by_id(recording_id, includes=[\"tags\"])\n",
        "        tags = result['recording']['tag-list']\n",
        "        return sorted([(tag['count'], tag['name']) for tag in tags], reverse=True)\n",
        "    except Exception as e:\n",
        "        print(f\"Error fetching genre for recording_id {recording_id}: {e}\")\n",
        "        return []\n",
        "    time.sleep(0.5)"
      ],
      "metadata": {
        "id": "6c6VTe9rjOLf"
      },
      "execution_count": null,
      "outputs": []
    },
    {
      "cell_type": "code",
      "source": [
        "def fetch_high_level_data(recording_ids):\n",
        "    base_url = \"https://acousticbrainz.org/api/v1/high-level\"\n",
        "    params = {'recording_ids': ';'.join(recording_ids)}\n",
        "    try:\n",
        "        response = requests.get(base_url, params=params)\n",
        "        if response.status_code == 200:\n",
        "            res = response.json()\n",
        "            for r_id in recording_ids:\n",
        "              data = res.get(r_id, {})\n",
        "              if data:\n",
        "                return data\n",
        "        else:\n",
        "            print(f\"Error fetching high level data: {response.status_code}\")\n",
        "            return {}\n",
        "    except Exception as e:\n",
        "        print(f\"Exception during API request: {e}\")\n",
        "        return {}"
      ],
      "metadata": {
        "id": "oGMKqHUJjari"
      },
      "execution_count": null,
      "outputs": []
    },
    {
      "cell_type": "code",
      "source": [
        "cur = cursor"
      ],
      "metadata": {
        "id": "J07QlPk_kFTc"
      },
      "execution_count": null,
      "outputs": []
    },
    {
      "cell_type": "code",
      "source": [
        "import json\n",
        "\n",
        "def insert_into_db(row_data):\n",
        "    # Convert complex types to JSON strings\n",
        "    row_data = list(row_data)  # Convert tuple to list to allow modification\n",
        "    row_data[6] = json.dumps(row_data[6])  # Convert genres to JSON string\n",
        "    row_data[7] = json.dumps(row_data[7])  # Convert mood to JSON string\n",
        "    row_data[8] = json.dumps(row_data[8])  # Convert high_level_data to JSON string\n",
        "\n",
        "    insert_query = \"\"\"INSERT INTO music_data (mbid, recording_ids, file_name, title, artist, genius_id, genres, mood, high_level_data)\n",
        "                      VALUES (%s, %s, %s, %s, %s, %s, %s, %s, %s);\"\"\"\n",
        "    cur.execute(insert_query, tuple(row_data))  # Convert back to tuple\n",
        "    conn.commit()\n"
      ],
      "metadata": {
        "id": "Ej7frr_EjecM"
      },
      "execution_count": null,
      "outputs": []
    },
    {
      "cell_type": "code",
      "source": [
        "def get_mood(data):\n",
        "    # Extracting the highlevel data\n",
        "    data = data.get('0', {}).get('highlevel', {})\n",
        "    if not data:\n",
        "        return []\n",
        "\n",
        "    # Scores for each mood\n",
        "    mood_scores = {\n",
        "        \"aggressive\": data.get(\"mood_aggressive\", {}).get(\"all\", {}).get(\"aggressive\", 0),\n",
        "        \"happy\": data.get(\"mood_happy\", {}).get(\"all\", {}).get(\"happy\", 0),\n",
        "        \"party\": data.get(\"mood_party\", {}).get(\"all\", {}).get(\"party\", 0),\n",
        "        \"relaxed\": data.get(\"mood_relaxed\", {}).get(\"all\", {}).get(\"relaxed\", 0),\n",
        "        \"sad\": data.get(\"mood_sad\", {}).get(\"all\", {}).get(\"sad\", 0)\n",
        "    }\n",
        "\n",
        "    # Special case handling for 'happy' and 'sad'\n",
        "    if mood_scores['happy'] > mood_scores['sad']:\n",
        "        mood_scores.pop('sad', None)\n",
        "    else:\n",
        "        mood_scores.pop('happy', None)\n",
        "\n",
        "    # Filter out moods with a score lower than 0.6\n",
        "    filtered_moods = {mood: score for mood, score in mood_scores.items() if score > 0.5}\n",
        "\n",
        "    # If no mood has score above 0.6, add the one with the highest score\n",
        "    if not filtered_moods:\n",
        "        # max_mood = max(mood_scores, key=mood_scores.get)\n",
        "        # filtered_moods = {max_mood: mood_scores[max_mood]}\n",
        "        return []\n",
        "\n",
        "    # Sort the moods in descending order by their scores\n",
        "    sorted_moods = sorted(filtered_moods, key=filtered_moods.get, reverse=True)\n",
        "\n",
        "    return sorted_moods"
      ],
      "metadata": {
        "id": "c8jJtO6Nqfgu"
      },
      "execution_count": null,
      "outputs": []
    },
    {
      "cell_type": "code",
      "source": [
        "c=0\n",
        "for index, row in new_df.iterrows():\n",
        "    recording_ids = ast.literal_eval(row['recording_ids']) # Assuming recording_ids are semicolon-separated\n",
        "    genres, mood, high_level_data, mbid =  [], [], {}, None\n",
        "    # Fetch genre and high level data\n",
        "    for recording_id in recording_ids:\n",
        "        if not genres:\n",
        "            genres = get_genre_by_recording_id(recording_id)\n",
        "            if genres:\n",
        "                mbid = recording_id\n",
        "\n",
        "    high_level_data = fetch_high_level_data(recording_ids[:24])\n",
        "\n",
        "    if high_level_data:\n",
        "      mood = get_mood(high_level_data)\n",
        "    if not mbid:\n",
        "      print (f\"Mbid missing for {index}\")\n",
        "      mbid=recording_ids[0]\n",
        "    if not high_level_data:\n",
        "      print (f\"Missing high level for {index}\")\n",
        "    if not genres:\n",
        "      print (f\"Missing genre for {index}\")\n",
        "    if not mood:\n",
        "      print (f\"Missing mood for {index}\")\n",
        "\n",
        "    # Insert data into the database\n",
        "    if mbid:\n",
        "      row_data = (mbid, row['recording_ids'], row['file_name'], row['title_x'], row['artist_x'], row['id'], genres, mood, high_level_data)\n",
        "      insert_into_db(row_data)\n",
        "    c+=1\n",
        "    if c%100==0:\n",
        "      print (f\"Done: {c/2135}\")\n",
        "    time.sleep(1)"
      ],
      "metadata": {
        "id": "RvDb39c3kXAc"
      },
      "execution_count": null,
      "outputs": []
    },
    {
      "cell_type": "code",
      "source": [
        "def fetch_data_from_db():\n",
        "    try:\n",
        "        # Connect to your database (update connection details accordingly)\n",
        "        cur.execute(\"SELECT * FROM music_data\")\n",
        "\n",
        "        # Fetch and print all rows\n",
        "        rows = cur.fetchall()\n",
        "        for row in rows:\n",
        "            print(row)\n",
        "\n",
        "    except Exception as e:\n",
        "        print(f\"Database error: {e}\")\n",
        "\n",
        "\n",
        "# Call the function to fetch and print data\n",
        "fetch_data_from_db()"
      ],
      "metadata": {
        "colab": {
          "base_uri": "https://localhost:8080/"
        },
        "id": "6uOOLN5_sV04",
        "outputId": "2b33595b-8980-4a13-c203-28262f4c3978"
      },
      "execution_count": null,
      "outputs": [
        {
          "output_type": "stream",
          "name": "stdout",
          "text": [
            "('628e8408-e54f-4f04-904f-5aebfd0ed476', \"['628e8408-e54f-4f04-904f-5aebfd0ed476', '6e3ee8f5-a348-4367-9172-9306a4ba25c1', 'c24e6073-0ee4-4347-a17b-6c48c6a1b270']\", '#SELFIE (Official Music Video) - The Chainsmokers-kdemFfbS5H0.opus', '#SELFIE (Will Sparks remix)', 'The Chainsmokers', 375924, [['2', 'electronic'], ['2', 'electro house'], ['1', 'pop'], ['1', 'elektro'], ['1', 'dance'], ['1', 'big room']], ['relaxed'], {'0': {'metadata': {'tags': {'date': ['2014'], 'album': ['[non-album tracks]'], 'title': ['#Selfie'], 'artist': ['The Chainsmokers'], 'encoding': ['Lavf56.36.100'], 'file_name': 'The Besties - #SELFIE.mp3', 'artistsort': ['Chainsmokers, The'], 'tracknumber': ['39'], 'musicbrainz_artistid': ['91a81925-92f9-4fc9-b897-93cf01226282'], 'musicbrainz_recordingid': ['628e8408-e54f-4f04-904f-5aebfd0ed476']}, 'version': {'lowlevel': {'essentia': '2.1-beta2', 'extractor': 'music 1.0', 'essentia_git_sha': 'v2.1_beta2', 'essentia_build_sha': '70f2e5ece6736b2c40cc944ad0e695b16b925413'}, 'highlevel': {'gaia': '2.4-dev', 'essentia': '2.1-beta1', 'extractor': 'music 1.0', 'gaia_git_sha': '857329b', 'essentia_git_sha': 'v2.1_beta1-228-g260734a', 'essentia_build_sha': '8e24b98b71ad84f3024c7541412f02124a26d327', 'models_essentia_git_sha': 'v2.1_beta1'}}, 'audio_properties': {'codec': 'mp3', 'length': 222.981231689, 'downmix': 'mix', 'bit_rate': 160019, 'lossless': 0, 'md5_encoded': 'bc0e8db021af7e39e1728907dfdb61d1', 'replay_gain': -7.08722496033, 'sample_rate': 44100, 'equal_loudness': 0, 'analysis_sample_rate': 44100}}, 'highlevel': {'gender': {'all': {'male': 0.0108607104048, 'female': 0.989139318466}, 'value': 'female', 'version': {'gaia': '2.4-dev', 'essentia': '2.1-beta1', 'extractor': 'music 1.0', 'gaia_git_sha': '857329b', 'essentia_git_sha': 'v2.1_beta1-228-g260734a', 'essentia_build_sha': '8e24b98b71ad84f3024c7541412f02124a26d327', 'models_essentia_git_sha': 'v2.1_beta1'}, 'probability': 0.989139318466}, 'timbre': {'all': {'dark': 0.710032939911, 'bright': 0.289967060089}, 'value': 'dark', 'version': {'gaia': '2.4-dev', 'essentia': '2.1-beta1', 'extractor': 'music 1.0', 'gaia_git_sha': '857329b', 'essentia_git_sha': 'v2.1_beta1-228-g260734a', 'essentia_build_sha': '8e24b98b71ad84f3024c7541412f02124a26d327', 'models_essentia_git_sha': 'v2.1_beta1'}, 'probability': 0.710032939911}, 'mood_sad': {'all': {'sad': 0.437466710806, 'not_sad': 0.562533259392}, 'value': 'not_sad', 'version': {'gaia': '2.4-dev', 'essentia': '2.1-beta1', 'extractor': 'music 1.0', 'gaia_git_sha': '857329b', 'essentia_git_sha': 'v2.1_beta1-228-g260734a', 'essentia_build_sha': '8e24b98b71ad84f3024c7541412f02124a26d327', 'models_essentia_git_sha': 'v2.1_beta1'}, 'probability': 0.562533259392}, 'mood_happy': {'all': {'happy': 0.414383858442, 'not_happy': 0.58561617136}, 'value': 'not_happy', 'version': {'gaia': '2.4-dev', 'essentia': '2.1-beta1', 'extractor': 'music 1.0', 'gaia_git_sha': '857329b', 'essentia_git_sha': 'v2.1_beta1-228-g260734a', 'essentia_build_sha': '8e24b98b71ad84f3024c7541412f02124a26d327', 'models_essentia_git_sha': 'v2.1_beta1'}, 'probability': 0.58561617136}, 'mood_party': {'all': {'party': 0.0211093518883, 'not_party': 0.978890657425}, 'value': 'not_party', 'version': {'gaia': '2.4-dev', 'essentia': '2.1-beta1', 'extractor': 'music 1.0', 'gaia_git_sha': '857329b', 'essentia_git_sha': 'v2.1_beta1-228-g260734a', 'essentia_build_sha': '8e24b98b71ad84f3024c7541412f02124a26d327', 'models_essentia_git_sha': 'v2.1_beta1'}, 'probability': 0.978890657425}, 'moods_mirex': {'all': {'Cluster1': 0.101008981466, 'Cluster2': 0.119400635362, 'Cluster3': 0.209282889962, 'Cluster4': 0.101947255433, 'Cluster5': 0.468360215425}, 'value': 'Cluster5', 'version': {'gaia': '2.4-dev', 'essentia': '2.1-beta1', 'extractor': 'music 1.0', 'gaia_git_sha': '857329b', 'essentia_git_sha': 'v2.1_beta1-228-g260734a', 'essentia_build_sha': '8e24b98b71ad84f3024c7541412f02124a26d327', 'models_essentia_git_sha': 'v2.1_beta1'}, 'probability': 0.468360215425}, 'danceability': {'all': {'danceable': 0.999999880791, 'not_danceable': 1.00000008274e-07}, 'value': 'danceable', 'version': {'gaia': '2.4-dev', 'essentia': '2.1-beta1', 'extractor': 'music 1.0', 'gaia_git_sha': '857329b', 'essentia_git_sha': 'v2.1_beta1-228-g260734a', 'essentia_build_sha': '8e24b98b71ad84f3024c7541412f02124a26d327', 'models_essentia_git_sha': 'v2.1_beta1'}, 'probability': 0.999999880791}, 'mood_relaxed': {'all': {'relaxed': 0.808819174767, 'not_relaxed': 0.191180840135}, 'value': 'relaxed', 'version': {'gaia': '2.4-dev', 'essentia': '2.1-beta1', 'extractor': 'music 1.0', 'gaia_git_sha': '857329b', 'essentia_git_sha': 'v2.1_beta1-228-g260734a', 'essentia_build_sha': '8e24b98b71ad84f3024c7541412f02124a26d327', 'models_essentia_git_sha': 'v2.1_beta1'}, 'probability': 0.808819174767}, 'tonal_atonal': {'all': {'tonal': 0.108266510069, 'atonal': 0.891733467579}, 'value': 'atonal', 'version': {'gaia': '2.4-dev', 'essentia': '2.1-beta1', 'extractor': 'music 1.0', 'gaia_git_sha': '857329b', 'essentia_git_sha': 'v2.1_beta1-228-g260734a', 'essentia_build_sha': '8e24b98b71ad84f3024c7541412f02124a26d327', 'models_essentia_git_sha': 'v2.1_beta1'}, 'probability': 0.891733467579}, 'mood_acoustic': {'all': {'acoustic': 8.5811907411e-06, 'not_acoustic': 0.999991416931}, 'value': 'not_acoustic', 'version': {'gaia': '2.4-dev', 'essentia': '2.1-beta1', 'extractor': 'music 1.0', 'gaia_git_sha': '857329b', 'essentia_git_sha': 'v2.1_beta1-228-g260734a', 'essentia_build_sha': '8e24b98b71ad84f3024c7541412f02124a26d327', 'models_essentia_git_sha': 'v2.1_beta1'}, 'probability': 0.999991416931}, 'genre_dortmund': {'all': {'pop': 6.54497271171e-05, 'jazz': 0.000234255203395, 'rock': 0.000175848210347, 'blues': 0.000156461872393, 'raphiphop': 7.44201242924e-05, 'electronic': 0.997823774815, 'alternative': 0.000969630666077, 'folkcountry': 0.000484027026687, 'funksoulrnb': 1.61143980222e-05}, 'value': 'electronic', 'version': {'gaia': '2.4-dev', 'essentia': '2.1-beta1', 'extractor': 'music 1.0', 'gaia_git_sha': '857329b', 'essentia_git_sha': 'v2.1_beta1-228-g260734a', 'essentia_build_sha': '8e24b98b71ad84f3024c7541412f02124a26d327', 'models_essentia_git_sha': 'v2.1_beta1'}, 'probability': 0.997823774815}, 'ismir04_rhythm': {'all': {'Jive': 0.0254259388894, 'Samba': 0.0714928880334, 'Tango': 0.110821373761, 'Waltz': 0.00664042076096, 'ChaChaCha': 0.700186133385, 'Quickstep': 0.013397670351, 'Rumba-Misc': 0.0128416409716, 'VienneseWaltz': 0.0176035612822, 'Rumba-American': 0.0237082466483, 'Rumba-International': 0.0178821496665}, 'value': 'ChaChaCha', 'version': {'gaia': '2.4-dev', 'essentia': '2.1-beta1', 'extractor': 'music 1.0', 'gaia_git_sha': '857329b', 'essentia_git_sha': 'v2.1_beta1-228-g260734a', 'essentia_build_sha': '8e24b98b71ad84f3024c7541412f02124a26d327', 'models_essentia_git_sha': 'v2.1_beta1'}, 'probability': 0.700186133385}, 'mood_aggressive': {'all': {'aggressive': 1.38248448605e-13, 'not_aggressive': 1}, 'value': 'not_aggressive', 'version': {'gaia': '2.4-dev', 'essentia': '2.1-beta1', 'extractor': 'music 1.0', 'gaia_git_sha': '857329b', 'essentia_git_sha': 'v2.1_beta1-228-g260734a', 'essentia_build_sha': '8e24b98b71ad84f3024c7541412f02124a26d327', 'models_essentia_git_sha': 'v2.1_beta1'}, 'probability': 1}, 'mood_electronic': {'all': {'electronic': 0.791782140732, 'not_electronic': 0.208217859268}, 'value': 'electronic', 'version': {'gaia': '2.4-dev', 'essentia': '2.1-beta1', 'extractor': 'music 1.0', 'gaia_git_sha': '857329b', 'essentia_git_sha': 'v2.1_beta1-228-g260734a', 'essentia_build_sha': '8e24b98b71ad84f3024c7541412f02124a26d327', 'models_essentia_git_sha': 'v2.1_beta1'}, 'probability': 0.791782140732}, 'genre_electronic': {'all': {'dnb': 0.0271185040474, 'house': 0.0903350040317, 'techno': 0.0176471676677, 'trance': 0.708847939968, 'ambient': 0.156051367521}, 'value': 'trance', 'version': {'gaia': '2.4-dev', 'essentia': '2.1-beta1', 'extractor': 'music 1.0', 'gaia_git_sha': '857329b', 'essentia_git_sha': 'v2.1_beta1-228-g260734a', 'essentia_build_sha': '8e24b98b71ad84f3024c7541412f02124a26d327', 'models_essentia_git_sha': 'v2.1_beta1'}, 'probability': 0.708847939968}, 'genre_rosamerica': {'all': {'cla': 0.000312775518978, 'dan': 0.752344608307, 'hip': 0.0446090884507, 'jaz': 0.00218427856453, 'pop': 0.194882959127, 'rhy': 0.00451259454712, 'roc': 0.000810971308965, 'spe': 0.000342716695741}, 'value': 'dan', 'version': {'gaia': '2.4-dev', 'essentia': '2.1-beta1', 'extractor': 'music 1.0', 'gaia_git_sha': '857329b', 'essentia_git_sha': 'v2.1_beta1-228-g260734a', 'essentia_build_sha': '8e24b98b71ad84f3024c7541412f02124a26d327', 'models_essentia_git_sha': 'v2.1_beta1'}, 'probability': 0.752344608307}, 'genre_tzanetakis': {'all': {'blu': 0.0790551155806, 'cla': 0.035117097199, 'cou': 0.0632127597928, 'dis': 0.0632339939475, 'hip': 0.158143803477, 'jaz': 0.316540271044, 'met': 0.0632839202881, 'pop': 0.0632658004761, 'reg': 0.0527152828872, 'roc': 0.105431981385}, 'value': 'jaz', 'version': {'gaia': '2.4-dev', 'essentia': '2.1-beta1', 'extractor': 'music 1.0', 'gaia_git_sha': '857329b', 'essentia_git_sha': 'v2.1_beta1-228-g260734a', 'essentia_build_sha': '8e24b98b71ad84f3024c7541412f02124a26d327', 'models_essentia_git_sha': 'v2.1_beta1'}, 'probability': 0.316540271044}, 'voice_instrumental': {'all': {'voice': 0.988252818584, 'instrumental': 0.0117471693084}, 'value': 'voice', 'version': {'gaia': '2.4-dev', 'essentia': '2.1-beta1', 'extractor': 'music 1.0', 'gaia_git_sha': '857329b', 'essentia_git_sha': 'v2.1_beta1-228-g260734a', 'essentia_build_sha': '8e24b98b71ad84f3024c7541412f02124a26d327', 'models_essentia_git_sha': 'v2.1_beta1'}, 'probability': 0.988252818584}}}})\n",
            "('8c4b22b3-222b-4cb7-a204-763a9eb9a8bb', \"['8c4b22b3-222b-4cb7-a204-763a9eb9a8bb', '8efa774f-40fc-43f0-bf7c-e2f1704f6e56', 'd5b653d0-eb45-483e-b83d-633eaf2c1a7f', '8c4b22b3-222b-4cb7-a204-763a9eb9a8bb']\", '01. Mariah Carey - Vision Of Love-D_i7_cWINPI.opus', 'Vision of Love', 'Mariah Carey', 111147, [['6', 'pop'], ['4', 'ballad'], ['3', 'r&b'], ['2', 'soul'], ['2', 'electronic'], ['2', 'adult contemporary'], ['1', 'urban soul'], ['1', 'urban'], ['1', 'synth-pop'], ['1', 'slow rock'], ['1', 'rock'], ['1', 'r b'], ['1', 'pop/rock'], ['1', 'dance-pop'], ['1', 'contemporary r&b'], ['1', 'club/dance']], [], {'0': {'metadata': {'tags': {'asin': ['B00005TZRU'], 'date': ['2005'], 'isrc': ['USSM19000412'], 'album': ['Greatest Hits'], 'genre': ['90S/Mariah Carey/Love/Classic/Rnb/Female Vocalist/Female Vocalists/Soul/Pop/Unknown'], 'label': ['Columbia'], 'media': ['CD'], 'title': ['Vision of Love'], 'artist': ['Mariah Carey'], 'script': ['Latn'], 'barcode': ['5099750546123'], 'encodedby': ['Exact Audio Copy   (Secure mode)'], 'file_name': '101-mariah_carey-vision_of_love-dgn.mp3', 'artistsort': ['Carey, Mariah'], 'discnumber': ['1/2'], 'albumartist': ['Mariah Carey'], 'tracknumber': ['1/14'], 'originaldate': ['2001'], 'catalognumber': ['2 505461'], 'albumartistsort': ['Carey, Mariah'], 'musicbrainz_albumid': ['9514bacb-200c-37a1-ba99-43109095372c'], 'musicbrainz_artistid': ['494e8d09-f85b-4543-892f-a5096aed1cd4'], 'musicbrainz album type': ['album/compilation'], 'musicbrainz_recordingid': ['8c4b22b3-222b-4cb7-a204-763a9eb9a8bb'], 'musicbrainz album status': ['official'], 'musicbrainz_albumartistid': ['494e8d09-f85b-4543-892f-a5096aed1cd4'], 'musicbrainz_releasegroupid': ['33f662ec-4fc9-3a9c-b0b6-9d7732f75f05'], 'musicbrainz album release country': ['GB']}, 'version': {'lowlevel': {'essentia': '2.1-beta2', 'extractor': 'music 1.0', 'essentia_git_sha': 'v2.1_beta2', 'essentia_build_sha': '70f2e5ece6736b2c40cc944ad0e695b16b925413'}, 'highlevel': {'gaia': '2.4-dev', 'essentia': '2.1-beta1', 'extractor': 'music 1.0', 'gaia_git_sha': '857329b', 'essentia_git_sha': 'v2.1_beta1-228-g260734a', 'essentia_build_sha': '8e24b98b71ad84f3024c7541412f02124a26d327', 'models_essentia_git_sha': 'v2.1_beta1'}}, 'audio_properties': {'codec': 'mp3', 'length': 211.43510437, 'downmix': 'mix', 'bit_rate': 192024, 'lossless': 0, 'md5_encoded': '5eac591e53e9bb0e1bb5cf24037f47c3', 'replay_gain': -13.0607872009, 'sample_rate': 44100, 'equal_loudness': 0, 'analysis_sample_rate': 44100}}, 'highlevel': {'gender': {'all': {'male': 0.000211025340832, 'female': 0.999788999557}, 'value': 'female', 'version': {'gaia': '2.4-dev', 'essentia': '2.1-beta1', 'extractor': 'music 1.0', 'gaia_git_sha': '857329b', 'essentia_git_sha': 'v2.1_beta1-228-g260734a', 'essentia_build_sha': '8e24b98b71ad84f3024c7541412f02124a26d327', 'models_essentia_git_sha': 'v2.1_beta1'}, 'probability': 0.999788999557}, 'timbre': {'all': {'dark': 0.0165890455246, 'bright': 0.983410954475}, 'value': 'bright', 'version': {'gaia': '2.4-dev', 'essentia': '2.1-beta1', 'extractor': 'music 1.0', 'gaia_git_sha': '857329b', 'essentia_git_sha': 'v2.1_beta1-228-g260734a', 'essentia_build_sha': '8e24b98b71ad84f3024c7541412f02124a26d327', 'models_essentia_git_sha': 'v2.1_beta1'}, 'probability': 0.983410954475}, 'mood_sad': {'all': {'sad': 0.441732496023, 'not_sad': 0.558267474174}, 'value': 'not_sad', 'version': {'gaia': '2.4-dev', 'essentia': '2.1-beta1', 'extractor': 'music 1.0', 'gaia_git_sha': '857329b', 'essentia_git_sha': 'v2.1_beta1-228-g260734a', 'essentia_build_sha': '8e24b98b71ad84f3024c7541412f02124a26d327', 'models_essentia_git_sha': 'v2.1_beta1'}, 'probability': 0.558267474174}, 'mood_happy': {'all': {'happy': 0.200385913253, 'not_happy': 0.799614071846}, 'value': 'not_happy', 'version': {'gaia': '2.4-dev', 'essentia': '2.1-beta1', 'extractor': 'music 1.0', 'gaia_git_sha': '857329b', 'essentia_git_sha': 'v2.1_beta1-228-g260734a', 'essentia_build_sha': '8e24b98b71ad84f3024c7541412f02124a26d327', 'models_essentia_git_sha': 'v2.1_beta1'}, 'probability': 0.799614071846}, 'mood_party': {'all': {'party': 0.448719829321, 'not_party': 0.551280200481}, 'value': 'not_party', 'version': {'gaia': '2.4-dev', 'essentia': '2.1-beta1', 'extractor': 'music 1.0', 'gaia_git_sha': '857329b', 'essentia_git_sha': 'v2.1_beta1-228-g260734a', 'essentia_build_sha': '8e24b98b71ad84f3024c7541412f02124a26d327', 'models_essentia_git_sha': 'v2.1_beta1'}, 'probability': 0.551280200481}, 'moods_mirex': {'all': {'Cluster1': 0.0838396474719, 'Cluster2': 0.222785830498, 'Cluster3': 0.33412244916, 'Cluster4': 0.31785801053, 'Cluster5': 0.0413940474391}, 'value': 'Cluster3', 'version': {'gaia': '2.4-dev', 'essentia': '2.1-beta1', 'extractor': 'music 1.0', 'gaia_git_sha': '857329b', 'essentia_git_sha': 'v2.1_beta1-228-g260734a', 'essentia_build_sha': '8e24b98b71ad84f3024c7541412f02124a26d327', 'models_essentia_git_sha': 'v2.1_beta1'}, 'probability': 0.33412244916}, 'danceability': {'all': {'danceable': 0.720546483994, 'not_danceable': 0.279453545809}, 'value': 'danceable', 'version': {'gaia': '2.4-dev', 'essentia': '2.1-beta1', 'extractor': 'music 1.0', 'gaia_git_sha': '857329b', 'essentia_git_sha': 'v2.1_beta1-228-g260734a', 'essentia_build_sha': '8e24b98b71ad84f3024c7541412f02124a26d327', 'models_essentia_git_sha': 'v2.1_beta1'}, 'probability': 0.720546483994}, 'mood_relaxed': {'all': {'relaxed': 0.122681617737, 'not_relaxed': 0.877318382263}, 'value': 'not_relaxed', 'version': {'gaia': '2.4-dev', 'essentia': '2.1-beta1', 'extractor': 'music 1.0', 'gaia_git_sha': '857329b', 'essentia_git_sha': 'v2.1_beta1-228-g260734a', 'essentia_build_sha': '8e24b98b71ad84f3024c7541412f02124a26d327', 'models_essentia_git_sha': 'v2.1_beta1'}, 'probability': 0.877318382263}, 'tonal_atonal': {'all': {'tonal': 0.697665095329, 'atonal': 0.302334904671}, 'value': 'tonal', 'version': {'gaia': '2.4-dev', 'essentia': '2.1-beta1', 'extractor': 'music 1.0', 'gaia_git_sha': '857329b', 'essentia_git_sha': 'v2.1_beta1-228-g260734a', 'essentia_build_sha': '8e24b98b71ad84f3024c7541412f02124a26d327', 'models_essentia_git_sha': 'v2.1_beta1'}, 'probability': 0.697665095329}, 'mood_acoustic': {'all': {'acoustic': 0.381206840277, 'not_acoustic': 0.618793129921}, 'value': 'not_acoustic', 'version': {'gaia': '2.4-dev', 'essentia': '2.1-beta1', 'extractor': 'music 1.0', 'gaia_git_sha': '857329b', 'essentia_git_sha': 'v2.1_beta1-228-g260734a', 'essentia_build_sha': '8e24b98b71ad84f3024c7541412f02124a26d327', 'models_essentia_git_sha': 'v2.1_beta1'}, 'probability': 0.618793129921}, 'genre_dortmund': {'all': {'pop': 0.0298157278448, 'jazz': 0.0269363112748, 'rock': 0.100748121738, 'blues': 0.17754098773, 'raphiphop': 0.00908144097775, 'electronic': 0.416380852461, 'alternative': 0.0519876889884, 'folkcountry': 0.169965818524, 'funksoulrnb': 0.0175430458039}, 'value': 'electronic', 'version': {'gaia': '2.4-dev', 'essentia': '2.1-beta1', 'extractor': 'music 1.0', 'gaia_git_sha': '857329b', 'essentia_git_sha': 'v2.1_beta1-228-g260734a', 'essentia_build_sha': '8e24b98b71ad84f3024c7541412f02124a26d327', 'models_essentia_git_sha': 'v2.1_beta1'}, 'probability': 0.416380852461}, 'ismir04_rhythm': {'all': {'Jive': 0.0903367474675, 'Samba': 0.0832060277462, 'Tango': 0.203830212355, 'Waltz': 0.0212617497891, 'ChaChaCha': 0.252638369799, 'Quickstep': 0.0393094681203, 'Rumba-Misc': 0.0267320219427, 'VienneseWaltz': 0.158996731043, 'Rumba-American': 0.0666249021888, 'Rumba-International': 0.0570637620986}, 'value': 'ChaChaCha', 'version': {'gaia': '2.4-dev', 'essentia': '2.1-beta1', 'extractor': 'music 1.0', 'gaia_git_sha': '857329b', 'essentia_git_sha': 'v2.1_beta1-228-g260734a', 'essentia_build_sha': '8e24b98b71ad84f3024c7541412f02124a26d327', 'models_essentia_git_sha': 'v2.1_beta1'}, 'probability': 0.252638369799}, 'mood_aggressive': {'all': {'aggressive': 0.045514728874, 'not_aggressive': 0.954485297203}, 'value': 'not_aggressive', 'version': {'gaia': '2.4-dev', 'essentia': '2.1-beta1', 'extractor': 'music 1.0', 'gaia_git_sha': '857329b', 'essentia_git_sha': 'v2.1_beta1-228-g260734a', 'essentia_build_sha': '8e24b98b71ad84f3024c7541412f02124a26d327', 'models_essentia_git_sha': 'v2.1_beta1'}, 'probability': 0.954485297203}, 'mood_electronic': {'all': {'electronic': 0.152705013752, 'not_electronic': 0.847294986248}, 'value': 'not_electronic', 'version': {'gaia': '2.4-dev', 'essentia': '2.1-beta1', 'extractor': 'music 1.0', 'gaia_git_sha': '857329b', 'essentia_git_sha': 'v2.1_beta1-228-g260734a', 'essentia_build_sha': '8e24b98b71ad84f3024c7541412f02124a26d327', 'models_essentia_git_sha': 'v2.1_beta1'}, 'probability': 0.847294986248}, 'genre_electronic': {'all': {'dnb': 0.0609711781144, 'house': 0.195712372661, 'techno': 0.0226056594402, 'trance': 0.0684977099299, 'ambient': 0.652213096619}, 'value': 'ambient', 'version': {'gaia': '2.4-dev', 'essentia': '2.1-beta1', 'extractor': 'music 1.0', 'gaia_git_sha': '857329b', 'essentia_git_sha': 'v2.1_beta1-228-g260734a', 'essentia_build_sha': '8e24b98b71ad84f3024c7541412f02124a26d327', 'models_essentia_git_sha': 'v2.1_beta1'}, 'probability': 0.652213096619}, 'genre_rosamerica': {'all': {'cla': 0.0021159844473, 'dan': 0.00421375222504, 'hip': 0.00226452224888, 'jaz': 0.0841947346926, 'pop': 0.385017424822, 'rhy': 0.502110719681, 'roc': 0.0192763991654, 'spe': 0.000806451658718}, 'value': 'rhy', 'version': {'gaia': '2.4-dev', 'essentia': '2.1-beta1', 'extractor': 'music 1.0', 'gaia_git_sha': '857329b', 'essentia_git_sha': 'v2.1_beta1-228-g260734a', 'essentia_build_sha': '8e24b98b71ad84f3024c7541412f02124a26d327', 'models_essentia_git_sha': 'v2.1_beta1'}, 'probability': 0.502110719681}, 'genre_tzanetakis': {'all': {'blu': 0.0626613423228, 'cla': 0.0348169617355, 'cou': 0.104475811124, 'dis': 0.0784321576357, 'hip': 0.15692435205, 'jaz': 0.313974827528, 'met': 0.0448166541755, 'pop': 0.0627359300852, 'reg': 0.0627360641956, 'roc': 0.0784258767962}, 'value': 'jaz', 'version': {'gaia': '2.4-dev', 'essentia': '2.1-beta1', 'extractor': 'music 1.0', 'gaia_git_sha': '857329b', 'essentia_git_sha': 'v2.1_beta1-228-g260734a', 'essentia_build_sha': '8e24b98b71ad84f3024c7541412f02124a26d327', 'models_essentia_git_sha': 'v2.1_beta1'}, 'probability': 0.313974827528}, 'voice_instrumental': {'all': {'voice': 0.979545652866, 'instrumental': 0.0204543489963}, 'value': 'voice', 'version': {'gaia': '2.4-dev', 'essentia': '2.1-beta1', 'extractor': 'music 1.0', 'gaia_git_sha': '857329b', 'essentia_git_sha': 'v2.1_beta1-228-g260734a', 'essentia_build_sha': '8e24b98b71ad84f3024c7541412f02124a26d327', 'models_essentia_git_sha': 'v2.1_beta1'}, 'probability': 0.979545652866}}}})\n",
            "('e4c7fcbe-61c7-4289-b44e-8d2188b3f57e', \"['e4c7fcbe-61c7-4289-b44e-8d2188b3f57e']\", \"1913 Massacre Ramblin' Jack Elliott-BJWfHRcdSAk.opus\", '1913 Massacre', 'Ramblin’ Jack Elliott', 554507, [], [], None)\n",
            "('208db9af-4b77-4e90-8784-876a45b9a867', \"['208db9af-4b77-4e90-8784-876a45b9a867', '47a95977-64ae-4188-925d-2bcddf73d9bb', '4d7c6bf6-ca52-4b77-a4f3-a9fd889e3f28', '83d128ce-9d3e-4c66-a77a-4ec0558a447a', 'ac4b55da-7ea9-4ed4-8d8d-516aab80a35b', 'd30425b9-e897-4b65-b050-4f4035d92233', 'de5c7aec-30f8-4a6c-a594-6bdc8f229e41']\", '1950 HITS ARCHIVE： Tzena Tzena Tzena - The Weavers & Gordon Jenkins-YC9uUAOn5NY.opus', 'Tzena, Tzena, Tzena', 'The Weavers', 1648639, [['1', 'folk']], ['happy', 'relaxed'], {'0': {'metadata': {'tags': {'date': ['2007'], 'album': ['À´×ÔÃñ¼äµÄÅÑÄæÃÀ¹úÃñ¸è¾«Ñ¡'], 'title': ['Tzena Tzena Tzena'], 'artist': ['Various Artists'], 'file_name': '350783.mp3', 'albumartist': ['Various Artists'], 'tracknumber': ['22'], 'musicbrainz_recordingid': ['208db9af-4b77-4e90-8784-876a45b9a867']}, 'version': {'lowlevel': {'essentia': '2.1-beta2', 'extractor': 'music 1.0', 'essentia_git_sha': 'v2.1_beta2', 'essentia_build_sha': '70f2e5ece6736b2c40cc944ad0e695b16b925413'}, 'highlevel': {'gaia': '2.4-dev', 'essentia': '2.1-beta1', 'extractor': 'music 1.0', 'gaia_git_sha': '857329b', 'essentia_git_sha': 'v2.1_beta1-228-g260734a', 'essentia_build_sha': '8e24b98b71ad84f3024c7541412f02124a26d327', 'models_essentia_git_sha': 'v2.1_beta1'}}, 'audio_properties': {'codec': 'mp3', 'length': 165.929794312, 'downmix': 'mix', 'bit_rate': 320050, 'lossless': 0, 'md5_encoded': '7ff16d676c96b31acd3ff60fe346616a', 'replay_gain': -12.327003479, 'sample_rate': 44100, 'equal_loudness': 0, 'analysis_sample_rate': 44100}}, 'highlevel': {'gender': {'all': {'male': 0.139434605837, 'female': 0.860565364361}, 'value': 'female', 'version': {'gaia': '2.4-dev', 'essentia': '2.1-beta1', 'extractor': 'music 1.0', 'gaia_git_sha': '857329b', 'essentia_git_sha': 'v2.1_beta1-228-g260734a', 'essentia_build_sha': '8e24b98b71ad84f3024c7541412f02124a26d327', 'models_essentia_git_sha': 'v2.1_beta1'}, 'probability': 0.860565364361}, 'timbre': {'all': {'dark': 0.00559910945594, 'bright': 0.994400918484}, 'value': 'bright', 'version': {'gaia': '2.4-dev', 'essentia': '2.1-beta1', 'extractor': 'music 1.0', 'gaia_git_sha': '857329b', 'essentia_git_sha': 'v2.1_beta1-228-g260734a', 'essentia_build_sha': '8e24b98b71ad84f3024c7541412f02124a26d327', 'models_essentia_git_sha': 'v2.1_beta1'}, 'probability': 0.994400918484}, 'mood_sad': {'all': {'sad': 0.535741865635, 'not_sad': 0.464258134365}, 'value': 'sad', 'version': {'gaia': '2.4-dev', 'essentia': '2.1-beta1', 'extractor': 'music 1.0', 'gaia_git_sha': '857329b', 'essentia_git_sha': 'v2.1_beta1-228-g260734a', 'essentia_build_sha': '8e24b98b71ad84f3024c7541412f02124a26d327', 'models_essentia_git_sha': 'v2.1_beta1'}, 'probability': 0.535741865635}, 'mood_happy': {'all': {'happy': 0.890952348709, 'not_happy': 0.109047666192}, 'value': 'happy', 'version': {'gaia': '2.4-dev', 'essentia': '2.1-beta1', 'extractor': 'music 1.0', 'gaia_git_sha': '857329b', 'essentia_git_sha': 'v2.1_beta1-228-g260734a', 'essentia_build_sha': '8e24b98b71ad84f3024c7541412f02124a26d327', 'models_essentia_git_sha': 'v2.1_beta1'}, 'probability': 0.890952348709}, 'mood_party': {'all': {'party': 0.186125427485, 'not_party': 0.813874542713}, 'value': 'not_party', 'version': {'gaia': '2.4-dev', 'essentia': '2.1-beta1', 'extractor': 'music 1.0', 'gaia_git_sha': '857329b', 'essentia_git_sha': 'v2.1_beta1-228-g260734a', 'essentia_build_sha': '8e24b98b71ad84f3024c7541412f02124a26d327', 'models_essentia_git_sha': 'v2.1_beta1'}, 'probability': 0.813874542713}, 'moods_mirex': {'all': {'Cluster1': 0.0534149706364, 'Cluster2': 0.170102208853, 'Cluster3': 0.304659307003, 'Cluster4': 0.372929483652, 'Cluster5': 0.0988940373063}, 'value': 'Cluster4', 'version': {'gaia': '2.4-dev', 'essentia': '2.1-beta1', 'extractor': 'music 1.0', 'gaia_git_sha': '857329b', 'essentia_git_sha': 'v2.1_beta1-228-g260734a', 'essentia_build_sha': '8e24b98b71ad84f3024c7541412f02124a26d327', 'models_essentia_git_sha': 'v2.1_beta1'}, 'probability': 0.372929483652}, 'danceability': {'all': {'danceable': 0.321457237005, 'not_danceable': 0.678542733192}, 'value': 'not_danceable', 'version': {'gaia': '2.4-dev', 'essentia': '2.1-beta1', 'extractor': 'music 1.0', 'gaia_git_sha': '857329b', 'essentia_git_sha': 'v2.1_beta1-228-g260734a', 'essentia_build_sha': '8e24b98b71ad84f3024c7541412f02124a26d327', 'models_essentia_git_sha': 'v2.1_beta1'}, 'probability': 0.678542733192}, 'mood_relaxed': {'all': {'relaxed': 0.747765123844, 'not_relaxed': 0.252234905958}, 'value': 'relaxed', 'version': {'gaia': '2.4-dev', 'essentia': '2.1-beta1', 'extractor': 'music 1.0', 'gaia_git_sha': '857329b', 'essentia_git_sha': 'v2.1_beta1-228-g260734a', 'essentia_build_sha': '8e24b98b71ad84f3024c7541412f02124a26d327', 'models_essentia_git_sha': 'v2.1_beta1'}, 'probability': 0.747765123844}, 'tonal_atonal': {'all': {'tonal': 0.973790705204, 'atonal': 0.0262093041092}, 'value': 'tonal', 'version': {'gaia': '2.4-dev', 'essentia': '2.1-beta1', 'extractor': 'music 1.0', 'gaia_git_sha': '857329b', 'essentia_git_sha': 'v2.1_beta1-228-g260734a', 'essentia_build_sha': '8e24b98b71ad84f3024c7541412f02124a26d327', 'models_essentia_git_sha': 'v2.1_beta1'}, 'probability': 0.973790705204}, 'mood_acoustic': {'all': {'acoustic': 0.603218436241, 'not_acoustic': 0.396781593561}, 'value': 'acoustic', 'version': {'gaia': '2.4-dev', 'essentia': '2.1-beta1', 'extractor': 'music 1.0', 'gaia_git_sha': '857329b', 'essentia_git_sha': 'v2.1_beta1-228-g260734a', 'essentia_build_sha': '8e24b98b71ad84f3024c7541412f02124a26d327', 'models_essentia_git_sha': 'v2.1_beta1'}, 'probability': 0.603218436241}, 'genre_dortmund': {'all': {'pop': 0.00828567985445, 'jazz': 0.00884385500103, 'rock': 0.0562854744494, 'blues': 0.0440105907619, 'raphiphop': 0.00450430996716, 'electronic': 0.613447248936, 'alternative': 0.0583401061594, 'folkcountry': 0.200545489788, 'funksoulrnb': 0.00573725020513}, 'value': 'electronic', 'version': {'gaia': '2.4-dev', 'essentia': '2.1-beta1', 'extractor': 'music 1.0', 'gaia_git_sha': '857329b', 'essentia_git_sha': 'v2.1_beta1-228-g260734a', 'essentia_build_sha': '8e24b98b71ad84f3024c7541412f02124a26d327', 'models_essentia_git_sha': 'v2.1_beta1'}, 'probability': 0.613447248936}, 'ismir04_rhythm': {'all': {'Jive': 0.0680821314454, 'Samba': 0.0273027420044, 'Tango': 0.103941202164, 'Waltz': 0.00989292748272, 'ChaChaCha': 0.116812810302, 'Quickstep': 0.0216678101569, 'Rumba-Misc': 0.00843841861933, 'VienneseWaltz': 0.620270848274, 'Rumba-American': 0.0130827995017, 'Rumba-International': 0.0105083258823}, 'value': 'VienneseWaltz', 'version': {'gaia': '2.4-dev', 'essentia': '2.1-beta1', 'extractor': 'music 1.0', 'gaia_git_sha': '857329b', 'essentia_git_sha': 'v2.1_beta1-228-g260734a', 'essentia_build_sha': '8e24b98b71ad84f3024c7541412f02124a26d327', 'models_essentia_git_sha': 'v2.1_beta1'}, 'probability': 0.620270848274}, 'mood_aggressive': {'all': {'aggressive': 0.172208890319, 'not_aggressive': 0.82779109478}, 'value': 'not_aggressive', 'version': {'gaia': '2.4-dev', 'essentia': '2.1-beta1', 'extractor': 'music 1.0', 'gaia_git_sha': '857329b', 'essentia_git_sha': 'v2.1_beta1-228-g260734a', 'essentia_build_sha': '8e24b98b71ad84f3024c7541412f02124a26d327', 'models_essentia_git_sha': 'v2.1_beta1'}, 'probability': 0.82779109478}, 'mood_electronic': {'all': {'electronic': 0.0670804232359, 'not_electronic': 0.932919561863}, 'value': 'not_electronic', 'version': {'gaia': '2.4-dev', 'essentia': '2.1-beta1', 'extractor': 'music 1.0', 'gaia_git_sha': '857329b', 'essentia_git_sha': 'v2.1_beta1-228-g260734a', 'essentia_build_sha': '8e24b98b71ad84f3024c7541412f02124a26d327', 'models_essentia_git_sha': 'v2.1_beta1'}, 'probability': 0.932919561863}, 'genre_electronic': {'all': {'dnb': 0.0188239775598, 'house': 0.0690777674317, 'techno': 0.0174069050699, 'trance': 0.146881252527, 'ambient': 0.747810065746}, 'value': 'ambient', 'version': {'gaia': '2.4-dev', 'essentia': '2.1-beta1', 'extractor': 'music 1.0', 'gaia_git_sha': '857329b', 'essentia_git_sha': 'v2.1_beta1-228-g260734a', 'essentia_build_sha': '8e24b98b71ad84f3024c7541412f02124a26d327', 'models_essentia_git_sha': 'v2.1_beta1'}, 'probability': 0.747810065746}, 'genre_rosamerica': {'all': {'cla': 0.196854218841, 'dan': 0.0173711050302, 'hip': 0.0529087595642, 'jaz': 0.0670967698097, 'pop': 0.271255403757, 'rhy': 0.357085108757, 'roc': 0.0248610675335, 'spe': 0.0125675573945}, 'value': 'rhy', 'version': {'gaia': '2.4-dev', 'essentia': '2.1-beta1', 'extractor': 'music 1.0', 'gaia_git_sha': '857329b', 'essentia_git_sha': 'v2.1_beta1-228-g260734a', 'essentia_build_sha': '8e24b98b71ad84f3024c7541412f02124a26d327', 'models_essentia_git_sha': 'v2.1_beta1'}, 'probability': 0.357085108757}, 'genre_tzanetakis': {'all': {'blu': 0.0626613423228, 'cla': 0.0348169617355, 'cou': 0.104475811124, 'dis': 0.0784321576357, 'hip': 0.15692435205, 'jaz': 0.313974827528, 'met': 0.0448166541755, 'pop': 0.0627359300852, 'reg': 0.0627360641956, 'roc': 0.0784258767962}, 'value': 'jaz', 'version': {'gaia': '2.4-dev', 'essentia': '2.1-beta1', 'extractor': 'music 1.0', 'gaia_git_sha': '857329b', 'essentia_git_sha': 'v2.1_beta1-228-g260734a', 'essentia_build_sha': '8e24b98b71ad84f3024c7541412f02124a26d327', 'models_essentia_git_sha': 'v2.1_beta1'}, 'probability': 0.313974827528}, 'voice_instrumental': {'all': {'voice': 0.970710515976, 'instrumental': 0.0292894653976}, 'value': 'voice', 'version': {'gaia': '2.4-dev', 'essentia': '2.1-beta1', 'extractor': 'music 1.0', 'gaia_git_sha': '857329b', 'essentia_git_sha': 'v2.1_beta1-228-g260734a', 'essentia_build_sha': '8e24b98b71ad84f3024c7541412f02124a26d327', 'models_essentia_git_sha': 'v2.1_beta1'}, 'probability': 0.970710515976}}}})\n",
            "('f50de794-4586-43e1-a053-110649ee24f5', \"['f50de794-4586-43e1-a053-110649ee24f5']\", \"1990s - You're Supposed To Be My Friend-zh4Y3MW1jwI.opus\", 'You’re Supposed to Be My Friend', '1990s', 1959539, [['1', 'rock']], ['party', 'happy'], {'0': {'metadata': {'tags': {'asin': ['B000N6TZL6'], 'date': ['2007'], 'album': ['Cookies'], 'label': ['Rough Trade'], 'media': ['CD'], 'title': [\"You're Supposed to Be My Friend\"], 'artist': ['1990s'], 'script': ['Latn'], 'barcode': ['5050159839025'], 'encoding': ['Lavf56.36.100'], 'file_name': \"1990s - You're Supposed To Be My Friend.mp3\", 'artistsort': ['1990s'], 'discnumber': ['1/1'], 'albumartist': ['1990s'], 'tracknumber': ['7/12'], 'originaldate': ['2007'], 'originalyear': ['2007'], 'catalognumber': ['RTRADCD390'], 'albumartistsort': ['1990s'], 'musicbrainz_albumid': ['50202350-ef5a-4218-a6b8-c83c69eee3a7'], 'musicbrainz_artistid': ['007dbf51-6ee0-4038-8e90-94a954e25ca3'], 'musicbrainz album type': ['album'], 'musicbrainz_recordingid': ['f50de794-4586-43e1-a053-110649ee24f5'], 'musicbrainz album status': ['official'], 'musicbrainz_albumartistid': ['007dbf51-6ee0-4038-8e90-94a954e25ca3'], 'musicbrainz_releasegroupid': ['690b4e70-1cfa-361d-aa71-02fec42bbe18'], 'musicbrainz album release country': ['GB']}, 'version': {'lowlevel': {'essentia': '2.1-beta2', 'extractor': 'music 1.0', 'essentia_git_sha': 'v2.1_beta2', 'essentia_build_sha': '70f2e5ece6736b2c40cc944ad0e695b16b925413'}, 'highlevel': {'gaia': '2.4-dev', 'essentia': '2.1-beta1', 'extractor': 'music 1.0', 'gaia_git_sha': '857329b', 'essentia_git_sha': 'v2.1_beta1-228-g260734a', 'essentia_build_sha': '8e24b98b71ad84f3024c7541412f02124a26d327', 'models_essentia_git_sha': 'v2.1_beta1'}}, 'audio_properties': {'codec': 'mp3', 'length': 220.786941528, 'downmix': 'mix', 'bit_rate': 160019, 'lossless': 0, 'md5_encoded': '25f86cf913e7065cf114357d287d1f95', 'replay_gain': -7.24034118652, 'sample_rate': 44100, 'equal_loudness': 0, 'analysis_sample_rate': 44100}}, 'highlevel': {'gender': {'all': {'male': 0.395218908787, 'female': 0.604781091213}, 'value': 'female', 'version': {'gaia': '2.4-dev', 'essentia': '2.1-beta1', 'extractor': 'music 1.0', 'gaia_git_sha': '857329b', 'essentia_git_sha': 'v2.1_beta1-228-g260734a', 'essentia_build_sha': '8e24b98b71ad84f3024c7541412f02124a26d327', 'models_essentia_git_sha': 'v2.1_beta1'}, 'probability': 0.604781091213}, 'timbre': {'all': {'dark': 0.508948087692, 'bright': 0.49105194211}, 'value': 'dark', 'version': {'gaia': '2.4-dev', 'essentia': '2.1-beta1', 'extractor': 'music 1.0', 'gaia_git_sha': '857329b', 'essentia_git_sha': 'v2.1_beta1-228-g260734a', 'essentia_build_sha': '8e24b98b71ad84f3024c7541412f02124a26d327', 'models_essentia_git_sha': 'v2.1_beta1'}, 'probability': 0.508948087692}, 'mood_sad': {'all': {'sad': 0.0619455166161, 'not_sad': 0.93805450201}, 'value': 'not_sad', 'version': {'gaia': '2.4-dev', 'essentia': '2.1-beta1', 'extractor': 'music 1.0', 'gaia_git_sha': '857329b', 'essentia_git_sha': 'v2.1_beta1-228-g260734a', 'essentia_build_sha': '8e24b98b71ad84f3024c7541412f02124a26d327', 'models_essentia_git_sha': 'v2.1_beta1'}, 'probability': 0.93805450201}, 'mood_happy': {'all': {'happy': 0.761420845985, 'not_happy': 0.238579139113}, 'value': 'happy', 'version': {'gaia': '2.4-dev', 'essentia': '2.1-beta1', 'extractor': 'music 1.0', 'gaia_git_sha': '857329b', 'essentia_git_sha': 'v2.1_beta1-228-g260734a', 'essentia_build_sha': '8e24b98b71ad84f3024c7541412f02124a26d327', 'models_essentia_git_sha': 'v2.1_beta1'}, 'probability': 0.761420845985}, 'mood_party': {'all': {'party': 0.888120651245, 'not_party': 0.111879348755}, 'value': 'party', 'version': {'gaia': '2.4-dev', 'essentia': '2.1-beta1', 'extractor': 'music 1.0', 'gaia_git_sha': '857329b', 'essentia_git_sha': 'v2.1_beta1-228-g260734a', 'essentia_build_sha': '8e24b98b71ad84f3024c7541412f02124a26d327', 'models_essentia_git_sha': 'v2.1_beta1'}, 'probability': 0.888120651245}, 'moods_mirex': {'all': {'Cluster1': 0.184804901481, 'Cluster2': 0.169029280543, 'Cluster3': 0.0690675079823, 'Cluster4': 0.218077659607, 'Cluster5': 0.359020650387}, 'value': 'Cluster5', 'version': {'gaia': '2.4-dev', 'essentia': '2.1-beta1', 'extractor': 'music 1.0', 'gaia_git_sha': '857329b', 'essentia_git_sha': 'v2.1_beta1-228-g260734a', 'essentia_build_sha': '8e24b98b71ad84f3024c7541412f02124a26d327', 'models_essentia_git_sha': 'v2.1_beta1'}, 'probability': 0.359020650387}, 'danceability': {'all': {'danceable': 0.808810114861, 'not_danceable': 0.191189870238}, 'value': 'danceable', 'version': {'gaia': '2.4-dev', 'essentia': '2.1-beta1', 'extractor': 'music 1.0', 'gaia_git_sha': '857329b', 'essentia_git_sha': 'v2.1_beta1-228-g260734a', 'essentia_build_sha': '8e24b98b71ad84f3024c7541412f02124a26d327', 'models_essentia_git_sha': 'v2.1_beta1'}, 'probability': 0.808810114861}, 'mood_relaxed': {'all': {'relaxed': 0.0405146963894, 'not_relaxed': 0.959485292435}, 'value': 'not_relaxed', 'version': {'gaia': '2.4-dev', 'essentia': '2.1-beta1', 'extractor': 'music 1.0', 'gaia_git_sha': '857329b', 'essentia_git_sha': 'v2.1_beta1-228-g260734a', 'essentia_build_sha': '8e24b98b71ad84f3024c7541412f02124a26d327', 'models_essentia_git_sha': 'v2.1_beta1'}, 'probability': 0.959485292435}, 'tonal_atonal': {'all': {'tonal': 0.523571014404, 'atonal': 0.476428985596}, 'value': 'tonal', 'version': {'gaia': '2.4-dev', 'essentia': '2.1-beta1', 'extractor': 'music 1.0', 'gaia_git_sha': '857329b', 'essentia_git_sha': 'v2.1_beta1-228-g260734a', 'essentia_build_sha': '8e24b98b71ad84f3024c7541412f02124a26d327', 'models_essentia_git_sha': 'v2.1_beta1'}, 'probability': 0.523571014404}, 'mood_acoustic': {'all': {'acoustic': 0.00327542796731, 'not_acoustic': 0.996724545956}, 'value': 'not_acoustic', 'version': {'gaia': '2.4-dev', 'essentia': '2.1-beta1', 'extractor': 'music 1.0', 'gaia_git_sha': '857329b', 'essentia_git_sha': 'v2.1_beta1-228-g260734a', 'essentia_build_sha': '8e24b98b71ad84f3024c7541412f02124a26d327', 'models_essentia_git_sha': 'v2.1_beta1'}, 'probability': 0.996724545956}, 'genre_dortmund': {'all': {'pop': 0.00895499996841, 'jazz': 0.00822422932833, 'rock': 0.0384252257645, 'blues': 0.028604445979, 'raphiphop': 0.00351513293572, 'electronic': 0.673384428024, 'alternative': 0.169311463833, 'folkcountry': 0.0650186687708, 'funksoulrnb': 0.00456138886511}, 'value': 'electronic', 'version': {'gaia': '2.4-dev', 'essentia': '2.1-beta1', 'extractor': 'music 1.0', 'gaia_git_sha': '857329b', 'essentia_git_sha': 'v2.1_beta1-228-g260734a', 'essentia_build_sha': '8e24b98b71ad84f3024c7541412f02124a26d327', 'models_essentia_git_sha': 'v2.1_beta1'}, 'probability': 0.673384428024}, 'ismir04_rhythm': {'all': {'Jive': 0.186456128955, 'Samba': 0.0735176131129, 'Tango': 0.223660811782, 'Waltz': 0.0205224491656, 'ChaChaCha': 0.273311436176, 'Quickstep': 0.0454338639975, 'Rumba-Misc': 0.0267311576754, 'VienneseWaltz': 0.0838831439614, 'Rumba-American': 0.035715483129, 'Rumba-International': 0.0307679194957}, 'value': 'ChaChaCha', 'version': {'gaia': '2.4-dev', 'essentia': '2.1-beta1', 'extractor': 'music 1.0', 'gaia_git_sha': '857329b', 'essentia_git_sha': 'v2.1_beta1-228-g260734a', 'essentia_build_sha': '8e24b98b71ad84f3024c7541412f02124a26d327', 'models_essentia_git_sha': 'v2.1_beta1'}, 'probability': 0.273311436176}, 'mood_aggressive': {'all': {'aggressive': 0.35438862443, 'not_aggressive': 0.645611405373}, 'value': 'not_aggressive', 'version': {'gaia': '2.4-dev', 'essentia': '2.1-beta1', 'extractor': 'music 1.0', 'gaia_git_sha': '857329b', 'essentia_git_sha': 'v2.1_beta1-228-g260734a', 'essentia_build_sha': '8e24b98b71ad84f3024c7541412f02124a26d327', 'models_essentia_git_sha': 'v2.1_beta1'}, 'probability': 0.645611405373}, 'mood_electronic': {'all': {'electronic': 0.542111575603, 'not_electronic': 0.457888394594}, 'value': 'electronic', 'version': {'gaia': '2.4-dev', 'essentia': '2.1-beta1', 'extractor': 'music 1.0', 'gaia_git_sha': '857329b', 'essentia_git_sha': 'v2.1_beta1-228-g260734a', 'essentia_build_sha': '8e24b98b71ad84f3024c7541412f02124a26d327', 'models_essentia_git_sha': 'v2.1_beta1'}, 'probability': 0.542111575603}, 'genre_electronic': {'all': {'dnb': 0.0359059348702, 'house': 0.172569155693, 'techno': 0.0131293516606, 'trance': 0.447991907597, 'ambient': 0.330403655767}, 'value': 'trance', 'version': {'gaia': '2.4-dev', 'essentia': '2.1-beta1', 'extractor': 'music 1.0', 'gaia_git_sha': '857329b', 'essentia_git_sha': 'v2.1_beta1-228-g260734a', 'essentia_build_sha': '8e24b98b71ad84f3024c7541412f02124a26d327', 'models_essentia_git_sha': 'v2.1_beta1'}, 'probability': 0.447991907597}, 'genre_rosamerica': {'all': {'cla': 0.011246859096, 'dan': 0.0604226328433, 'hip': 0.0422259271145, 'jaz': 0.0352213606238, 'pop': 0.119118303061, 'rhy': 0.0289452150464, 'roc': 0.698145031929, 'spe': 0.00467464746907}, 'value': 'roc', 'version': {'gaia': '2.4-dev', 'essentia': '2.1-beta1', 'extractor': 'music 1.0', 'gaia_git_sha': '857329b', 'essentia_git_sha': 'v2.1_beta1-228-g260734a', 'essentia_build_sha': '8e24b98b71ad84f3024c7541412f02124a26d327', 'models_essentia_git_sha': 'v2.1_beta1'}, 'probability': 0.698145031929}, 'genre_tzanetakis': {'all': {'blu': 0.0626613423228, 'cla': 0.0348169617355, 'cou': 0.104475811124, 'dis': 0.0784321576357, 'hip': 0.15692435205, 'jaz': 0.313974827528, 'met': 0.0448166541755, 'pop': 0.0627359300852, 'reg': 0.0627360641956, 'roc': 0.0784258767962}, 'value': 'jaz', 'version': {'gaia': '2.4-dev', 'essentia': '2.1-beta1', 'extractor': 'music 1.0', 'gaia_git_sha': '857329b', 'essentia_git_sha': 'v2.1_beta1-228-g260734a', 'essentia_build_sha': '8e24b98b71ad84f3024c7541412f02124a26d327', 'models_essentia_git_sha': 'v2.1_beta1'}, 'probability': 0.313974827528}, 'voice_instrumental': {'all': {'voice': 0.966860949993, 'instrumental': 0.0331390313804}, 'value': 'voice', 'version': {'gaia': '2.4-dev', 'essentia': '2.1-beta1', 'extractor': 'music 1.0', 'gaia_git_sha': '857329b', 'essentia_git_sha': 'v2.1_beta1-228-g260734a', 'essentia_build_sha': '8e24b98b71ad84f3024c7541412f02124a26d327', 'models_essentia_git_sha': 'v2.1_beta1'}, 'probability': 0.966860949993}}}})\n"
          ]
        }
      ]
    }
  ]
}