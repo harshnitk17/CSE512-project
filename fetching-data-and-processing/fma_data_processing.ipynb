{
  "nbformat": 4,
  "nbformat_minor": 0,
  "metadata": {
    "colab": {
      "provenance": []
    },
    "kernelspec": {
      "name": "python3",
      "display_name": "Python 3"
    },
    "language_info": {
      "name": "python"
    }
  },
  "cells": [
    {
      "cell_type": "code",
      "execution_count": null,
      "metadata": {
        "id": "68QTNPq8cBfl"
      },
      "outputs": [],
      "source": [
        "!cp /content/drive/MyDrive/MLProject/archive.zip ."
      ]
    },
    {
      "cell_type": "code",
      "source": [
        "!unzip archive.zip"
      ],
      "metadata": {
        "colab": {
          "base_uri": "https://localhost:8080/"
        },
        "id": "5AxravHAte2r",
        "outputId": "964b6bd3-0693-44b1-fc96-c715e50d5490"
      },
      "execution_count": null,
      "outputs": [
        {
          "output_type": "stream",
          "name": "stdout",
          "text": [
            "Archive:  archive.zip\n",
            "  inflating: song_lyrics.csv         \n"
          ]
        }
      ]
    },
    {
      "cell_type": "code",
      "source": [
        "import pandas as pd\n",
        "file_path = 'song_lyrics.csv'"
      ],
      "metadata": {
        "id": "fFZi9FATuZ9N"
      },
      "execution_count": null,
      "outputs": []
    },
    {
      "cell_type": "code",
      "source": [
        "chunksize = 10000  # Adjust this depending on the size of your file and available memory\n",
        "filtered_data = []\n",
        "\n",
        "for chunk in pd.read_csv(file_path, chunksize=chunksize, usecols=['id', 'title', 'artist']):\n",
        "    # filtered_chunk = chunk[chunk['language_ft'] == 'en']\n",
        "    filtered_data.append(chunk)\n",
        "\n",
        "final_df = pd.concat(filtered_data, ignore_index=True)"
      ],
      "metadata": {
        "id": "ptNqjkr3wa7S"
      },
      "execution_count": null,
      "outputs": []
    },
    {
      "cell_type": "code",
      "source": [
        "print (final_df.head())"
      ],
      "metadata": {
        "colab": {
          "base_uri": "https://localhost:8080/"
        },
        "id": "hN2Uo0OfwcdF",
        "outputId": "914948f5-95a8-4b5d-bb52-ab7624c69f86"
      },
      "execution_count": null,
      "outputs": [
        {
          "output_type": "stream",
          "name": "stdout",
          "text": [
            "               title     artist  id\n",
            "0          Killa Cam    Cam'ron   1\n",
            "1         Can I Live      JAY-Z   3\n",
            "2  Forgive Me Father   Fabolous   4\n",
            "3       Down and Out    Cam'ron   5\n",
            "4             Fly In  Lil Wayne   6\n"
          ]
        }
      ]
    },
    {
      "cell_type": "code",
      "source": [
        "print (final_df.dtypes)"
      ],
      "metadata": {
        "id": "AjrcJRfAVF0p"
      },
      "execution_count": null,
      "outputs": []
    },
    {
      "cell_type": "code",
      "source": [
        "print (final_df.shape)"
      ],
      "metadata": {
        "id": "VlHWw-5zzEcC"
      },
      "execution_count": null,
      "outputs": []
    },
    {
      "cell_type": "code",
      "source": [
        "!wget https://os.unil.cloud.switch.ch/fma/fma_metadata.zip"
      ],
      "metadata": {
        "id": "bP9ih8LT5K0m"
      },
      "execution_count": null,
      "outputs": []
    },
    {
      "cell_type": "code",
      "source": [
        "!unzip fma_metadata.zip"
      ],
      "metadata": {
        "id": "ZtvSzBGs5yO2"
      },
      "execution_count": null,
      "outputs": []
    },
    {
      "cell_type": "code",
      "source": [
        "tracks = 'fma_metadata/tracks.csv'\n",
        "selected_cols = ['date_released','id','id.1','title','title.1','tracks','members','name','composer']\n",
        "tracks_df = pd.read_csv(tracks, skiprows=1, usecols=selected_cols)"
      ],
      "metadata": {
        "id": "_vLg51zZ6sea"
      },
      "execution_count": null,
      "outputs": []
    },
    {
      "cell_type": "code",
      "source": [
        "print (tracks_df.columns)"
      ],
      "metadata": {
        "colab": {
          "base_uri": "https://localhost:8080/"
        },
        "id": "PwcowIYN93o0",
        "outputId": "d1a30050-c9a7-4008-e390-3aac8cad81a9"
      },
      "execution_count": null,
      "outputs": [
        {
          "output_type": "stream",
          "name": "stdout",
          "text": [
            "Index(['date_released', 'id', 'title', 'tracks', 'id.1', 'members', 'name',\n",
            "       'composer', 'title.1'],\n",
            "      dtype='object')\n"
          ]
        }
      ]
    },
    {
      "cell_type": "code",
      "source": [
        "print (tracks_df.head())"
      ],
      "metadata": {
        "colab": {
          "base_uri": "https://localhost:8080/"
        },
        "id": "s3nxBXSl61Gn",
        "outputId": "328c3d9d-201e-4e1b-eb1b-56a878e4341b"
      },
      "execution_count": null,
      "outputs": [
        {
          "output_type": "stream",
          "name": "stdout",
          "text": [
            "         date_released   id                 title  tracks  id.1  \\\n",
            "0                  NaN  NaN                   NaN     NaN   NaN   \n",
            "1  2009-01-05 00:00:00  1.0  AWOL - A Way Of Life     7.0   1.0   \n",
            "2  2009-01-05 00:00:00  1.0  AWOL - A Way Of Life     7.0   1.0   \n",
            "3  2009-01-05 00:00:00  1.0  AWOL - A Way Of Life     7.0   1.0   \n",
            "4  2008-02-06 00:00:00  6.0     Constant Hitmaker     2.0   6.0   \n",
            "\n",
            "                                             members       name   composer  \\\n",
            "0                                                NaN        NaN        NaN   \n",
            "1  Sajje Morocco,Brownbum,ZawidaGod,Custodian of ...       AWOL        NaN   \n",
            "2  Sajje Morocco,Brownbum,ZawidaGod,Custodian of ...       AWOL        NaN   \n",
            "3  Sajje Morocco,Brownbum,ZawidaGod,Custodian of ...       AWOL        NaN   \n",
            "4                           Kurt Vile, the Violators  Kurt Vile  Kurt Vile   \n",
            "\n",
            "        title.1  \n",
            "0           NaN  \n",
            "1          Food  \n",
            "2  Electric Ave  \n",
            "3    This World  \n",
            "4       Freeway  \n"
          ]
        }
      ]
    },
    {
      "cell_type": "code",
      "source": [
        "tracks_df.dropna(subset=['title.1','name'], inplace=True)"
      ],
      "metadata": {
        "id": "ecpkHKAgPJlL"
      },
      "execution_count": null,
      "outputs": []
    },
    {
      "cell_type": "code",
      "source": [
        "print (tracks_df.head(10))"
      ],
      "metadata": {
        "colab": {
          "base_uri": "https://localhost:8080/"
        },
        "id": "z9FowfnyP3Cq",
        "outputId": "2908beed-2ab9-4f21-a189-93190a7ed89e"
      },
      "execution_count": null,
      "outputs": [
        {
          "output_type": "stream",
          "name": "stdout",
          "text": [
            "          date_released   id                 title  tracks  id.1  \\\n",
            "1   2009-01-05 00:00:00  1.0  AWOL - A Way Of Life     7.0   1.0   \n",
            "2   2009-01-05 00:00:00  1.0  AWOL - A Way Of Life     7.0   1.0   \n",
            "3   2009-01-05 00:00:00  1.0  AWOL - A Way Of Life     7.0   1.0   \n",
            "4   2008-02-06 00:00:00  6.0     Constant Hitmaker     2.0   6.0   \n",
            "5   2009-01-06 00:00:00  4.0                 Niris    13.0   4.0   \n",
            "6   2009-01-06 00:00:00  4.0                 Niris    13.0   4.0   \n",
            "7   2009-01-06 00:00:00  4.0                 Niris    13.0   4.0   \n",
            "8   2009-01-06 00:00:00  4.0                 Niris    13.0   4.0   \n",
            "9   2009-01-06 00:00:00  4.0                 Niris    13.0   4.0   \n",
            "10  2009-01-05 00:00:00  1.0  AWOL - A Way Of Life     7.0   1.0   \n",
            "\n",
            "                                              members        name   composer  \\\n",
            "1   Sajje Morocco,Brownbum,ZawidaGod,Custodian of ...        AWOL        NaN   \n",
            "2   Sajje Morocco,Brownbum,ZawidaGod,Custodian of ...        AWOL        NaN   \n",
            "3   Sajje Morocco,Brownbum,ZawidaGod,Custodian of ...        AWOL        NaN   \n",
            "4                            Kurt Vile, the Violators   Kurt Vile  Kurt Vile   \n",
            "5                                        Nicky Cook\\n  Nicky Cook        NaN   \n",
            "6                                        Nicky Cook\\n  Nicky Cook        NaN   \n",
            "7                                        Nicky Cook\\n  Nicky Cook        NaN   \n",
            "8                                        Nicky Cook\\n  Nicky Cook        NaN   \n",
            "9                                        Nicky Cook\\n  Nicky Cook        NaN   \n",
            "10  Sajje Morocco,Brownbum,ZawidaGod,Custodian of ...        AWOL        NaN   \n",
            "\n",
            "                title.1  \n",
            "1                  Food  \n",
            "2          Electric Ave  \n",
            "3            This World  \n",
            "4               Freeway  \n",
            "5       Spiritual Level  \n",
            "6   Where is your Love?  \n",
            "7             Too Happy  \n",
            "8              Yosemite  \n",
            "9        Light of Light  \n",
            "10         Street Music  \n"
          ]
        }
      ]
    },
    {
      "cell_type": "code",
      "source": [
        "print (tracks_df.shape)\n",
        "print (final_df.shape)"
      ],
      "metadata": {
        "colab": {
          "base_uri": "https://localhost:8080/"
        },
        "id": "lVhT82qAQkC9",
        "outputId": "f56b78ff-34a1-478d-81a3-c6aae17ac2e0"
      },
      "execution_count": null,
      "outputs": [
        {
          "output_type": "stream",
          "name": "stdout",
          "text": [
            "(106573, 9)\n",
            "(3415314, 5)\n"
          ]
        }
      ]
    },
    {
      "cell_type": "code",
      "source": [
        "!pip install fuzzywuzzy\n",
        "from fuzzywuzzy import process"
      ],
      "metadata": {
        "id": "ztsQDwxvUsfv"
      },
      "execution_count": null,
      "outputs": []
    },
    {
      "cell_type": "code",
      "source": [
        "def preprocess_text(text):\n",
        "    # Trim trailing spaces and special characters, convert to lowercase\n",
        "    return ''.join(e for e in text.strip().lower() if e.isalnum())"
      ],
      "metadata": {
        "id": "ix0-WmaOU0wD"
      },
      "execution_count": null,
      "outputs": []
    },
    {
      "cell_type": "code",
      "source": [
        "final_df.dropna(subset=['title','artist'], inplace=True)"
      ],
      "metadata": {
        "id": "A8SB1zzCVXcT"
      },
      "execution_count": null,
      "outputs": []
    },
    {
      "cell_type": "code",
      "source": [
        "# final_df['processed_title'] = final_df['title'].apply(preprocess_title)\n",
        "# tracks_df['processed_title'] = tracks_df['title.1'].apply(preprocess_title)\n",
        "# final_df['processed_artist'] = final_df['artist'].apply(preprocess_title)\n",
        "# tracks_df['processed_artist'] = tracks_df['name'].apply(preprocess_title)"
      ],
      "metadata": {
        "id": "uDiCnNtoU2CT"
      },
      "execution_count": null,
      "outputs": []
    },
    {
      "cell_type": "code",
      "source": [
        "final_df['processed_title'] = final_df['title'].apply(preprocess_title)\n",
        "final_df['processed_artist'] = final_df['artist'].apply(preprocess_title)"
      ],
      "metadata": {
        "id": "rVTg15LhtlpZ"
      },
      "execution_count": null,
      "outputs": []
    },
    {
      "cell_type": "code",
      "source": [
        "print (tracks_df.shape)\n",
        "print (final_df.shape)"
      ],
      "metadata": {
        "colab": {
          "base_uri": "https://localhost:8080/"
        },
        "id": "r7uj6WIyVfNG",
        "outputId": "bbd9a643-45a0-418f-8af3-2d748b9f53f3"
      },
      "execution_count": null,
      "outputs": [
        {
          "output_type": "stream",
          "name": "stdout",
          "text": [
            "(106573, 11)\n",
            "(3415205, 7)\n"
          ]
        }
      ]
    },
    {
      "cell_type": "code",
      "source": [
        "print (tracks_df.head())"
      ],
      "metadata": {
        "colab": {
          "base_uri": "https://localhost:8080/"
        },
        "id": "1aLsR02QViuy",
        "outputId": "3ef19290-a2d6-49c2-d218-e7c6aab3a80c"
      },
      "execution_count": null,
      "outputs": [
        {
          "output_type": "stream",
          "name": "stdout",
          "text": [
            "         date_released   id                 title  tracks  id.1  \\\n",
            "1  2009-01-05 00:00:00  1.0  AWOL - A Way Of Life     7.0   1.0   \n",
            "2  2009-01-05 00:00:00  1.0  AWOL - A Way Of Life     7.0   1.0   \n",
            "3  2009-01-05 00:00:00  1.0  AWOL - A Way Of Life     7.0   1.0   \n",
            "4  2008-02-06 00:00:00  6.0     Constant Hitmaker     2.0   6.0   \n",
            "5  2009-01-06 00:00:00  4.0                 Niris    13.0   4.0   \n",
            "\n",
            "                                             members        name   composer  \\\n",
            "1  Sajje Morocco,Brownbum,ZawidaGod,Custodian of ...        AWOL        NaN   \n",
            "2  Sajje Morocco,Brownbum,ZawidaGod,Custodian of ...        AWOL        NaN   \n",
            "3  Sajje Morocco,Brownbum,ZawidaGod,Custodian of ...        AWOL        NaN   \n",
            "4                           Kurt Vile, the Violators   Kurt Vile  Kurt Vile   \n",
            "5                                       Nicky Cook\\n  Nicky Cook        NaN   \n",
            "\n",
            "           title.1 processed_title processed_artist  \n",
            "1             Food            food             awol  \n",
            "2     Electric Ave     electricave             awol  \n",
            "3       This World       thisworld             awol  \n",
            "4          Freeway         freeway         kurtvile  \n",
            "5  Spiritual Level  spirituallevel        nickycook  \n"
          ]
        }
      ]
    },
    {
      "cell_type": "code",
      "source": [
        "print (final_df.head())"
      ],
      "metadata": {
        "colab": {
          "base_uri": "https://localhost:8080/"
        },
        "id": "_upMw-HNVpwW",
        "outputId": "c3837e27-20c0-43ff-8d82-582af970874a"
      },
      "execution_count": null,
      "outputs": [
        {
          "output_type": "stream",
          "name": "stdout",
          "text": [
            "               title     artist  \\\n",
            "0          Killa Cam    Cam'ron   \n",
            "1         Can I Live      JAY-Z   \n",
            "2  Forgive Me Father   Fabolous   \n",
            "3       Down and Out    Cam'ron   \n",
            "4             Fly In  Lil Wayne   \n",
            "\n",
            "                                              lyrics  id language_ft  \\\n",
            "0  [Chorus: Opera Steve & Cam'ron]\\nKilla Cam, Ki...   1          en   \n",
            "1  [Produced by Irv Gotti]\\n\\n[Intro]\\nYeah, hah,...   3          en   \n",
            "2  Maybe cause I'm eatin\\nAnd these bastards fien...   4          en   \n",
            "3  [Produced by Kanye West and Brian Miller]\\n\\n[...   5          en   \n",
            "4  [Intro]\\nSo they ask me\\n\"Young boy\\nWhat you ...   6          en   \n",
            "\n",
            "   processed_title processed_artist  \n",
            "0         killacam           camron  \n",
            "1         canilive             jayz  \n",
            "2  forgivemefather         fabolous  \n",
            "3       downandout           camron  \n",
            "4            flyin         lilwayne  \n"
          ]
        }
      ]
    },
    {
      "cell_type": "code",
      "source": [
        "exact_merge_df = pd.merge(final_df, tracks_df, left_on=['processed_title', 'processed_artist'], right_on=['processed_title', 'processed_artist'])"
      ],
      "metadata": {
        "id": "QqFpXrWoVwka"
      },
      "execution_count": null,
      "outputs": []
    },
    {
      "cell_type": "code",
      "source": [
        "print (exact_merge_df.head(10))"
      ],
      "metadata": {
        "colab": {
          "base_uri": "https://localhost:8080/"
        },
        "id": "U_PpnMhHV7ii",
        "outputId": "dd73f0b3-6519-4253-e82a-c573b85247b3"
      },
      "execution_count": null,
      "outputs": [
        {
          "output_type": "stream",
          "name": "stdout",
          "text": [
            "                    title_x        artist  \\\n",
            "0                 Crossover          EPMD   \n",
            "1                   Rampage          EPMD   \n",
            "2             Richter Scale          EPMD   \n",
            "3  Please Listen to My Demo          EPMD   \n",
            "4           Deranged Barber    Majik Most   \n",
            "5        Puppet on a String   Night Beats   \n",
            "6       Benny and the Jetts       TV Girl   \n",
            "7                Start None  Kellee Maize   \n",
            "8                 Third Eye  Kellee Maize   \n",
            "9         City of Champions  Kellee Maize   \n",
            "\n",
            "                                              lyrics   id_x language_ft  \\\n",
            "0  [Hook]\\nWhatever you want\\nWhatever you need\\n...    929          en   \n",
            "1  [Intro: Parrish Smith]\\nYeah, uh, funk, record...  18952          en   \n",
            "2  Check one\\n\\n[Erick Sermon]\\nUh-huh\\nYeah, aww...  18963          en   \n",
            "3  * versions on \"Greatest Hits\" differ from the ...  18969          en   \n",
            "4  [Intro] [Kid talking] (Majik Most):\\nHey yeah,...  30362          en   \n",
            "5  I was going fishing\\nIn the night\\nI was going...  53253          en   \n",
            "6  [Verse 1]\\nHer eyes were green, her skin glist...  70403          en   \n",
            "7  CHORUS\\nIf you don’t start none, then there wo...  74911          en   \n",
            "8  Yeah I hate to tell ya but I won’t fit in your...  74916          en   \n",
            "9  [Hook 2X]\\nWe are in the city of champions, yo...  75129          en   \n",
            "\n",
            "        processed_title processed_artist        date_released     id_y  \\\n",
            "0             crossover             epmd                  NaN   1996.0   \n",
            "1               rampage             epmd                  NaN   1996.0   \n",
            "2          richterscale             epmd                  NaN   1996.0   \n",
            "3  pleaselistentomydemo             epmd                  NaN   1996.0   \n",
            "4        derangedbarber        majikmost  2005-01-01 00:00:00   3234.0   \n",
            "5       puppetonastring       nightbeats  2012-04-13 00:00:00  11555.0   \n",
            "6      bennyandthejetts           tvgirl  2013-05-17 00:00:00  19114.0   \n",
            "7             startnone      kelleemaize  2010-01-28 00:00:00  13248.0   \n",
            "8              thirdeye      kelleemaize  2010-01-28 00:00:00  13248.0   \n",
            "9       cityofchampions      kelleemaize  2010-01-28 00:00:00  13248.0   \n",
            "\n",
            "                                             title_y  tracks     id.1  \\\n",
            "0                                   Live at ATP 2008    25.0    706.0   \n",
            "1                                   Live at ATP 2008    25.0    706.0   \n",
            "2                                   Live at ATP 2008    25.0    706.0   \n",
            "3                                   Live at ATP 2008    25.0    706.0   \n",
            "4                                  Molesting Hip Hop     2.0   3773.0   \n",
            "5  Live at WFMU on Three Chord Monte with Joe Bel...     8.0   7041.0   \n",
            "6                                    Our First 2 EPs     8.0  18802.0   \n",
            "7                                  Aligned Archetype    22.0  12271.0   \n",
            "8                                  Aligned Archetype    22.0  12271.0   \n",
            "9                                  Aligned Archetype    22.0  12271.0   \n",
            "\n",
            "             members          name composer                   title.1  \n",
            "0  Erick Sermon\\nPMD          EPMD      NaN                 Crossover  \n",
            "1  Erick Sermon\\nPMD          EPMD      NaN                   Rampage  \n",
            "2  Erick Sermon\\nPMD          EPMD      NaN             Richter Scale  \n",
            "3  Erick Sermon\\nPMD          EPMD      NaN  Please Listen To My Demo  \n",
            "4                NaN    Majik Most      NaN           Deranged Barber  \n",
            "5                NaN   Night Beats      NaN        Puppet On A String  \n",
            "6                NaN       TV Girl      NaN       Benny and the Jetts  \n",
            "7       Kellee Maize  Kellee Maize      NaN                Start None  \n",
            "8       Kellee Maize  Kellee Maize      NaN                 Third Eye  \n",
            "9       Kellee Maize  Kellee Maize      NaN         City of Champions  \n"
          ]
        }
      ]
    },
    {
      "cell_type": "code",
      "source": [
        "exact_merge_df.shape"
      ],
      "metadata": {
        "colab": {
          "base_uri": "https://localhost:8080/"
        },
        "id": "5CWKcqgkWLTI",
        "outputId": "b6f6cd64-9848-4159-d3af-e5460a0c9ffe"
      },
      "execution_count": null,
      "outputs": [
        {
          "output_type": "execute_result",
          "data": {
            "text/plain": [
              "(2560, 16)"
            ]
          },
          "metadata": {},
          "execution_count": 29
        }
      ]
    },
    {
      "cell_type": "code",
      "source": [
        "exact_merge_df.to_csv('merged.csv')"
      ],
      "metadata": {
        "id": "lTPSoy_3WOO_"
      },
      "execution_count": null,
      "outputs": []
    },
    {
      "cell_type": "code",
      "source": [
        "new_df = exact_merge_df[['title_x','artist','members','lyrics','id_x','id_y','id.1','tracks']]"
      ],
      "metadata": {
        "id": "-8fyYKEklMLm"
      },
      "execution_count": null,
      "outputs": []
    },
    {
      "cell_type": "code",
      "source": [
        "new_df.to_csv('merged2.csv')"
      ],
      "metadata": {
        "id": "cchbhAB0m9Wm"
      },
      "execution_count": null,
      "outputs": []
    },
    {
      "cell_type": "code",
      "source": [
        "print (new_df.tail())"
      ],
      "metadata": {
        "colab": {
          "base_uri": "https://localhost:8080/"
        },
        "id": "IeqBdoYemtLx",
        "outputId": "5e346895-dc33-4df5-afef-7185a526891c"
      },
      "execution_count": null,
      "outputs": [
        {
          "output_type": "stream",
          "name": "stdout",
          "text": [
            "                              title_x         artist  \\\n",
            "2555                       Head Space  Blessed State   \n",
            "2556                            Wiser  Blessed State   \n",
            "2557                       Tidal Wave    The Laurels   \n",
            "2558                    Oui Oui Marie  Arthur Fields   \n",
            "2559  Our Tears Help the Flowers Grow      Cold Cave   \n",
            "\n",
            "                                                members  \\\n",
            "2555  Rob: guitar\\nAndrew: drums\\nKiana: bass\\nBrian...   \n",
            "2556  Rob: guitar\\nAndrew: drums\\nKiana: bass\\nBrian...   \n",
            "2557  Conor Hannan\\nKate Wilson\\nPiers Cornelius\\nLu...   \n",
            "2558                                                NaN   \n",
            "2559                                                Wes   \n",
            "\n",
            "                                                 lyrics     id_x     id_y  \\\n",
            "2555  Weʼre stuck in a city that we thought we knew\\...  7753731  13813.0   \n",
            "2556  Interchanging parts, comfortable locale\\nHow c...  7753732  13813.0   \n",
            "2557  [Verse]\\nWash over me, tidal wave\\nWash over y...  7782534  14542.0   \n",
            "2558  Poor Johnny's heart\\nWent pitty-pitty-pat\\nSom...  7813557  18802.0   \n",
            "2559  I'm not enough\\nI'm not in love\\nIt's all lies...  7859265   1945.0   \n",
            "\n",
            "         id.1  tracks  \n",
            "2555  15830.0     6.0  \n",
            "2556  15830.0     6.0  \n",
            "2557  16593.0     8.0  \n",
            "2558   4539.0     6.0  \n",
            "2559   1803.0     4.0  \n"
          ]
        }
      ]
    },
    {
      "cell_type": "code",
      "source": [
        "final_df['title_artist'] = final_df['processed_title'] + final_df['processed_artist']\n",
        "tracks_df['title_artist'] = tracks_df['processed_title'] + tracks_df['processed_artist']"
      ],
      "metadata": {
        "id": "wg_-PdXzaqYj"
      },
      "execution_count": null,
      "outputs": []
    },
    {
      "cell_type": "code",
      "source": [
        "from fuzzywuzzy import fuzz  # Import the fuzz module\n",
        "SIMILARITY_THRESHOLD = 90\n",
        "\n",
        "# Fuzzy string matching with threshold\n",
        "def get_best_match(row, choices, scorer, threshold):\n",
        "    best_match = process.extractOne(row['title_artist'], choices, scorer=scorer)\n",
        "    # Return the match only if the score is above the threshold\n",
        "    return best_match[0] if best_match and best_match[1] >= threshold else None\n",
        "\n",
        "tracks_choices = tracks_df['title_artist'].tolist()\n",
        "final_df['best_match'] = final_df.apply(get_best_match, args=(tracks_choices, fuzz.ratio, SIMILARITY_THRESHOLD), axis=1)\n",
        "fuzzy_merge_df = pd.merge(final_df, tracks_df, left_on='best_match', right_on='title_artist')\n",
        "\n",
        "# ... [rest of your code] ...\n"
      ],
      "metadata": {
        "id": "J8CMCM82ZREF"
      },
      "execution_count": null,
      "outputs": []
    },
    {
      "cell_type": "code",
      "source": [
        "def preprocess_text(text):\n",
        "    return ''.join(e for e in text.strip().lower() if e.isalnum())"
      ],
      "metadata": {
        "id": "W23wzMItpX9w"
      },
      "execution_count": null,
      "outputs": []
    },
    {
      "cell_type": "code",
      "source": [
        "import time\n",
        "import requests\n",
        "from urllib.parse import quote\n",
        "MAX_RETRIES = 2\n",
        "RETRY_DELAY = 2\n",
        "def make_api_request(url):\n",
        "    for attempt in range(MAX_RETRIES):\n",
        "        try:\n",
        "            response = requests.get(url)\n",
        "            response.raise_for_status()\n",
        "            return response.json()\n",
        "        except requests.RequestException as e:\n",
        "            print(f\"Attempt {attempt + 1} failed: {e}\")\n",
        "            time.sleep(RETRY_DELAY)\n",
        "    return None"
      ],
      "metadata": {
        "id": "Jt6C0P42zOxY"
      },
      "execution_count": null,
      "outputs": []
    },
    {
      "cell_type": "code",
      "source": [
        "def get_mbid_and_artist_id(row):\n",
        "    query_title = quote(row['title_x'])\n",
        "    query_artist = quote(row['artist'])\n",
        "    preprocessed_title = preprocess_text(row['title_x'])\n",
        "    preprocessed_artist = preprocess_text(row['artist'])\n",
        "\n",
        "    url = f\"https://musicbrainz.org/ws/2/recording/?query=recording:{query_title}%20AND%20artist:{query_artist}&fmt=json&limit=3\"\n",
        "    data = make_api_request(url)\n",
        "    if data:\n",
        "        for recording in data.get('recordings', []):\n",
        "            rec_title = preprocess_text(recording.get('title', ''))\n",
        "            for i in range(len(recording['artist-credit'])):\n",
        "              rec_artist = preprocess_text(recording['artist-credit'][i]['name']) if 'name' in recording['artist-credit'][i] else ''\n",
        "              if preprocessed_title == rec_title and preprocessed_artist == rec_artist:\n",
        "                  return recording['id'], recording['artist-credit'][i]['artist']['id']\n",
        "    return None, None"
      ],
      "metadata": {
        "id": "QucrxATnv4l8"
      },
      "execution_count": null,
      "outputs": []
    },
    {
      "cell_type": "code",
      "source": [
        "print (len(new_df))"
      ],
      "metadata": {
        "colab": {
          "base_uri": "https://localhost:8080/"
        },
        "id": "DwCTsf560IA7",
        "outputId": "d29edfe3-c9e7-43bc-b344-0033d0a3ac77"
      },
      "execution_count": null,
      "outputs": [
        {
          "output_type": "stream",
          "name": "stdout",
          "text": [
            "2560\n"
          ]
        }
      ]
    },
    {
      "cell_type": "code",
      "source": [
        "mbid_artist_ids = []\n",
        "prog=0\n",
        "tot=len(new_df)\n",
        "for _, row in new_df.iterrows():\n",
        "    mbid, artist_id = get_mbid_and_artist_id(row)\n",
        "    mbid_artist_ids.append((mbid, artist_id))\n",
        "    prog+=1\n",
        "    # print (mbid, artist_id)\n",
        "    if prog%100==0:\n",
        "      print (f\"Done: {prog/tot}\")\n",
        "    time.sleep(1)  # Sleep for 1 second\n",
        "\n",
        "new_df['mbid'], new_df['artist_id'] = zip(*mbid_artist_ids)"
      ],
      "metadata": {
        "colab": {
          "base_uri": "https://localhost:8080/"
        },
        "id": "LLHubzamz5Uz",
        "outputId": "3dcdd41e-b128-4dd0-9376-e1049a338a70"
      },
      "execution_count": null,
      "outputs": [
        {
          "output_type": "stream",
          "name": "stdout",
          "text": [
            "Done: 0.0390625\n",
            "Done: 0.078125\n",
            "Done: 0.1171875\n",
            "Done: 0.15625\n",
            "Done: 0.1953125\n",
            "Done: 0.234375\n",
            "Done: 0.2734375\n",
            "Done: 0.3125\n",
            "Done: 0.3515625\n",
            "Done: 0.390625\n",
            "Done: 0.4296875\n",
            "Done: 0.46875\n",
            "Done: 0.5078125\n",
            "Done: 0.546875\n",
            "Done: 0.5859375\n",
            "Done: 0.625\n",
            "Done: 0.6640625\n",
            "Done: 0.703125\n",
            "Done: 0.7421875\n",
            "Done: 0.78125\n",
            "Done: 0.8203125\n",
            "Done: 0.859375\n",
            "Done: 0.8984375\n",
            "Done: 0.9375\n",
            "Done: 0.9765625\n"
          ]
        },
        {
          "output_type": "stream",
          "name": "stderr",
          "text": [
            "<ipython-input-38-9380c720942b>:13: SettingWithCopyWarning: \n",
            "A value is trying to be set on a copy of a slice from a DataFrame.\n",
            "Try using .loc[row_indexer,col_indexer] = value instead\n",
            "\n",
            "See the caveats in the documentation: https://pandas.pydata.org/pandas-docs/stable/user_guide/indexing.html#returning-a-view-versus-a-copy\n",
            "  new_df['mbid'], new_df['artist_id'] = zip(*mbid_artist_ids)\n",
            "<ipython-input-38-9380c720942b>:13: SettingWithCopyWarning: \n",
            "A value is trying to be set on a copy of a slice from a DataFrame.\n",
            "Try using .loc[row_indexer,col_indexer] = value instead\n",
            "\n",
            "See the caveats in the documentation: https://pandas.pydata.org/pandas-docs/stable/user_guide/indexing.html#returning-a-view-versus-a-copy\n",
            "  new_df['mbid'], new_df['artist_id'] = zip(*mbid_artist_ids)\n"
          ]
        }
      ]
    },
    {
      "cell_type": "code",
      "source": [
        "print (new_df.iloc[0,-2])"
      ],
      "metadata": {
        "colab": {
          "base_uri": "https://localhost:8080/"
        },
        "id": "K8ha_W4wHsMh",
        "outputId": "2fe0f781-b96b-4009-9f2f-2eba303324c8"
      },
      "execution_count": null,
      "outputs": [
        {
          "output_type": "stream",
          "name": "stdout",
          "text": [
            "653711bf-8153-4473-8bfd-e0f488a6b201\n"
          ]
        }
      ]
    },
    {
      "cell_type": "code",
      "source": [
        "new_df.to_csv('merge_with_mbid.csv')"
      ],
      "metadata": {
        "id": "fJha__vCIUQa"
      },
      "execution_count": null,
      "outputs": []
    },
    {
      "cell_type": "code",
      "source": [
        "print (new_df.shape)"
      ],
      "metadata": {
        "colab": {
          "base_uri": "https://localhost:8080/"
        },
        "id": "YRoHB6_cJLC4",
        "outputId": "9f222b1a-6e49-48c9-a327-3c4916fcc196"
      },
      "execution_count": null,
      "outputs": [
        {
          "output_type": "stream",
          "name": "stdout",
          "text": [
            "(2560, 10)\n"
          ]
        }
      ]
    },
    {
      "cell_type": "code",
      "source": [
        "print (new_df.isna().sum())"
      ],
      "metadata": {
        "colab": {
          "base_uri": "https://localhost:8080/"
        },
        "id": "sGw639aIJO3t",
        "outputId": "ca1f71f6-19eb-4ad9-91fa-c8cb09ef7903"
      },
      "execution_count": null,
      "outputs": [
        {
          "output_type": "stream",
          "name": "stdout",
          "text": [
            "title_x        0\n",
            "artist         0\n",
            "members      990\n",
            "lyrics         0\n",
            "id_x           0\n",
            "id_y           0\n",
            "id.1           0\n",
            "tracks         0\n",
            "mbid         229\n",
            "artist_id    229\n",
            "dtype: int64\n"
          ]
        }
      ]
    },
    {
      "cell_type": "code",
      "source": [
        "new_df.dropna(subset=[\"mbid\"],inplace=True)"
      ],
      "metadata": {
        "colab": {
          "base_uri": "https://localhost:8080/"
        },
        "id": "23h2WtQvJzSm",
        "outputId": "fd7a743a-94b1-48da-83d4-383fa4081a22"
      },
      "execution_count": null,
      "outputs": [
        {
          "output_type": "stream",
          "name": "stderr",
          "text": [
            "<ipython-input-56-1a9c9230d886>:1: SettingWithCopyWarning: \n",
            "A value is trying to be set on a copy of a slice from a DataFrame\n",
            "\n",
            "See the caveats in the documentation: https://pandas.pydata.org/pandas-docs/stable/user_guide/indexing.html#returning-a-view-versus-a-copy\n",
            "  new_df.dropna(subset=[\"mbid\"],inplace=True)\n"
          ]
        }
      ]
    },
    {
      "cell_type": "code",
      "source": [
        "print (new_df.isna().sum())\n",
        "print (new_df.shape)"
      ],
      "metadata": {
        "colab": {
          "base_uri": "https://localhost:8080/"
        },
        "id": "LhPZ4QH1J65u",
        "outputId": "11b36573-20fd-4a56-dc4e-0aa1d86e0d3e"
      },
      "execution_count": null,
      "outputs": [
        {
          "output_type": "stream",
          "name": "stdout",
          "text": [
            "title_x        0\n",
            "artist         0\n",
            "members      876\n",
            "lyrics         0\n",
            "id_x           0\n",
            "id_y           0\n",
            "id.1           0\n",
            "tracks         0\n",
            "mbid           0\n",
            "artist_id      0\n",
            "dtype: int64\n",
            "(2331, 10)\n"
          ]
        }
      ]
    },
    {
      "cell_type": "code",
      "source": [
        "mbids = list(new_df[\"mbid\"])"
      ],
      "metadata": {
        "id": "TLpVO9LwKHkx"
      },
      "execution_count": null,
      "outputs": []
    },
    {
      "cell_type": "code",
      "source": [
        "!sudo apt-get -y -qq update\n",
        "!sudo apt-get -y -qq install postgresql"
      ],
      "metadata": {
        "id": "BwEtgi9oKnlS"
      },
      "execution_count": null,
      "outputs": []
    },
    {
      "cell_type": "code",
      "source": [
        "!sudo service postgresql start"
      ],
      "metadata": {
        "colab": {
          "base_uri": "https://localhost:8080/"
        },
        "id": "C_zp2wCCKvVA",
        "outputId": "ae6efc57-c312-4589-9735-0306da9f6282"
      },
      "execution_count": null,
      "outputs": [
        {
          "output_type": "stream",
          "name": "stdout",
          "text": [
            " * Starting PostgreSQL 14 database server\n",
            "   ...done.\n"
          ]
        }
      ]
    },
    {
      "cell_type": "code",
      "source": [
        "!sudo -u postgres psql -U postgres -c \"ALTER USER postgres PASSWORD 'postgres';\""
      ],
      "metadata": {
        "colab": {
          "base_uri": "https://localhost:8080/"
        },
        "id": "KwrUGSvdKywL",
        "outputId": "c20c50ff-f28e-4c9f-dce7-3fb159477ac9"
      },
      "execution_count": null,
      "outputs": [
        {
          "output_type": "stream",
          "name": "stdout",
          "text": [
            "ALTER ROLE\n"
          ]
        }
      ]
    },
    {
      "cell_type": "code",
      "source": [
        "!sudo -u postgres psql -U postgres -c 'CREATE DATABASE cse512;'"
      ],
      "metadata": {
        "colab": {
          "base_uri": "https://localhost:8080/"
        },
        "id": "NJ1f33VTK0I6",
        "outputId": "54907971-3eb2-4732-dd06-80f944c4e55e"
      },
      "execution_count": null,
      "outputs": [
        {
          "output_type": "stream",
          "name": "stdout",
          "text": [
            "CREATE DATABASE\n"
          ]
        }
      ]
    },
    {
      "cell_type": "code",
      "source": [
        "import psycopg2\n",
        "\n",
        "db_params = {\n",
        "    \"dbname\": \"cse512\",\n",
        "    \"user\": \"postgres\",\n",
        "    \"password\": \"postgres\",\n",
        "    \"host\": \"localhost\",  # Assuming PostgreSQL is running locally on Colab\n",
        "    \"port\": \"5432\",       # Default PostgreSQL port\n",
        "}\n",
        "\n",
        "# Establish a connection to the database\n",
        "conn = psycopg2.connect(**db_params)\n",
        "\n",
        "# Create a cursor object to interact with the database\n",
        "cursor = conn.cursor()"
      ],
      "metadata": {
        "id": "q0pqp1rqK6Pt"
      },
      "execution_count": null,
      "outputs": []
    },
    {
      "cell_type": "code",
      "source": [
        "cursor.execute(\"\"\"\n",
        "    CREATE TABLE IF NOT EXISTS song_data (\n",
        "        mbid UUID PRIMARY KEY,\n",
        "        low_level_data JSONB,\n",
        "        high_level_data JSONB\n",
        "    );\n",
        "\"\"\")\n",
        "conn.commit()"
      ],
      "metadata": {
        "id": "fmRTTYI7K-r7"
      },
      "execution_count": null,
      "outputs": []
    },
    {
      "cell_type": "code",
      "source": [
        "import requests\n",
        "import time\n",
        "from itertools import islice\n",
        "\n",
        "def fetch_data(mbid_list, data_type, request_times, max_requests, time_frame):\n",
        "    base_url = f\"https://acousticbrainz.org/api/v1/{data_type}\"\n",
        "    params = {'recording_ids': ';'.join(mbid_list)}\n",
        "    try:\n",
        "        # Ensure we respect the rate limit\n",
        "        if len(request_times) == max_requests:\n",
        "            elapsed = time.time() - request_times[0]\n",
        "            if elapsed < time_frame:\n",
        "                time.sleep(time_frame - elapsed)\n",
        "            request_times.pop(0)\n",
        "\n",
        "        response = requests.get(base_url, params=params)\n",
        "        request_times.append(time.time())\n",
        "\n",
        "        if response.status_code == 200:\n",
        "            return response.json()\n",
        "        elif response.status_code == 429:\n",
        "            # Hit rate limit, sleep and retry\n",
        "            time.sleep(10)\n",
        "            return fetch_data(mbid_list, data_type, request_times, max_requests, time_frame)\n",
        "        else:\n",
        "            print(f\"Failed to fetch {data_type} data: {response.status_code}\")\n",
        "            return None\n",
        "    except requests.exceptions.RequestException as e:\n",
        "        print(f\"Request failed: {e}\")\n",
        "        time.sleep(5)\n",
        "        return fetch_data(mbid_list, data_type, request_times, max_requests, time_frame)"
      ],
      "metadata": {
        "id": "-nZRd7ybLCA1"
      },
      "execution_count": null,
      "outputs": []
    },
    {
      "cell_type": "code",
      "source": [
        "import json\n",
        "def insert_data(mbid, high_level_data, low_level_data):\n",
        "    if high_level_data:  # Check if both high-level and low-level data exist\n",
        "        with conn.cursor() as cur:\n",
        "            insert_query = \"\"\"\n",
        "                INSERT INTO song_data (mbid, high_level_data, low_level_data)\n",
        "                VALUES (%s, %s, %s)\n",
        "                ON CONFLICT (mbid) DO UPDATE\n",
        "                SET high_level_data = excluded.high_level_data,\n",
        "                    low_level_data = excluded.low_level_data;\n",
        "            \"\"\"\n",
        "            cur.execute(insert_query, (mbid, json.dumps(high_level_data), json.dumps(low_level_data)))\n",
        "            conn.commit()\n"
      ],
      "metadata": {
        "id": "UwM-3-ARLPZi"
      },
      "execution_count": null,
      "outputs": []
    },
    {
      "cell_type": "code",
      "source": [
        "max_requests = 5  # Max 9 requests\n",
        "time_frame = 10  # in 10 seconds\n",
        "\n",
        "# Initialize a list to keep track of request times for rate limiting\n",
        "request_times = []\n",
        "done=0\n",
        "# Assuming loaded_set is a set of MBIDs already loaded into the environment\n",
        "chunk_size = 20\n",
        "request_times = []  # Initialize a list to keep track of request times for rate limiting\n",
        "\n",
        "# Iterate over the loaded_set in chunks\n",
        "for i in range(0, len(mbids)-chunk_size-1, chunk_size):\n",
        "    mbid_chunk = mbids[i:i+chunk_size]\n",
        "\n",
        "    # Fetch high-level data\n",
        "    high_level_data = fetch_data(mbid_chunk, 'high-level', request_times, max_requests, time_frame)\n",
        "\n",
        "    # Fetch low-level data\n",
        "    low_level_data = fetch_data(mbid_chunk, 'low-level', request_times, max_requests, time_frame)\n",
        "\n",
        "    # Insert data into PostgreSQL\n",
        "    for mbid in mbid_chunk:\n",
        "        high_data = high_level_data.get(mbid, {})\n",
        "        low_data = low_level_data.get(mbid, {})\n",
        "        if high_data:  # Only insert if both sets of data are available\n",
        "            insert_data(mbid, high_data, low_data)\n",
        "\n",
        "    done+=20\n",
        "    print (f\"Done: {done/2331} %\")"
      ],
      "metadata": {
        "colab": {
          "base_uri": "https://localhost:8080/"
        },
        "id": "X8WG6WKILToB",
        "outputId": "cea0d254-4c7c-41e6-a100-ee4b5da9a0e0"
      },
      "execution_count": null,
      "outputs": [
        {
          "output_type": "stream",
          "name": "stdout",
          "text": [
            "Done: 0.00858000858000858 %\n",
            "Done: 0.01716001716001716 %\n",
            "Done: 0.02574002574002574 %\n",
            "Done: 0.03432003432003432 %\n",
            "Done: 0.0429000429000429 %\n",
            "Done: 0.05148005148005148 %\n",
            "Done: 0.06006006006006006 %\n",
            "Done: 0.06864006864006864 %\n",
            "Done: 0.07722007722007722 %\n",
            "Done: 0.0858000858000858 %\n",
            "Done: 0.09438009438009438 %\n",
            "Done: 0.10296010296010295 %\n",
            "Done: 0.11154011154011154 %\n",
            "Done: 0.12012012012012012 %\n",
            "Done: 0.1287001287001287 %\n",
            "Done: 0.13728013728013727 %\n",
            "Done: 0.14586014586014587 %\n",
            "Done: 0.15444015444015444 %\n",
            "Done: 0.16302016302016303 %\n",
            "Done: 0.1716001716001716 %\n",
            "Done: 0.18018018018018017 %\n",
            "Done: 0.18876018876018877 %\n",
            "Done: 0.19734019734019734 %\n",
            "Done: 0.2059202059202059 %\n",
            "Done: 0.2145002145002145 %\n",
            "Done: 0.22308022308022307 %\n",
            "Done: 0.23166023166023167 %\n",
            "Done: 0.24024024024024024 %\n",
            "Done: 0.2488202488202488 %\n",
            "Done: 0.2574002574002574 %\n",
            "Done: 0.265980265980266 %\n",
            "Done: 0.27456027456027454 %\n",
            "Done: 0.28314028314028317 %\n",
            "Done: 0.29172029172029174 %\n",
            "Done: 0.3003003003003003 %\n",
            "Done: 0.3088803088803089 %\n",
            "Done: 0.31746031746031744 %\n",
            "Done: 0.32604032604032607 %\n",
            "Done: 0.33462033462033464 %\n",
            "Done: 0.3432003432003432 %\n",
            "Done: 0.3517803517803518 %\n",
            "Done: 0.36036036036036034 %\n",
            "Done: 0.36894036894036897 %\n",
            "Done: 0.37752037752037754 %\n",
            "Done: 0.3861003861003861 %\n",
            "Done: 0.3946803946803947 %\n",
            "Done: 0.40326040326040324 %\n",
            "Done: 0.4118404118404118 %\n",
            "Done: 0.42042042042042044 %\n",
            "Done: 0.429000429000429 %\n",
            "Done: 0.4375804375804376 %\n",
            "Done: 0.44616044616044614 %\n",
            "Done: 0.4547404547404547 %\n",
            "Done: 0.46332046332046334 %\n",
            "Done: 0.4719004719004719 %\n",
            "Done: 0.4804804804804805 %\n",
            "Done: 0.48906048906048905 %\n",
            "Done: 0.4976404976404976 %\n",
            "Done: 0.5062205062205062 %\n",
            "Done: 0.5148005148005148 %\n",
            "Done: 0.5233805233805234 %\n",
            "Done: 0.531960531960532 %\n",
            "Done: 0.5405405405405406 %\n",
            "Done: 0.5491205491205491 %\n",
            "Done: 0.5577005577005577 %\n",
            "Done: 0.5662805662805663 %\n",
            "Done: 0.5748605748605748 %\n",
            "Done: 0.5834405834405835 %\n",
            "Done: 0.592020592020592 %\n",
            "Done: 0.6006006006006006 %\n",
            "Done: 0.6091806091806092 %\n",
            "Done: 0.6177606177606177 %\n",
            "Done: 0.6263406263406264 %\n",
            "Done: 0.6349206349206349 %\n",
            "Done: 0.6435006435006435 %\n",
            "Done: 0.6520806520806521 %\n",
            "Done: 0.6606606606606606 %\n",
            "Done: 0.6692406692406693 %\n",
            "Done: 0.6778206778206778 %\n",
            "Done: 0.6864006864006864 %\n",
            "Done: 0.694980694980695 %\n",
            "Done: 0.7035607035607035 %\n",
            "Done: 0.7121407121407122 %\n",
            "Done: 0.7207207207207207 %\n",
            "Done: 0.7293007293007293 %\n",
            "Done: 0.7378807378807379 %\n",
            "Done: 0.7464607464607464 %\n",
            "Done: 0.7550407550407551 %\n",
            "Done: 0.7636207636207636 %\n",
            "Done: 0.7722007722007722 %\n",
            "Done: 0.7807807807807807 %\n",
            "Done: 0.7893607893607893 %\n",
            "Done: 0.797940797940798 %\n",
            "Done: 0.8065208065208065 %\n",
            "Done: 0.8151008151008151 %\n",
            "Done: 0.8236808236808236 %\n",
            "Done: 0.8322608322608323 %\n",
            "Done: 0.8408408408408409 %\n",
            "Done: 0.8494208494208494 %\n",
            "Done: 0.858000858000858 %\n",
            "Done: 0.8665808665808665 %\n",
            "Done: 0.8751608751608752 %\n",
            "Done: 0.8837408837408838 %\n",
            "Done: 0.8923208923208923 %\n",
            "Done: 0.9009009009009009 %\n",
            "Done: 0.9094809094809094 %\n",
            "Done: 0.918060918060918 %\n",
            "Done: 0.9266409266409267 %\n",
            "Done: 0.9352209352209352 %\n",
            "Done: 0.9438009438009438 %\n",
            "Done: 0.9523809523809523 %\n",
            "Done: 0.960960960960961 %\n",
            "Done: 0.9695409695409696 %\n",
            "Done: 0.9781209781209781 %\n",
            "Done: 0.9867009867009867 %\n",
            "Done: 0.9952809952809952 %\n"
          ]
        }
      ]
    },
    {
      "cell_type": "code",
      "source": [
        "query = \"SELECT mbid FROM song_data;\"\n",
        "\n",
        "cursor.execute(query)\n",
        "\n",
        "# Fetch the results\n",
        "rows = cursor.fetchall()\n",
        "\n",
        "print (rows)"
      ],
      "metadata": {
        "colab": {
          "base_uri": "https://localhost:8080/"
        },
        "id": "OEGE1C8LMlnj",
        "outputId": "f0764c61-32a9-481e-c672-be5b3a389fd9"
      },
      "execution_count": null,
      "outputs": [
        {
          "output_type": "stream",
          "name": "stdout",
          "text": [
            "[('98cee8ef-0df0-4063-900b-0032c8c0a137',), ('2e73ae88-71a3-4dcb-a8b4-d91a2df64fdf',), ('e9b83baa-0fd6-4f2a-be43-47d15b532eda',), ('86ceaeab-8670-499f-8ee5-8e9aff3b502d',), ('d4e8c391-534b-434f-a7fb-e46935573d0e',), ('99f2081f-dc46-42de-9632-1954dd4484bd',), ('b5292f3b-f640-409f-ac79-1232a142c7a9',), ('5c17360b-a242-4e5c-a7b6-cb6cba5167cf',), ('98208c69-f51c-4481-b2a9-9d79baa564aa',), ('ca25ff11-f715-4d4d-8388-133475a77192',), ('f6b7854b-7f18-4d1d-9baf-99cbcfa118c7',), ('bb858358-941c-452e-a26c-b3c243fbc31c',), ('9ce6c7d3-a731-416e-82d2-f8d9e2b95d57',), ('3a334b90-8abf-4a41-ac5e-d17458cdbc34',), ('ebd2bdba-5a41-400e-beca-f8c0392d5b99',), ('9a5bc8c3-dd53-4c49-a213-862b6ce939e3',), ('256bc054-b58d-4857-991d-0526eaf24e2c',), ('30432a6c-9a94-4da6-94c9-7a18022e2379',), ('9a493a7b-3129-4ab3-91a5-61e39c702861',), ('56734ee9-3255-49e6-a7d3-02daad00879d',), ('7bbfd551-268b-44e7-833f-08fcc2610d6e',), ('12bf788c-4634-467d-8445-967468845a5c',), ('f7983855-f336-4928-bacf-d08aba891fb8',), ('7cb8887c-5b51-46b6-a5cc-58244f343de1',), ('1478904b-529b-4bff-ab61-6a1354b51063',), ('773006a2-c1c2-422f-9e2e-85af5238e34c',), ('547b301a-2de3-4daa-abf3-533464a79194',), ('2bbd8716-4cb4-4d35-bd19-9986ae911ec9',), ('53a7a96a-7a35-4f2c-8167-5ba47dbdb94b',), ('7e745fe2-f6b2-46b7-b0a2-4f499aa6ae5f',), ('c1dc95d4-0a90-44f4-959b-d47428f14865',), ('f47f7d52-8c36-4a96-85c2-15cc696b7b43',), ('c9fcbc2f-4c40-44ef-914c-0f8b0e223233',), ('8ab42b0e-f55e-49d0-9448-5d52e851a474',), ('9f06df64-a373-492e-9a23-6a14a3fde97e',), ('dc14f6ae-494b-46b3-bddd-e387430fc827',), ('325ec4be-732e-4e5b-a324-effba2def646',), ('6793c634-5553-4849-bc57-5d119aa213e9',), ('b47d423c-8ea3-4ea0-a5ff-8f4de0fed34e',), ('2f585828-af85-4f01-8db2-c5aa9c12bd04',), ('41af76f6-adaa-4f72-aabe-98065b10b2e4',), ('939296c9-f324-459f-be2b-bcacdc8073b1',), ('60638d73-f2f8-4db6-ac38-dc491f05ac48',), ('63d637f5-2617-443c-851c-6b1a4cad16e0',), ('dabc16aa-8960-4a57-8b6e-26dd0a192119',), ('f34a0ea8-6f37-44e2-b802-1d8225a62540',), ('e69769a5-d9e9-4f16-a31d-c9d26603ea1b',), ('4eab3932-b404-4d44-be0e-4dc473179d6e',), ('359b07bd-8a0b-4def-96b2-dabfb6973607',), ('68bb1727-11b7-41d2-ad7d-d2bcaaf3cc35',), ('9ed08060-236b-4794-9901-612a34a86382',), ('374dfaf3-caa6-4cae-b8d6-2302cfc69589',), ('a2e2653d-21cb-44fa-ae24-f41d7f12a007',), ('ca8a491f-980f-40c1-9df5-e608e5f117f9',), ('026ce8f1-fdcc-44cd-98aa-3a3dda713051',), ('d8c4fa9a-7aa1-4763-b855-612b6b6b0307',), ('8226e907-0400-4e5b-9e4e-6f10f795bb0d',), ('ff9094f8-dc19-4f39-9334-b33d3be04f58',), ('0d766a2b-9ac1-460d-b448-12b9e958e6b3',), ('5ddb4585-db69-4307-a92c-3a67cd52bf41',), ('a3c2c6d9-6edd-4830-9b9f-f33cc8a15d9a',), ('6c86189c-479b-4346-b901-3581d5b2e12e',), ('f8b4a315-a3a7-4fe4-b7e5-441a3ad0032a',), ('838a8d41-1104-41d2-9836-458a81324cd1',), ('5f5511ba-06f4-4fd2-9839-b7918b7ca1e5',), ('f7c9259c-cdb8-4c3e-b1af-fea667aaa89c',), ('1f76aef2-30ea-4bb3-b4e0-fb580b8d0bca',), ('6dace165-518f-483f-9f93-debb2efe32bd',), ('76cd6d26-2063-4c2c-b4a2-83e8d70eb618',), ('56024b7f-bea0-47f0-91ef-1009b655adb8',), ('fdb517fa-8cdd-497c-81f5-3b3ad5a0c5b6',), ('48532a2c-b3a2-492e-92a4-5d9d443eac6b',), ('c1343ff6-12c5-43b6-8b9f-376a307ebd42',), ('1ba975fe-916b-4084-8df4-be4816363a9b',), ('e46e0e4f-19db-4ba3-9669-9bb50d0bec15',), ('75e08aa5-e3a4-48b4-92ef-f7c8f7e89eff',), ('c5b09ffe-d650-4a8a-afa4-b4c556c3c2bc',), ('717b7e52-1dc8-40fe-b30a-cf58fcad4df1',), ('3f5b7ae8-3b86-418c-bc1c-e0a0c70580a0',), ('78e400c6-d99f-4763-987d-8955da50a141',), ('4ead2345-4dcb-410c-af96-3fb4982d32ee',), ('5db1393c-f62e-40c5-bd71-2c8745a43e63',), ('f7b425ab-e6d3-4e36-841e-cf3f2d857a54',), ('02a45f59-17cf-4248-a582-a91c215e15c7',), ('bb327529-6761-4a29-a516-29987e378950',), ('b378e18a-9f20-40b8-a7cc-0334f5322c88',), ('ef556ad1-aa16-428a-a53e-eea70756c565',), ('d4c3dfc4-ae55-4e62-ad38-41614958c1f4',), ('9954a5a6-b751-49bf-b06e-46bff639c39a',), ('b31e3371-5dca-41c1-998c-71f38f628377',), ('de0247a4-2db1-42f8-a7a4-786eaa05ce7f',), ('2273b49d-38e2-4295-9713-ddc5483aaa7f',), ('71a8f1bc-0d68-463a-b026-d5462fbd2f1a',), ('36d80e89-56a4-4f78-b58e-336f019c01b8',), ('a1dc35f9-be60-4509-9faa-d1e33a4a13b9',), ('e09dd7ff-4b73-42f8-8ae3-511974ba25ed',), ('041beaba-1f7a-4abf-804c-19654a8ce0bc',), ('476511ff-4579-4052-8a22-9560c02939bb',), ('0345703f-6c90-4965-a183-045d76908f32',), ('107d5114-7243-407c-a6e6-1d330f0137fd',), ('de71bce6-61c4-45c9-96b1-63f9daeaee89',), ('5a6e0565-3567-4684-b824-fc6e8fdf36ad',), ('eec0c26b-b78e-407e-801f-9f422953016c',), ('21470769-81a3-4e79-a49d-ba312dacefda',), ('36605423-4cd3-4790-9728-993f5fc2fcf0',), ('1c14eb9e-7d97-4baf-a423-91f978107765',), ('ef955562-1af8-4c6a-b489-9f5797173269',), ('d1c986a7-8c23-43a8-80f6-45d3323cfd2e',), ('efa4f2a8-5efb-4e9a-a1e2-3f045d655375',), ('c6c47fdb-b5f3-4d63-9d95-e499fcce1822',), ('4d173603-9947-412b-b362-e3e7b6ebe1bb',), ('9ed6d1d8-f36e-4b9b-90d5-44e07136605f',), ('c11e5e55-053f-4beb-b287-96663377e49d',), ('2d9d3338-a96e-48b0-a767-ce7ef278740c',), ('e4f960a1-f7ad-482f-8752-270cc31a5132',), ('041fcc2d-40a2-4615-9bc8-a1fd246fb953',), ('e540c279-c82b-4195-b6ac-28dc114e5f1d',), ('f2f920dc-bba6-4f9f-944b-acebfb71c040',), ('c6f3b1d0-2387-4b66-a1e8-b1aaf027449a',), ('43339c92-68d6-41d8-9874-4b6c068fe11b',), ('0b097e19-6de4-4b0b-9cfa-b1c6bbf3a9d2',), ('1039870d-5a9f-4421-a1da-ae78f2cedc34',), ('d9f23c16-8909-4c79-882a-4d1bd72b2b00',), ('dfc36910-f90a-4a90-b361-8c6cf12f4d81',), ('090b9d9a-677a-439a-9223-0fbfc8f4add1',), ('68955fd7-0274-4d00-a34a-6fe1438458e3',), ('12488fe2-2b1c-4371-a1f8-81fdf452c13a',), ('8b124cbf-d7fe-4de4-b99a-944594b58697',), ('1709c3c5-56d7-457a-bf3e-1f051589e4fb',), ('6ba1d3a4-fd2a-42aa-9eae-4f62ae0d80b9',), ('a5ad1476-1847-47c2-bb17-ffacd1a1e8b4',), ('51069a20-f5f2-46c0-8cc9-bdffe082ee0b',), ('afadd5f7-c3bc-4b3a-8bd2-f4ac4e593266',), ('2c54c91b-5374-471f-b5c1-71c7ad40743b',), ('54e04d73-bd04-4418-b652-11c9f467a785',), ('2d23ddca-0083-48f6-98c5-67ae1acfeb24',), ('381a3453-6fec-44f8-872d-64be33b8e784',), ('3c7be70c-0c93-4ec1-a1cc-a55c70d0b175',), ('1ab1445c-a8d7-4ae7-ba3f-1ef05ef2ce34',), ('48341ddd-8455-4a05-b3cd-41b0baacdb1d',), ('25434524-e2dd-472a-9a17-f2f4cd94765d',), ('9eb49fa0-7ff1-45c7-a8e5-6d5c76682ffa',), ('fbcddb14-99b5-4014-b503-901e0baeca7a',), ('056724bb-1ec6-4c85-a6dc-4365d705a322',), ('353a1541-68cf-4c59-8e33-637ddf1e83ce',), ('8f1c399a-4372-44bd-adad-2dbf2c422f1e',), ('3b7f0f2a-6fe3-4847-870b-deb7c74a617e',), ('137caf93-7989-4db2-97f5-b4a7469f1760',), ('fa34ce15-4b4c-464b-82fb-76b80efad8cd',), ('28ce5048-d76e-4906-a48c-fcc8ebec805c',), ('292c76ca-b09d-4e90-bf1c-74e2649cae79',), ('5f67a64c-809f-4a3e-89bf-ef0ba3aebf75',), ('cefd3a8d-6cbc-4592-82dd-61b896fe78b5',), ('2f815672-e357-40f1-b3ad-07dc1b47d116',), ('aca2bcc3-63a5-4de8-ae7f-0c5b1d71ace1',), ('01e96a24-e109-4baf-98f5-afc7dd3eafc3',), ('8e48a8c6-a8d3-4f0c-af53-4bc80659bb59',), ('b26d47f4-d85c-4490-931d-33f4ee431175',), ('fea4a208-beaf-400c-a990-eb0d56eab77e',), ('bdbbcb9d-9b47-4cb0-b345-f24b4c9f1b13',), ('b72f1e71-5227-4a4a-a765-f00338a15d60',), ('1ff99608-bba6-498c-b656-7b6cbd86960d',), ('da9927ee-3d14-4606-acfb-28e07eb1abf0',), ('4b8cfcd3-2e7b-40ab-a7dc-9a3eb3463df1',), ('aecf8796-af0d-4a1b-a6bc-eca5e66735a0',), ('79123ae8-7e29-4566-973d-bc8a223ebb74',), ('5924190e-fa06-4472-8362-d15c8c6f51af',), ('4a9b5e62-d456-48a5-8662-3156b0072e44',), ('2a92292a-1785-40a5-be97-3e57b429eccf',), ('71c4d126-8aa1-47d4-a906-c974620c24b3',), ('39e245f9-3ff9-4404-a90a-5d44e02b415b',), ('60054346-07d5-4246-a33f-4f3867e7461c',), ('cf69eeef-940e-4fd6-bd73-a954bc39441f',), ('f21b8241-f00d-444f-9f15-4aded107882c',), ('c49deffd-774d-4838-ae59-12e419915654',), ('beacb5c4-f9e2-4608-b6cc-50e6cca1fbb8',), ('a7604b52-79da-4863-bb52-ffd9b45f5136',), ('0ee92a96-ab3c-4997-88ed-012b979b5ec2',), ('31172ecc-ae3f-4933-b59f-16110fcce93a',), ('bd71029d-7b90-44a3-b3bf-d5e896c2ce29',), ('ae8d318f-0ce8-444d-9129-e06c1c8d6faf',), ('956b9a38-00c6-4270-916b-24c6a8e85556',), ('8f303e9c-bd4d-4f2e-88ab-72613b88754b',), ('be9418b7-4cc8-4253-88f0-803f1cb1e16c',), ('9c05449f-5af9-4d76-a402-fafa854cad27',), ('81c6db89-bf6f-4891-bd98-8e58a4b499e1',), ('db9e9739-e704-43f6-b910-01e2e9123184',), ('5ce2c014-3c20-495a-939d-79b21aabd875',), ('49645187-92c3-40f1-9d27-293d73327f9d',), ('ae831330-6123-4af1-a538-20fca4f9115f',), ('7c042c16-cb03-422c-b68b-5f27529fb14b',), ('3c94f923-817c-4069-9f11-b8c4c70f5976',), ('d22f16e9-b5fb-460d-8349-a5f3b97a29f9',), ('5f74dbf1-129b-45e4-b99b-a4a4786f68f2',), ('7b7f9e18-b47c-4310-8354-90d92094000a',), ('d296350d-1109-4410-8d99-976dc8c48eee',), ('7f52538f-3301-4131-b043-8b3e8b62e069',), ('bc3ce77d-44e8-4e22-b84b-8a141073e8a5',), ('cb343d8f-4b66-48f4-b518-6dda69eeb962',), ('e9231b38-cdc2-4010-8574-9bf10bfd2fb3',), ('a4440540-e448-4d4b-b834-e52ad0653707',), ('ba44ae02-4c34-43b7-aebe-88827641264d',), ('6a292b73-1a97-44ef-8977-50e92ce5db45',), ('5575c096-991b-4ef0-a945-e539ef7d153f',), ('6458c94f-4904-4ffb-8985-3c944c31d9a2',), ('03407a13-1344-469d-8cbd-44f67927b8b7',), ('4aaf6a11-a795-48cf-b72a-48e207a66444',), ('0833dd11-99e1-4cde-b6a2-a6fb755114e9',), ('000f4de2-cf91-4959-b3f1-8a93c9f806f9',), ('7dfc73ef-5383-471c-b036-8f4118455d85',), ('6b32aa8a-17c0-4575-8099-3fdea91c4dc3',), ('e1fb05cf-3991-4237-80fe-caf36a3cbc07',), ('ddd774b3-8b42-4f65-a806-66a73cc0b12a',), ('95cced52-ade2-4c12-a1e4-33ea5a5ff5b3',), ('b5eaf3f1-de1a-472b-b859-6e72a11fd6be',), ('38d13f9a-1ccc-494a-958a-597853dfff6d',), ('1ade2068-aa5f-4f2f-bf11-457f1321871a',), ('90aaad6a-003c-44bd-9826-e5914846104f',), ('655aba66-90e3-4d81-bbbe-145a6cecbf6a',), ('23488f9a-d21f-4435-89e2-0b7af9e17319',), ('d892b57d-460d-4970-8755-2442f50fa128',), ('33561cbc-39d4-4a67-9d8c-1658b3831fec',), ('07288b78-e1d0-4a32-a1fa-78a23713011b',), ('70d48af7-d6c6-4247-9abd-3091d06de1c8',), ('8f5e0d94-e745-4f78-ad58-74c494d09166',), ('87a9a166-255d-4222-b0c8-666d79a3d463',), ('21ae94d4-7feb-420f-8a89-d9f1140e3bc0',), ('b5402371-8cf7-4280-8882-325305fa63a9',), ('8075cd39-3606-4c91-8e7a-380a2250aba9',), ('11422e39-5824-4b56-bd85-53bbfc2ce94f',), ('afd8e77d-a279-4554-a31e-f3fa8517d798',), ('ec8e4fef-f8a5-493e-8026-953b3372f7e6',), ('e6f26170-0891-40ae-af8d-10426b9fc32a',), ('b4fdd0f4-88f6-4c83-a5e3-4ebc1205a5dc',), ('c180106d-7855-423d-8b90-f949da6ff6c6',), ('64e79fde-4600-412d-b351-4798b16799af',), ('8885e662-8672-4c8b-adfc-3d9382ed824c',), ('b05f1533-d531-4f95-a205-8f91174e0abe',), ('aef2fdb8-74bc-4370-8db1-0e608f781ce5',), ('20c66fc2-f09f-4112-87a3-f534a5977d54',), ('b2f687a7-dedb-440d-b751-1469943af89d',), ('1de2ef78-9067-4fa2-8ee7-01f723e84ffd',), ('4b01a503-f355-40f2-b30e-818eb29e070e',), ('6aad54e4-5e84-4656-958f-d4d5956f64eb',), ('3d42aed6-f138-41e4-bd6e-0891b89802b7',), ('74f5e0c1-46e3-4816-993c-c89df560920f',), ('47524fda-38d4-4883-836e-0d6f73ec2928',), ('0b8825e7-569d-4ba4-b590-788cd27393c2',), ('95b96964-f6f4-4c5b-8d4a-6d9c8fb58316',), ('220477c8-3a1b-4426-be15-97893b90ded2',), ('7eb99453-044c-401b-820e-9348a285fa45',), ('04dc9fde-4497-449f-a9df-4f90d7fdf129',), ('d4ff277a-ce7b-47ce-a4a4-4192f02c3362',), ('8ad46772-4cd3-43a4-9846-2ddebe2e8413',), ('df41f4bb-dfa8-44da-b989-d38886d07a5e',), ('e5af1ca8-a3d6-4523-a95a-94715bdd63fe',), ('d29addbe-529b-43f1-9759-f068f792e2b2',), ('69cacdec-42e5-48be-81d2-cde09bcd25fe',), ('3e2009f3-1bec-4c96-a0da-de009e482933',), ('e90dbc12-6b51-4b02-abe2-c66ab46faf36',), ('5fb2743c-4e18-43fe-8ec5-470e15bae122',), ('b9aaf276-216a-4d65-8edc-c5a51f13d594',), ('aa29c4fc-edd5-4c76-bfb2-183dd52f4743',), ('967a13fb-9424-48ea-b769-9c5f12a9a841',), ('9daddfc5-23f3-4fb6-8d53-503e4233e3e2',), ('d4f94f93-c085-49ca-ba37-2f19cd5d38db',), ('d3a718c1-dff7-4d0f-926b-089e1ae88d6b',), ('d982abe9-be70-478e-80ef-842e95fcb16e',), ('8b927138-cb72-48fc-90ed-d90cba7f5d0b',), ('43283690-be81-4ab7-8670-d06973ea241d',), ('788fa881-12be-482b-9670-540c4fcf8998',), ('07907ff1-a1bd-4b10-8c1b-bbf5eb752474',), ('e728a1d1-5eb6-476e-8c06-e89dd3d91cab',), ('7ff9858c-a5ab-46ce-817d-2f197891735b',), ('df691cff-b815-4904-a241-0e9dbc4b453b',), ('17e0540e-bc6e-4f79-81be-60b0db7857ac',), ('91b90a45-ecef-4639-ae7d-235f6d4c4889',), ('f1f3b641-4cc2-44d3-a859-317895df97a7',), ('10b03b71-3a27-4cc9-bfb5-765bcee72575',), ('4016f912-452c-4546-936d-2a798be9930f',), ('704185e5-aceb-4bb5-934d-fda8430e1d6e',), ('21df207a-4555-4a8c-b6f1-b75347ededa5',), ('5a21d2f8-c80c-4133-a5ff-e2cfaf1b43e8',), ('5edc3d2a-4415-4a71-ace2-24cf5b9d307a',), ('5d3c3d63-9e94-4c8f-861b-783142dc7ff3',), ('ee23ea3f-7b76-490a-acff-fcbc9921296b',), ('d515ca97-d06e-4764-800b-c7a0226ef176',), ('8eff42f0-d0c8-4d12-8167-ba0069c4a089',), ('17c5ea1a-6b3b-4af9-85db-69cc7c7bdd70',), ('edf26d60-b1bc-4210-a1f6-9825d16005b3',), ('050703e5-d3a5-42e4-b739-d4d6b52f8577',), ('513a7fad-91b2-45b9-b54f-c75047769818',), ('2ca2465a-f9cc-4f5a-a2fc-137af6190ac0',), ('e35ea42c-eff3-4b44-aa75-d63ea5428d03',), ('3e156ee8-47e6-4dde-bb5b-8a86a8b561b2',), ('1cad29da-803a-4d42-9557-f09193047c41',), ('30267566-bbd7-4c19-a023-5e4aa4725097',), ('148fda10-55b4-40f1-adf8-2834b4add31f',), ('52c2537c-8ade-4955-b999-c7ee140f3d65',), ('c678e60f-390c-4438-a89d-f82424cfe3fb',), ('e4e99b91-bc05-4f88-aaa2-1533b4b91279',), ('1d3888a6-065e-4041-8790-98984be35b19',), ('17abaee6-6e38-43b5-95a3-6642a7abb275',), ('fc2632fd-f080-4640-8145-b9b657a1418d',), ('31a1cd15-496b-4ca2-84cc-19f47ded3657',), ('10f35554-a4da-45b3-ab16-86d827b5a05d',), ('53a3c589-c34f-40ac-9474-d64d350447a4',), ('d005ee8f-cf83-4b56-9a3e-7d850fd7afe0',), ('faf89556-7e7a-4963-bdee-3477e25f2688',), ('6afc514d-a7b3-46eb-b42a-78daf59808a2',), ('8578b4a1-3135-4090-9393-38f9f62e325a',), ('880b1868-bd06-47ba-acc4-53dcc9863aac',), ('9a9ae9fd-98f0-44a5-8653-b27804902352',), ('a67c1d08-0bf9-4b84-9ac4-76553486b269',), ('59129bd3-7917-4b26-900c-ff0a1d8bfa8f',), ('18530040-17fe-4d1d-9d65-5b6dea939fbe',), ('8a8838a8-6b89-4917-9022-b45b6d9d94c2',), ('98665c3c-6cb7-4575-86ec-c39ff131620c',), ('48cad35c-410f-46f8-8746-62b2dc1ba166',), ('69ab0811-d03c-4223-944e-c78d26f5e901',), ('96b13903-0146-49b2-b138-36c4114a4fb1',), ('3c8f657d-42ca-4d35-96d0-3030446e8921',), ('cc015355-869c-453a-a184-35536ed78b0b',), ('a7b91f0c-58c3-4d79-82cb-0e64b34122b4',), ('3321b9fe-a253-4e04-b875-88fdd8789543',), ('058b4f07-f175-4ced-b026-5130485a91b4',), ('ad8d48d5-7bb2-428f-8ef9-e07f032e30d5',), ('9557d0eb-bd1f-4d10-99c0-26828c510a2b',), ('5938c111-09c0-4bef-87b1-e5eba58ee460',), ('0f031a5a-ad12-4b59-804a-1e776e01b8bd',), ('6b20557e-536c-4703-ab31-c619b28b5c19',), ('96426e47-8f83-4dfd-9965-325f9442aaee',), ('d2e45cdb-3b45-4c49-b0a1-efa5a988e9f0',), ('cae3bc29-8262-47a2-ad0c-56be3089a627',), ('f41f090b-5b03-4dbb-a66c-91babc3122fb',), ('29ea0888-c968-489d-a724-8fe3497d5312',), ('99dc3fc2-2760-4248-829c-5602d55c9fc6',), ('f2bc64fc-708f-46f6-a919-3bf129045a2f',), ('8a32c84c-9b39-40be-b748-55c398b413e4',), ('f3d7dc60-ebb1-4b0e-93da-ac62ab3bd30c',), ('9b51a09e-51e5-4c7e-898c-036bfa72d86a',), ('57ba9c73-12f5-4881-8f97-6e7d33ca07a1',), ('9562b80a-b0bb-4178-91e8-c3fe42aaaa81',), ('0bbe746a-f1a1-4c6d-bcc9-4e57ef8558c6',), ('c7e4e506-f328-4df9-b35c-80df7397de73',), ('ddbdf303-0643-40fd-86b8-6f9a1fd59a49',), ('36983009-9d50-4fb0-8dce-17ad3af9389a',), ('5cb05937-4fe4-4425-adc1-2977c136ef23',), ('d3c0a543-d6cc-473c-b2a9-8c0021c48532',), ('f40296eb-9273-44d0-8857-5116e239da42',), ('729bb3c3-875f-4978-89b8-21cffc8cb725',), ('effe0a73-1a7e-4d8a-80f2-265bb426f508',), ('bcf22b2d-31dd-4331-bdd6-510f8d038ad8',), ('d8e30706-693e-4fd2-baf4-e9ab5c172b91',), ('73795982-4ac7-49d6-b0cb-58c138a6a823',), ('9e01787b-5189-4d01-a6e1-9ba6908baf70',), ('72dd3627-d2f5-42e4-a22c-ea404c42384d',), ('3fe58183-c681-4891-9785-fc4ab0d06e29',), ('7a9e3932-e2b5-4eef-8261-8ce361fa3376',), ('14f7ca03-1df2-498b-ab13-ffa27e73a02c',), ('d2c47143-4970-4867-906d-2cb375197a2e',), ('ac476e0a-b474-40fc-ab65-f8aec3b515fd',), ('48a68f32-f452-4239-be09-06438ca9ef08',), ('1ecc1b3f-97a2-4aba-b7f1-adf6563bcfd6',), ('c33c6895-f6dc-4b66-9426-7b5d3e347488',), ('801a9754-6f4d-4095-b6b3-e432099006c6',), ('1f3f4557-ddb5-4958-a6f6-655d52104433',), ('3cf67322-2fae-4355-8830-aee852c30ead',), ('15454e98-fcb2-428e-a4c0-bfc30870c9c4',), ('2ece595d-d143-4bc5-8c9f-c5a7359da211',), ('aef28a01-5de9-4091-bbd8-6f251baff1ff',), ('69cb2353-dd12-4e8d-a3b3-ca0fe1ea727f',), ('87f8bded-20ff-484c-9591-9c3004dfd8c7',), ('2e17a8ea-83c9-4588-83e8-9a9a803371da',), ('6f5147cf-e512-44ec-970c-b17027e2cadf',), ('693bab36-e8d5-4e33-9307-346f53629be8',), ('2f5962d5-ded7-43d4-af0d-e907ed6b3043',), ('2aa00013-be51-47be-ba7d-8cd67db4c17b',), ('8d4a90b0-cecd-4d03-a3df-e556e0068608',), ('e3e7286a-b6a8-4b7a-a2f5-0a3a70822670',), ('637e27b3-24de-466c-ac2a-938050c4cb72',), ('78cdd51f-4b6c-493c-b7e5-6ed58b1b9826',), ('74bdead2-6f79-4bf9-90dc-71ecdc58a30e',), ('96a8a848-1b01-47e4-b681-0dcc168f8243',), ('47fe4cc0-6567-442c-bfbd-2ea1e85a8f93',), ('4bf5437d-1564-40fd-a007-88e069944c2f',), ('9191f223-4023-4c1d-8655-f6a0f8494467',), ('7572b924-300b-4787-9b6c-1bed04bcba39',), ('d5e26ba9-bbf3-4ce2-b5d6-5b71609d4b04',), ('c4638f15-f9a5-4728-8716-395ebf5721b1',), ('84e7f7fd-4525-44d1-b211-d5b9e1e67967',), ('3feec65b-7a35-4d38-bf4e-72d07c79396c',), ('6779bb70-7f06-4134-a525-0cd5b1fc665e',), ('e9c41340-ff95-440b-ada8-830da6c0478d',), ('e41c261e-501c-4a16-8d8a-853c442bdc96',), ('6e5b6749-dfbb-44c9-92bb-cce395200861',), ('857e3ffe-a4dc-4b44-9856-ac2988220839',), ('33f201d3-7123-4c23-9ee0-e48d4f9f2f1d',), ('cbd5a2e5-f019-4c9f-a8ec-0265a8e27ca3',), ('9d917d5b-a8be-470b-ac82-35524816e0be',), ('ffed1bb3-c85c-43a1-8535-d6d2e3915200',), ('f921e9d9-e6df-4adb-ab81-c2b518b39eb3',), ('66c00a9f-d3f2-4171-b275-f1c016be0493',), ('78b4ab44-b799-4b9a-8373-70f3a40bea62',), ('8768fa3b-6227-45b6-a00b-a7078a78ace0',), ('f5054f47-791d-4a12-b13b-0f1ce838296c',), ('4dedf26c-9e7e-45ff-a357-1ba6bc3282e5',), ('a40a1c51-4dc2-456e-97eb-c5de72df4d06',), ('42d16827-f4c7-4b58-a64f-eb40a607ba86',), ('24e7f761-4b84-445e-8d23-9ac3987423aa',), ('ee8fe846-c94f-4a5d-8dde-747bd1b5263b',), ('48d28b5f-8c39-4342-b7e8-ace2344f6128',), ('9334082b-5143-4c12-90fb-79017f716895',), ('7b591c92-6c11-4030-b973-fe6d07eac2c5',), ('91551785-c740-4f24-8b2e-676c438d38ef',), ('354af1b0-915c-4d06-b157-3104eb0c9fe6',), ('10c5cf06-6f95-451e-83c9-1f239a3daf50',), ('47f179de-c957-4ec2-a1a9-f14b2ce29499',), ('91759842-63b4-4db5-8b0c-f95fc7293e90',), ('840e25b5-ea14-4598-a76c-dca7b95d2984',), ('f9940049-da8c-40f8-97e3-2b482d09d9c4',), ('0b48391f-5159-4fb9-b30d-168e30e7af88',), ('0654183d-3690-47c1-883a-6812f7ae854b',), ('5bf653a7-7145-4580-bfd0-0ac9c336a431',), ('83f9c529-e05e-495e-874a-ec36d9628d7e',), ('bc0155db-7172-42b7-a51f-50f336bb80b4',), ('2fcbe8ed-b71c-4130-9ae4-94e9581c15b3',), ('88e06d71-6017-45fa-b845-efc745888e0f',), ('bb0f34df-ef2e-4075-be1c-5e112fe0a7c9',), ('b2159784-e9d9-4e21-aac2-e223c72c72ad',), ('83ee0586-cb4f-4140-8eed-39836177e5f0',), ('32f314d0-1b06-478c-a7f4-08116bfb40c3',), ('7837a385-fb0b-4833-aec1-d02422578b42',), ('9198cff4-23bd-45c9-95c1-f77942d9ed40',), ('af2001fc-5e26-4dc4-8842-dbde587f7dce',), ('33aaf07b-30c5-4694-8aa2-d2c0a58c79c2',), ('473027bc-9322-4c64-b926-a49a8e78deb3',), ('6c194dee-100a-4f64-9b75-ed711f9ee88f',), ('5b002503-59f3-4d6e-b064-5516ed59f3e6',), ('8a8c5899-e147-47f8-ac50-cae4b7e81f7e',), ('bafd1029-e2b5-4c7a-a9e6-35bdba976d07',), ('03b486ef-91a2-4676-afb4-436f7501f55b',), ('69782f89-2ac0-484a-9fa7-0b1bcdd2a032',), ('5113ae18-64bf-445e-881f-3d672eb85989',), ('d00e97c7-4b98-4374-9a12-c440fa315cbe',), ('f676d0f1-4fb5-4612-a5c5-dd1ef5aafa0b',), ('584deb0e-ba4a-404a-a205-08d99a4df079',), ('cf18bf12-5711-4ed9-93c7-7299c3feb6d4',), ('38403504-f7ea-4864-8a9e-46250ec0b9d1',), ('c8abdaee-70d4-4063-9120-4e75f1324d86',), ('09b24e26-22d7-40ea-9e15-4907225d0b34',), ('4c392edc-5780-4159-ae05-1030cbd737b1',), ('d78edf97-8c11-4854-ab8e-809026a2c002',), ('cead4211-b8e3-4957-9a2f-da71e9484f21',), ('43cea50f-a5e0-4e5d-8749-4075160c5d4d',), ('2bb40be6-66df-4bbc-9b58-43988701563d',), ('58927c25-b945-47e5-a86b-694164dd8da4',), ('8e635fd7-3b04-4193-890e-e21581815b38',), ('de276069-4807-4ba2-a2cc-180865e2336b',), ('ee102afb-cf39-46ca-b992-0deeccc6b272',), ('039bad7b-5ecc-47b7-80af-3bf9fdd7e20c',), ('c6c94803-8be3-4100-ba58-5f6effa21016',), ('a6b7820c-2d75-4586-a973-456f7d2afd49',), ('4d132c51-9637-44e5-a7c1-913b1b668598',), ('93e1ea1d-8e45-48e6-ac56-eaf1157f5d8d',), ('12af72b4-8d63-40fe-b326-c22232b0275e',), ('4bc49e7d-86e8-4138-8719-cd8b363c6d6b',), ('d85e06de-4e29-441b-9058-4077073b7a5e',), ('3b2cf604-0982-4916-b8a7-1571ab8402f9',), ('f31cf753-4cfc-4b9b-a2e2-eec65e345e2a',), ('acd0a1b5-1b01-4c89-a7f2-7724eb1c486e',), ('75c76a54-1b7d-45df-98dc-f5db6823fe53',), ('c3896085-dbb8-4ed7-8f9d-1f4d7907ecb9',), ('8135aa2e-9001-42cd-8f3f-43088d0d2e3a',), ('6465bd7e-c96c-4214-9ce1-a84911cb60ae',), ('5ab55ac5-9e3c-490c-876a-9cede1a92a21',), ('d14f32d7-e5dc-4167-b20d-7955498a1707',), ('dc9a2f02-4ba3-4fcb-93ce-6d0f2257d950',), ('146e60a6-66a1-48fd-9fb4-47c930114818',), ('2759b66a-9b9f-4f18-9253-255095bf2e54',), ('d78d536f-68b8-4d30-ade0-4c8befdc67bb',), ('6fcdadd2-d1c7-4ce4-9132-e81b68904b08',), ('7fe548a4-17ab-44a3-a61d-293dcd57bc7f',), ('65f02b88-98cb-444f-acdf-bab8c06c95da',), ('4a40d570-8633-4ff1-bbf5-84f3e73efbd2',), ('a90b82e0-6c2e-4c76-a8ca-aeb0252e9cc3',), ('b1ec8272-174b-4efe-b8bf-d4363c0e87d4',), ('d44e5898-4d5f-4163-9da3-a4a5dee77f24',), ('def99502-b287-4f77-9129-1965ff770a26',), ('297739c3-3f26-4ccd-99e6-83c934b66bbe',), ('eafd7c9a-af31-46a6-9ab2-58e50c36429a',), ('4f287d48-80a0-40ff-8102-42add16cd5ce',), ('728aead0-5fc1-45d3-8988-14027c42c58b',), ('f980569e-9011-4ee4-b336-f1c26e55cdd7',), ('c4035444-ed7c-4680-9a91-d6781a5747e5',), ('ee6453d1-3022-4478-a55b-bec95c76ebaf',), ('1035e8f4-9042-47e0-a0dc-ec9ea70936be',), ('ef0b871c-9fbb-41d0-ad81-1f59bd44c43e',), ('440ca832-7b89-4854-876e-a965448b507c',), ('09440acf-81b3-4bcf-a6bd-eb28a1af8cb6',), ('009fb4e0-5eb4-436d-9e3b-0aeb118c99e9',), ('053f8bf8-6c33-475a-9541-de6d0b349361',), ('fa54859a-5259-4384-93ea-1fffb71daf61',), ('8ce4b470-277f-491b-bd39-bc447d0f799d',), ('39583ea9-b77b-4565-874e-a6083455983c',), ('5c00b440-502a-4257-94ed-ff36f70e31d3',), ('eccb9e36-60b5-4a8f-8621-0fa53c5992af',), ('3a770701-6663-4034-80d3-85577bf5fa88',), ('57c5dc74-d972-463c-a7a0-b9a67b737a74',), ('fd64b735-bbae-491a-a937-e18b3b286af0',), ('c3636352-24ac-44f9-8788-aac6749464f7',), ('a54fc676-55c5-4666-8b82-77d2b461422e',), ('9eb68c96-d332-4b51-81bd-b491aec40197',), ('5f5237a8-f786-46e6-8ba5-4676541f9107',), ('5cc5fd36-151c-405a-919a-c83f8b5af114',), ('041533dc-d401-4ce7-803e-6865f91ab836',), ('c897e733-8705-4143-9932-fcb724067bf0',), ('37925a5d-7fce-44ca-84dd-9ce3e87c3690',), ('79337045-c26f-4acd-ac64-4d973e8c49f8',), ('c84af56e-4760-498e-8917-986a3b03f880',), ('8a7eebcb-836e-4acf-a44f-da9d01c66ac5',), ('625df5c5-eeaa-4c85-ac8b-f71b8d0fa281',), ('fb1d717e-3cb3-4051-bc8b-7a36418d9e5d',), ('7c99f86d-6cd1-40de-ba15-bd86eed24a18',), ('7c497885-9926-4b07-83fe-60f8dc510286',), ('b5938a4c-14f0-470b-a8f7-1de443042878',), ('26bf836a-2e7e-4c30-b2d7-11bf88c03d1e',), ('9b02c4cf-f8c6-447b-8d2c-0214d6702271',), ('07168f3f-9b1d-46c1-b45b-a32a8a12d1eb',), ('9950ac6e-d79f-40ac-82ed-b4532cb4f656',), ('24e4871f-2173-4035-b6c1-3e0ab9bf3b2b',), ('72e77cb7-db6b-401c-89df-bd73d4fbd63b',), ('5c6dac32-0ba3-4d98-9bf5-b375bd15fd7c',), ('8a6222b2-a912-4a6c-a9c0-2e96d8f5e23f',), ('c7e460a7-4dd0-4cd5-8e6f-b35f58b363ea',), ('43bd16ed-19d7-4036-ba08-0c378bbcc03e',), ('57f6561c-41c3-4421-92a3-24842594e26c',), ('1ffbec57-4a93-4504-bfb0-eb60f58227b8',), ('b37eaced-1139-4077-8dd9-4ef717545cbb',), ('edbc7818-0e6f-4a56-9c8d-17b954bfccf0',), ('f395d015-89e5-49ef-af68-ec9468f3d491',), ('084d7a09-b754-44cd-bd7d-a16ca3c64d93',), ('b293d56f-4643-40d5-9564-0391cb9ebab4',), ('ba3415dd-9355-4e5e-8b4e-faa905fd1c71',), ('85c1898b-d7d3-460a-a619-c119b2442035',), ('2b91d31b-7b0d-44fe-be91-1265a90d5fbf',), ('e30c8bbc-b0f5-4256-bee7-6019df2c98e9',), ('7e20eb74-14d3-4ef6-91bc-758b981fa750',), ('285be736-5321-4dee-bc51-0ea70855c33e',), ('3e4fdebe-9486-4857-a867-1eda52a5a220',), ('a73a3e59-840e-45f6-8c6c-0ed631de1b70',), ('d7937ab4-848e-4df7-b68c-420ed863da51',), ('384c7c4a-5e72-4379-8dbd-9d68b35527c3',), ('a1539a51-c62f-4797-82e9-199b264feebe',), ('08d48a2a-091b-4266-ae65-7c0cdf84ac67',), ('8502e39c-46ab-47b9-b154-0b19c5937be3',), ('a71ed673-30fd-483d-b674-9e77f1696d12',), ('f0a8cca6-4da8-4a6d-a9b9-0fd66fa9487d',), ('f80bc02e-e43b-4562-ac45-de9a39004e10',), ('2fd6f156-8a87-4fb4-8372-700157303fea',), ('9b14de32-78bc-4051-9f07-eb70db247723',), ('f7f0ef0b-5116-4301-9e33-ce1bd64d0fe8',), ('31a9f591-fb73-4bff-8534-5a9c55f149bb',), ('aea1fc9e-e5d7-492b-b8c1-8cf493c0a8f8',), ('3ede336e-05cf-48e5-8e92-ac633567dc57',), ('db67129f-9eb8-4cdb-97e2-54f98d67a07f',), ('cb69ac12-f59a-4ff2-ad2d-c6d3dbf08aa6',), ('06a2d903-d3de-4d11-8daa-1c1e151550d0',), ('6f36b8e2-880d-4e67-8552-79398466f403',), ('1b49b5ed-9115-4baa-85b2-f3ee13a28e6d',), ('c63895d4-0fbe-4a2c-b413-0ddf95aac692',), ('5be0c9ca-6537-4e2e-82d6-6b7b8f74a016',), ('eed9feaa-0088-4f73-a98d-e5ca920572a5',), ('f98a7a94-c473-4294-b957-38d8fbc6d11b',), ('b69b8e7f-a0f5-4685-b631-8f3e64369cf3',), ('e8b9dd67-5a46-4c17-b3c4-27d5a0aea56c',), ('d9b3678f-aee0-4304-8fa1-d5f06d025fa7',), ('aed8d08b-d90b-4540-b4aa-a91e409549cc',), ('8b283a89-9fbe-4c25-ad77-19cea0d5e529',), ('e152bc2c-4fa1-48e1-a4a2-4580a9078651',), ('b7ed9d98-3596-4ed8-ad11-fe5f2bdba94a',), ('808c78d0-d48b-4a6a-8663-f1514c77ca06',), ('b3aab906-5b80-46a4-99d2-81e12ad58fc0',), ('cc56a29f-617f-4651-8784-e76dee3e69e9',), ('38785c68-c1e7-4232-bfb3-26d153fef46e',), ('bf1659fc-4285-4c53-8876-2d7eab4c94ca',), ('f96c0257-63df-4c82-9fd3-e6fb64313c06',), ('462e598c-fcf8-4927-8290-0e23fc89b923',), ('c6fbde82-416e-4b71-958a-5b91fae63481',), ('a72e6686-df46-4020-a9d9-0c747672e278',), ('d5ed7b90-18b6-461c-8eda-7a9690461ef1',), ('94a1e90c-348f-488b-a892-b5e844cbeac7',), ('ee199ccb-129d-431f-b73e-8fb13ea295ca',), ('2e56a946-e523-400b-8995-7fff8906e440',), ('b22aa759-278a-4815-a3cf-de9c2416adb7',), ('329cd7ef-17c7-4395-a188-0cc022179f37',), ('1149830c-a4a2-4d2c-b844-cd4d508d650c',), ('dccfbfcd-fb3e-4a33-9fbe-f529c13708ad',), ('21895b4b-bb16-4099-8e34-b51ab70fae51',), ('901c8469-bc13-4f4b-861d-acf52e7d4240',), ('3c02ab90-fd3e-43dc-b42c-719e2a92de27',), ('a7efdccb-08b4-4804-9c51-b7b121d05ce5',), ('a83f845c-4446-4447-907e-8c56806aea9d',), ('901333fd-ba08-413f-b720-6075dcf282c2',), ('04eb7bd2-19d7-46dc-b0fe-9e28f8edebcb',), ('cc8e74bf-3a0f-4a3e-80d5-e243bec0fa72',), ('778bcded-5e3f-46aa-abc5-39e927dbf9ad',), ('af8521f5-d157-4fec-aa8f-2be7006372c5',), ('2e9a8f7a-04b3-4327-833a-0b2adc115384',), ('b7662d8c-9cba-46c6-93f4-b8d164a2d0c2',), ('a0ede930-4c38-4ac9-9e99-36b5656450cd',), ('517935ae-8242-4a24-a4c5-df2ad7a83d4c',), ('7871f035-44b3-4383-9e57-8ac1bcf66f2f',), ('94268eaa-14da-4cc2-b080-3601a2ad5484',), ('0fdd8f35-44b2-4fee-9c97-f97c46c48cdb',), ('e2947640-ffc4-4cca-84fa-06903c7b30b6',), ('c4629585-d4cf-45b0-a38d-72c3d4390c28',), ('a7e2df9b-222a-4d76-9fe2-6a3d144b4543',), ('8ff60886-b86c-42cd-8d2f-ab7173f3fbad',), ('c04e455b-f278-4f23-a009-e39f3724c9d4',), ('f074711e-2042-4439-a1c4-acdf6705f7a1',), ('5ae548b5-051d-43a4-a1e2-471b24ac3b7f',), ('c21f5709-49e4-42d6-853e-b6e616081138',), ('3420ac5c-1c98-4ab8-bd5f-eff33e44986e',), ('29bd8354-3d2b-4d08-8acf-72ba5f7d6a00',), ('5faa9da8-be73-4034-8888-ae9e79245909',), ('8e2de3f7-cdb0-4bfe-9c3c-31820d7facae',), ('13d09b21-cea5-41be-8557-a3f69bfd3d0d',), ('67a91351-3771-44d9-b1c1-7fee72f4df5c',), ('270b4928-31c7-424c-9d53-8c9e5e5042d3',), ('a3b18ad4-2f4f-4557-812e-cc5392099c78',), ('225c1328-5052-49b1-b150-bcb416af42d5',), ('44d3e9c7-e0be-4e25-ad32-e3e6812dab5d',), ('f991f024-3c80-4494-ab19-eba9f5b0715a',), ('fa97c592-dbfe-4ffb-8078-6a4caa515c33',), ('149f1440-a730-494b-9399-2b505e309092',), ('61db0f53-8f56-4748-9178-76bb2ba9038f',), ('a9031b7d-6ba2-4860-8918-e9ecb7044fbc',), ('25d50951-9241-470b-a090-92f3058b0289',), ('12cf7e6d-3db9-472d-b4a4-004d9548b410',), ('26ead9dd-d51f-431b-8ffb-2cf2ed162508',), ('402b0bd7-b3aa-4b32-86ec-d26b4f3b3aad',), ('d2aa1694-6dcf-4172-9984-3805ec46441c',), ('30efabf8-968d-4956-98bc-1fc758051569',), ('3cb5d07d-b6de-4daa-aa22-bded1bf5fb6d',), ('b69abaf1-b2f6-4ea8-a7b7-a16360c0e2fb',), ('aa4d5815-fe6c-4b4d-98ab-ea6b0eadba48',), ('dc2c4d33-a040-4169-b4f0-f97cdf3b871a',), ('64a02508-71e8-45dd-b011-c90159ffd7e0',), ('6a05b4f0-d8bc-4462-8cb9-2de7efc92d3f',), ('104e5e5a-b0fc-41ca-a41c-47633598d6c7',), ('afdce12b-d5a4-423c-9d23-dfbea15a7889',), ('8833fda4-75a2-43ca-995e-76d3bf18724c',), ('03d21793-5765-4555-a6ae-6a60a5b25dab',), ('d1ba9e30-9043-49cd-9ee1-69fc00a678b7',), ('315f97b5-9849-4ef7-8b67-13ce2402d0fd',), ('05834b9b-eb95-4ba7-a042-bd9617ef78bd',), ('05a11da3-be67-48a7-be06-490d923fb9fb',), ('7b1319ba-c950-4077-a1e7-e9417db15ee1',), ('8c6cd151-8a41-49e4-ae2a-8ef1215a3e59',), ('e2cbf235-ed5f-4b95-8ac5-c3908405dce3',), ('a436b588-cf29-4c88-897f-dc8dc6b39f9b',), ('bd90542a-65aa-449a-b0dd-76a9ed790c2a',), ('2a0f39ea-763d-446e-8bc3-e608a2f126b3',), ('e35a4b31-db82-441d-8e9b-21935b1c0cc2',), ('49c9d9f6-1dd7-4491-8767-ada0f08e9831',), ('26c785bc-869e-45b2-8526-ee9314a32e20',), ('2c2f24ef-881c-4777-ade0-adde3454ccbc',), ('a82879a4-afd7-4572-b975-342724f196e0',), ('c7276441-9b63-4832-81b9-8a6b7dc3b6bd',), ('7f54bb43-abe3-4dca-99a1-af091d46328a',), ('0869d8cb-956b-47ab-b96e-dbe454bc707d',), ('febaa9e7-d6c2-44bf-90ee-d9aad69da481',), ('36e0447e-43e3-4d69-966f-f086d5d059bb',), ('e22e6cf5-edac-4a58-a600-54a3368af7c4',), ('e76113b8-72b1-4b66-925e-33e49f27315d',), ('6f370527-a62f-408e-8ca5-f4bea67af3ea',), ('48e9b950-afba-4349-9a00-22c232b415f6',), ('f135b3e5-6fda-4a29-af49-66d792f5754e',), ('afd41333-a607-40f9-abac-270e50a7e997',), ('9b04587b-6de1-4257-bd1a-b8cbecce8bd6',), ('5503368f-0699-4fd6-825a-eb8d4892e40e',), ('72453dac-cb6c-4c22-bd49-3ad4e6c6c48f',), ('490cbe05-fb52-4e2b-8922-2b485acf90d8',), ('daf174d1-9e0d-4e65-bc1b-29f970fdda46',), ('04d59152-ac09-4435-b831-4aaa7e589314',), ('697eea7f-0067-496c-bc50-2921538e2cc4',), ('90ccc85f-852f-495d-ae38-e8edf2f16598',), ('33cdd9c7-6b1d-4864-a1ad-605cc9d06fd4',), ('ef4fa1c8-2a46-415a-9320-f165e7cb3a31',), ('07649758-09c8-4d70-bc6f-5c37ab36334d',), ('e35d2a1b-2d80-4489-86f6-36195b612164',), ('eca4ef23-9a30-4e9b-9634-b6b50db50c45',), ('7fcdd323-cb2c-4f90-af56-b3bc88fcdf11',), ('a08e542d-1c6f-4aef-abfb-7d89b36bc18a',), ('41a4903a-c5ff-44fb-b2c8-8d4fcc3445d3',), ('dae65e93-dbb1-46c5-83cc-6542861ec5f3',), ('0916f000-9904-41d9-8ea4-2e767ae66eab',), ('4c876a32-fa9d-45b5-b889-6962e1ba3827',), ('858f39b1-1388-4e6f-b850-a4aadfb2d443',), ('aa77e981-70cb-4bc7-a6a0-9b3a24ef8039',), ('072a0d08-1a08-4683-ab17-641fa15531f8',), ('364f9928-2db4-4c14-bd19-f96af52d0b4f',), ('279314af-d48a-457a-99c8-b9bc02578a9a',), ('8483eb4c-b0a7-4806-a35c-fd4e1424f554',), ('b0fb5cf8-2970-4806-8c10-422b86fb2a55',), ('c578d7d7-2577-4557-be70-45981cd89d76',), ('5d4b3cf3-02d1-4c10-b41a-cd52da82e2eb',), ('6383336c-b07d-4cb0-a24a-c27523a9ffa6',), ('16abeff9-fbe4-405a-8588-2b323cced4e0',), ('c307437b-cfa5-4076-8ea7-bd00085991dd',), ('39940765-42e3-4236-9f9d-a7d7d3aefe48',), ('dd60747c-223f-4a96-9de2-265bb788e6ee',), ('73790998-1dbc-46a6-8ae9-b02101a8b30e',), ('37822846-79b4-4718-ab74-411c48fd34cc',), ('44e29910-8cac-4dd0-8061-5757f5e5e38c',), ('a0c8cebc-26eb-4984-823d-8ea65fb017cf',), ('997cbe90-1125-49f0-9a9e-0111c68831d1',), ('a566345d-094e-43c8-85a1-d52060828efc',), ('96edeec9-3b71-4f7b-96f5-5c587f83d3f2',), ('e33a89c7-d944-4aee-8c70-88a5097df73b',), ('6f01facd-44e5-43e9-8bf5-01b0b3bd5622',), ('aa229ae5-bb6d-45c1-a055-9242c05f7e03',), ('5abe9fef-3440-4ada-888d-49fb6fa2a684',), ('85103cd9-f213-446f-b4a7-84629749f608',), ('79ac67ab-f8b0-4f5f-bee7-aed11cc21bc4',), ('b0cee963-fa40-423a-9e1a-b52f7edd17ce',), ('bb8ff57b-27c8-44a9-b7e1-085c98e64f02',), ('e285b4a6-faa1-4c0a-a186-701277957d93',), ('1269057d-40cb-41ec-a0b1-2c646ccb8d31',), ('61493103-2d36-426b-8159-197c2004ec06',), ('2c4c088b-5e5b-453e-95bd-aa062c131db4',), ('3492cb8c-100d-4763-b64f-b49fe41fb064',), ('78e1e99d-887b-430a-b422-fa33f740bc4c',), ('89b4aa05-b3f2-4e7f-9a0e-076acc5d110d',), ('f671df12-9f5a-4680-9e0a-ac880c925c63',), ('766955e5-4888-486f-a3eb-ebdbf4b928e1',), ('3db8a774-102b-45ae-825c-0f3ef49559e1',), ('caeb7743-3b5d-4bab-90e9-0529682e99a2',), ('2232fae0-5e36-4056-8a39-2ec42dc3d2f3',), ('00ed9804-94a4-4f1a-97a9-6d3775743b98',), ('a6148ffb-3e21-4bb7-b076-ad9c98238222',), ('4345f8f6-6fb6-4273-a9ad-b00f16b4a084',), ('4604afe3-6438-4d1f-89bf-973bb32905f0',), ('b9c9438f-9812-4d75-a366-4521cee2277a',), ('df5bd7ee-2111-4d7a-92b3-785f3ae85286',), ('82a5c5b0-9f81-41cb-9792-d7bf1e367c4e',), ('76bf48d0-dbb2-4990-bded-764dc037646b',), ('31e95f52-b2b3-4073-baeb-6788376ef621',), ('1e74bedd-cbc9-4f00-957f-51755b20dbea',), ('67ddf87f-a7cc-48a8-9a89-c674e308b8cc',), ('7c579ee4-e5ed-40c3-8972-666769e7b54a',), ('b3e228c7-fe7f-4588-96fd-2d9bf1392edd',), ('cc8324eb-459c-4692-8d77-a3c50dded46b',), ('399de328-d729-4084-bddb-421c19ceb681',), ('bea5a31d-a49f-44db-af72-a249f6287eb3',), ('99d7eea4-ef34-4ab1-97a3-b323d0a8167e',), ('c610ddf4-7245-4f7f-b430-ff16de1836d1',), ('a8967418-7ca3-4d17-b148-53b6405c68e0',), ('06a6ce29-9212-400a-9e6f-d709b2dd683c',), ('41d4cd6b-2b7c-461f-a5f8-ee4071d0b5aa',), ('8a8c94ae-f1d9-4780-b8f5-61c3049bc5ad',), ('259be07e-ceef-4bc3-bfff-373cb3900a42',), ('e747f681-9204-46a2-b590-7b43e02dcddd',), ('eac19f39-4b5d-4186-b0ad-71f989be0c9c',), ('d53cda73-2146-404e-bbf8-a666d47921be',), ('246555e7-ffcc-4ece-8bfa-05cfdce48bd7',), ('525541bd-215a-490f-9268-90d1dd7ef377',), ('4aef5704-0547-4ed9-8b84-3a771b6595c5',), ('4454141c-5e24-45e9-836d-a07077737931',), ('909a2de6-8da3-4aa6-ac70-51033708ebe3',), ('b769d705-ebb4-48a9-a604-491e25317b0d',), ('ff05fb4a-bf05-41c7-806a-af11633cd253',), ('35c8f313-eb2d-4842-bbe8-975c54f0f5c1',), ('b3d0c1d8-b880-47cf-8213-466d55940189',), ('654d9590-9ced-47d5-8669-edb0a4d5f3c5',), ('4046df23-36bf-4db6-bdaf-0812d9342bff',), ('1921208f-04e7-4804-a370-c43809254a24',), ('6e099107-465e-47f2-8b50-1dd4170d1d26',), ('6eeb336a-c72b-4f26-bb1f-ce56040f73ea',), ('d03218f2-a9d5-4827-8760-fdedd1996661',), ('364735d8-e7b9-412b-b5f8-2b9ee0df5411',), ('d57c0a30-02cc-47d7-b38d-cdbe5d316d71',), ('d7d2d215-6192-4cee-8630-90f10ef9e338',), ('8dc3098e-9049-4ce1-b31e-961912b3d0e0',), ('9da19f15-71e8-4f01-9a81-66fe8e20f4b5',), ('3fc06449-4e60-4744-ba4c-71f259a87121',), ('bec28179-5477-43f2-bbaa-36cbb1a6903c',), ('488f3abd-6b2f-44f9-8fa3-12d48122ba9f',), ('23b92f7b-eaab-490e-8fad-74bd4767203b',), ('8d0a548f-ca08-42ba-8c36-b74b3ef2b3a4',), ('6dd8b405-2e57-42d1-9680-bd1d12302b17',), ('e62a70e1-77d3-4468-841b-970f464a068a',), ('bc513654-b5b3-4645-8081-a1afbb037953',), ('2c3a1c74-17cb-4843-bdb4-ee4a7a19ed6c',), ('b0dcb038-0e2a-48c3-a971-d30fdf156b3a',), ('530103a2-b515-44d1-b6f2-22ce54549af5',), ('11507606-d2fe-48fa-975a-931e3f09fce0',), ('fb7c6dc5-98dd-4d28-9c9c-18124bac8879',), ('ecbc2290-9ef7-4a5d-b80f-5b6e494f321a',), ('a3571ed9-393c-4123-af78-236b52801baf',), ('9b3dbab5-79e8-4e82-8701-573d9cecddeb',), ('07097cd9-909f-4bc6-82a2-ea239bccdc12',), ('89f97780-f0e6-4d1b-8c98-ed99d312a5d7',), ('e2e3e1c3-d1b4-4093-8f36-3d594c85f705',), ('c1aa1857-9899-46ad-9855-5e59720ea40e',), ('31fe69b7-7b06-4705-971c-57d8cd3a11ce',), ('5ef3a82a-f6c7-4292-bc7e-96d72b9fe2de',), ('b3b116e8-2a84-436e-9aab-b41652a845ce',), ('24746e7d-793b-4b8c-b2ca-f191456238bc',), ('a820fcf6-2c16-47fe-8bcc-8849162ca8d1',), ('89bed302-48d6-4198-abce-86dcd79234f4',), ('16535f80-431b-4ea7-bf47-1a19d80094c2',), ('5bc536bd-75a7-417c-b744-b93e25b5641d',), ('f106afda-2399-4d65-9fce-63d83bd379fa',), ('07dbbcfc-e893-44e4-ab8f-56e1816d2b49',), ('b1539c94-08d6-4ec3-b5da-96ae1617f90a',), ('8ef0c343-4a62-4e52-bff1-8afcb54590fc',), ('23f0c044-7fcc-4813-8726-2eca8abecdb4',), ('f6086136-0cd1-41b3-9a85-37e10721bebb',), ('bd28f879-7e3d-4258-b4e0-ac773517632f',), ('84a78538-df39-402a-8414-f4e15c2d0d13',), ('5892ed7d-fed4-4f00-b72e-af1315fcb62d',), ('6a843479-e308-4617-b4bf-89c5ed444dfa',), ('16ed2cc9-8997-489e-800c-859d4fa080d9',), ('a9aaa173-2479-482c-9e2c-9951219c8f3c',), ('8aad7a25-f074-4966-83a3-f00220e6c8d3',), ('5122cc40-e958-4fe1-bfcb-a174464084ba',), ('149a1df4-c77a-4ab2-8de9-e1d3798283ba',), ('dd15862a-b0bf-4a9a-af1e-39eeccd332ea',), ('7853485d-1273-4a8f-8e73-d8b6440aa2b8',), ('4b434b2e-7ff5-4aa8-b2ac-97bab617455c',), ('f7c34aa5-8713-4b11-9d9a-1afe894c8e20',), ('c7de5279-48bd-470d-bfa4-c23be1cf6333',), ('23162694-2f55-4097-b7b5-f2c983f55095',), ('547841b8-7639-48e0-807f-51d24924f6fe',), ('c2ef7066-1119-4cfe-882f-5ee9d9ffd95a',), ('dbc591db-aefa-43ba-9908-86b29e35b11f',), ('7da0175a-c15c-41fa-9986-b2141e6728d5',), ('6281acaa-704f-4776-a3cc-fd848ddd0ad2',), ('8c8cc3cf-f270-43c5-83ec-ba9ce4857aef',), ('32538463-ce14-4d2d-9d83-3c886bcc68da',), ('babb40c9-5a8a-4980-9784-015ce1d07774',), ('31fd5fd1-243b-40ba-9133-fb60b44fd24d',), ('21fb4893-8b25-4cbd-a554-e1c07088f2cc',), ('9cf486da-4387-4d61-ab48-b736a5700435',), ('3f6c8591-e3e0-446a-974d-850b0cc9731e',), ('043b7f58-b2f1-4199-a8d2-54e050dd7d0f',), ('4d16c4ec-67d4-48be-9574-1cc44a446755',), ('78d5d3b4-6667-4461-8715-ae200062336b',), ('9df59f6d-79f6-4911-a187-ec9b6c11e18c',), ('856c8265-9045-4fda-b334-54953a459aeb',), ('bae281ed-ece1-439e-a59e-69a2912acf72',), ('7382aa66-4e53-4d40-857d-7820434865e6',), ('a1270d9f-4fac-4373-83d7-9ec1978a478c',), ('436e2e5d-bdc0-4c24-ad91-3f2faf0c5b3d',), ('608c16db-42ed-4a75-8912-e6afe833be16',), ('fd18ee33-6752-45a3-88dd-ed9f2b9e537b',), ('f5bbd236-6ee4-4809-8fc2-9d4d013282ba',), ('c7fb370e-9751-474f-9b2a-b0a0e9842430',), ('32fa6cc2-2396-4303-a6ff-9006c64bd1ef',), ('a59df438-d4b1-4209-9b5b-3fc93a656ff8',), ('0d31bc5b-6873-4073-94ad-96a54d78a8b4',), ('383d6763-d195-43f9-a41d-f4c67c0b0f94',), ('888de43f-fc06-456e-836b-b236c0803122',), ('8cf1425e-9207-4a00-acf3-4cd31cf984d5',), ('e0d861b5-002d-48ac-9834-ebcd9d293bc3',), ('883a2601-034b-42d0-aa83-bc860ac89342',), ('5695ab8d-67a9-4d04-bb30-48e5968dabda',), ('feb53fee-ae1e-400a-a7f8-81cbfc56fa6d',), ('615bef3a-946c-4ba8-ab82-615a325f5ed8',), ('f24d1ccf-356d-441c-9050-6627f6ae5be3',), ('e4e0f4df-d79d-43a4-80cb-c5fd105aa4eb',), ('96665f97-8387-4432-898e-5f80d4aa3efc',), ('2e0626a1-ad12-4bc8-8e63-b54228b00a70',), ('8e026046-d8cb-49f0-b832-3bdb9c59040e',), ('ceab8a8d-2265-4bf2-9835-ecd6345f8578',), ('1018bc1d-86f1-4eae-a5a9-998c5d8b6643',), ('b1134e11-8831-4289-a732-9e50cd5c359e',), ('ab415d99-315b-4e65-9706-6d53d153c18d',), ('2a94d4b8-de7b-450d-a0b9-6e72123442d7',), ('4edfe4d4-01c9-42bb-ad72-c923cdf99539',), ('0478f5f5-dd66-4482-8d18-0b6571dfcd1a',), ('47406df4-098c-41aa-93ad-1c04b86865b7',), ('7e207201-b169-42c0-9bbe-fd23700b621a',), ('c9f619e6-57f2-4c0b-8d26-778d03d40c7e',), ('c688f6e1-9ce9-4b3c-bb8e-7f05c5820eed',), ('67491c8e-b56a-48bd-a5aa-10f7b2dc2ae9',), ('f2ddd820-f171-482f-9eea-9c47d2fa72e1',), ('419faace-8342-496f-9a5e-d19ce34da966',), ('f47c6b7c-4243-4c07-862f-d79488dbc200',), ('6a18e86d-72ab-428c-8daa-6ff9dd700d25',), ('e452c88d-d348-4078-bd4f-a913bf8a22b7',), ('32e0c006-564b-43ba-a5fd-1d72eefcae9c',), ('d2c24f30-79e0-4e4d-b4c9-d40f6c43cc32',), ('2a8fdebc-52fa-4b33-beec-71ff590a3717',), ('a4cbd3c8-c110-4d9a-8400-193cbf84b064',), ('64bc6da2-0e40-4efd-a9a7-60ba092ffa13',), ('d6528eaf-0376-4a35-9272-a4f772f92df1',), ('aa951c7d-c035-46a3-a795-5ff24ef2585e',), ('aba5307b-bb19-4cd7-bba3-d43dea3f2f63',), ('cdbc645e-26e5-4e7a-bb27-c0f1dcaf18eb',), ('6c0eb39e-2a80-4a8a-9ce5-404182e56b1e',), ('71b26c3f-80a2-48a3-9d6c-f951b6c2a344',), ('20b1fc47-993f-4e5e-b813-a6ef4e95f3b9',), ('ed49749f-d47e-4118-8bee-4835f05b5cfe',), ('ea452d8d-3d3e-4e32-9f6d-46c32a9314ff',), ('6167b145-a305-4eaa-8821-7d500263ab2f',), ('674e0e54-1467-4000-a98b-b6a8f8664f71',), ('087ec381-176a-4e28-bc71-dc668a949cb2',), ('c5164ce9-39d8-4971-b932-a01e647dfc14',), ('ae73f595-faac-4abb-9767-5b6722fce78a',), ('f4b5f26d-c2b4-44ca-b595-0f6f123be839',), ('71842ba3-4ed1-42c1-9ece-46328a0b0c18',), ('23670822-a3b4-4532-a440-be92faba4b4d',), ('05822e4c-9361-4b7f-b2a6-596ae479a513',), ('283c2ee1-ea4e-4c8d-9200-a1acba8991b9',), ('6bef3f30-6552-40b4-a53c-f294102aecec',), ('d91378f7-5790-402c-8a3e-d0fba629e2b1',), ('cf958cfb-8258-4c65-82ca-c101b343c663',), ('2f872972-bec6-4f37-bcfa-1a697c54f4ac',), ('ffe996a6-58c9-44a7-b1db-7a793f2ceb05',), ('095a1fe0-3383-4694-a3bb-2ca59c80dcab',), ('21c09efe-46e4-4112-9689-5b91c0ca562a',), ('d7b4ae24-fff6-437e-8af2-d58521844353',), ('512080d3-a422-4e17-8aa9-3b5394499528',), ('e6a58300-2548-4ed2-9304-543654e4d077',), ('c46df011-6f91-401b-9c9f-576921a78624',), ('9bd3fd29-ec76-49b4-b7b1-a8c637249946',), ('4553272f-4675-4c19-909b-872c2a220771',), ('ea717fe3-7958-435d-a1a7-a0494cee55a8',), ('15b62d45-ea41-4424-ba90-2d94b49d9358',), ('e19ed6cd-47ef-4123-b3c0-ed9dc3936f42',), ('a10f660b-6f00-4787-8b20-3b8096a6eb4d',), ('412ff2bb-350d-413f-bd5b-baaa42b7e978',), ('942c44ce-1dc6-4bb9-9f25-1fe5fd4e9944',), ('34c24dbf-3f60-44c0-ba73-ec31a1989a07',), ('fb922155-0a64-4d3e-90ee-0186f9615e30',), ('a6b8648a-0b33-48fc-ae18-f328d97f0ee4',), ('3ee3dade-18ed-4b0e-9411-65c61f01a654',), ('5c469ff2-ebdd-4f49-91ec-42aae182e36c',), ('eca6d46f-9830-46c6-8269-d5ad90a6988b',), ('9b26c43e-a069-4b0d-9149-fa59b9c9eff7',), ('6015676d-aa1d-4f5e-8fe8-60ec12d656c5',), ('129e7edb-324a-4506-9803-14d578c36fed',), ('a39823bf-e61d-4c0e-bfc2-1672e7aef3dc',), ('3677ab7f-a9a5-4666-b489-11f6d6063214',), ('f1ab50e1-e69c-41da-89c5-495b5dcf0150',), ('05221065-065a-4c27-9b93-261bebcf8e92',), ('c6dc2008-0f8c-44fb-a52b-5c69471d6eec',), ('d722107f-e7dc-4607-8611-4a4d4b511f3b',), ('c8b8b873-9b39-4b32-8854-1214a7b192ea',), ('82af8b06-c6db-4391-a179-bb100daa88a7',), ('21b67dee-6c53-4a01-9c56-e39c7acd92be',), ('ce5fc963-0166-4c5d-98ed-41c2e0528eb1',), ('2e19ed60-a60a-45c5-a2ab-7e45c23c1ae7',), ('a80fb019-46c0-408f-93b4-e49abfb6f59f',), ('529246d2-295b-4deb-a56b-adf18066c362',), ('d9ed31e3-c4c1-4c6c-9eb6-31222ccd1a2d',), ('251366fb-35a7-4c6e-98ad-af2e6861c5da',), ('09c18b11-ee4f-4ae2-9902-4bef8e3dacf2',), ('88503cd4-fb62-43f6-8510-fc8dcbe749ff',), ('5c4245a2-7879-4fef-b2bd-3401538ea14f',), ('891fe11d-c74c-4626-98d1-0b624a1f3ea5',), ('22eba1c0-d4d4-46e0-ac7c-ba9fe2a0eec8',), ('d6a08a07-30ec-415f-905c-11034c976b8b',), ('9e4e9ba6-8818-4381-afe2-de667244738d',), ('0a839e26-d36b-4cb2-bdb5-90473a6a2c8e',), ('0822c318-0907-4719-93ab-c357ee29fdc4',), ('c9aef425-c673-463a-a2dd-17d7c6d0290d',), ('516836e3-c944-4a68-bfec-b42bf2a1eec1',), ('77c07a98-2e60-4fa6-ae7a-95cc735759a0',), ('6bab32a0-4654-4743-aba3-4a854ea9a4c8',), ('80c412f9-4d20-41b4-9c60-b55f02f2d39f',), ('9a17c9e5-0707-416b-a341-99fea7b967ee',), ('7224095c-2eb1-4345-9c4d-d25fb91df7f5',), ('6f777d72-3838-424d-925f-7743c333c4ca',), ('b747fd25-0727-4fdc-a5da-0bd7a1eb1c96',), ('6323d52d-59f7-45fc-b622-287eeb08516c',), ('ed26595a-93e9-4bd5-903e-37373b1a1c46',), ('a69cd8ff-d7d1-4e57-b0a5-aeeeb521b75e',), ('df6eb085-5ef8-4703-bd8d-0658344e524e',), ('064a8b9c-a7f0-444b-a53f-ce037568ef03',), ('4bb917f8-d7be-489b-834b-e77ebf6c1a9f',), ('58e678ca-de3c-42a8-8708-edcb38b4b6b9',), ('1e68e926-cead-4055-acb3-5fa99f18399d',), ('7cc0b6a6-6b6a-40c4-b293-247f67ae308f',), ('891e925e-8945-458e-9829-9fb341f0b00d',), ('dcaea45a-0045-4ec4-9186-e62b06fd3533',), ('1852b061-8ba8-494c-ab2c-afa0f5113f00',), ('2adb8b75-c049-430a-a868-6eca2b71473e',), ('76e76b3f-de42-4386-bd27-4725e387cad8',), ('6e1eb467-0af8-46ae-85b9-0e0d08238b45',), ('218a9aca-0cee-4a11-b686-b0fed84d7ec2',), ('b5f8c047-0b9e-4084-9574-a2031e6f046f',), ('6f83f36d-df69-4277-a84a-133eafa0f60d',), ('42fb4b06-75fe-46b9-8af6-bf281321b367',), ('32666750-7917-4872-8e73-6072bddcf7be',), ('970aa415-9b52-45d7-ab52-5732149e8c7f',), ('655a05fd-2478-40e4-b817-a04a751bff87',), ('8d14f4f8-1a9c-4575-97b8-22a04e4cc73b',), ('d71be7f3-f911-44e9-859f-80d1d454d905',), ('813af746-2911-4515-9d66-78d3cf90bfae',), ('f8db1676-1daa-42fd-8203-294f6540245a',), ('bc692509-e7af-4db5-ba78-13f59b2d51a3',), ('cc9791b5-8ba3-46e9-ae49-e6f0cf045c9a',), ('07e735be-1909-49cc-b638-bba18d0e948b',), ('ac32227e-947d-4ea9-8a04-36d7a1ef247a',), ('3b762d98-0cc1-4d38-9521-589e6405874b',), ('a19206d7-0b78-4446-8efb-63aa3750c358',), ('bc715793-0fad-4bb6-9a4d-22b6dfc4c68b',), ('ed44be18-e8c4-416e-b318-75b80ced7500',), ('334d0053-17f2-4149-9c23-c018a522f793',), ('8ec084e5-434c-41b4-ae76-9dac144f43a0',), ('5fedc918-c974-41ff-933c-f19eb59a7436',), ('cfcf2eb1-6394-4974-a7ee-8056cef0ed89',), ('151d5834-775a-4056-b9a4-d7299c0ff649',), ('24076dd4-aad1-4b95-8728-8d919ee8df6b',), ('b11203cb-e4f7-43f4-a339-21a1bd0553a2',), ('25c94a25-09c0-4b82-b4ad-d1a3ad963119',), ('ab171e46-ef24-467f-9db2-03e7096d055f',), ('381bc8e7-07ff-41b1-b3ed-06284e92b0e7',), ('9e11f104-7a40-4769-b862-3061ae985ec5',), ('938c4661-4e7d-42de-a76e-26522c194354',), ('ff23668e-a082-4444-a9a8-a17255e50341',), ('4cdd3aef-dc55-4724-863d-7d38929316f4',), ('31adaee2-dced-43ac-b165-dab7f49e8936',), ('79b4ebe1-3244-4061-87c0-e202b7406a50',), ('46513e93-5f37-498d-9258-049c9f8eeefd',), ('fdb91b14-ba49-4d92-aa95-f6c16c1c69f5',), ('54d50cd8-e7c4-475f-8ada-0d7cd72fa2c8',), ('94c9c733-a4aa-43c5-80e9-4c9615d7e16a',), ('5c746a2d-098d-4a36-8089-8af6c2cb656b',), ('9afadc2f-9a00-4e52-aa93-1aed7328c87e',), ('38541eba-10dd-4980-904d-c3f5caf429d1',), ('df3bd131-1788-4cde-a054-b8fdf6ff69bd',), ('d655e779-12c0-4052-bfea-fb73d2946c39',), ('92015fcb-d638-4396-8179-a7a50d6b9841',), ('009cec7f-f5b6-42b1-95fa-dfe110acb88d',), ('6138f62b-b21b-43f4-814e-6df59f47299f',), ('fe06a4bb-d50a-4279-a5fe-c50a415c6ad2',), ('2e676d75-3b94-4655-bbfa-61212c982db5',), ('fdebbe64-f04e-4edb-8a2f-616d4b6943c5',), ('bc948c69-f5bc-4656-8d83-d68c1ed25e38',), ('4162daba-fcc0-4311-bdd3-7f36c3cb7120',), ('0ea68919-8ef6-4e13-834f-469f18d3ee65',), ('4d3f4b6c-4897-4daa-93a0-555b12968812',), ('1267094c-08d8-41d1-9a78-ce4ea6f05827',), ('c3337cde-67ff-455f-994a-ce7e2d0bc109',), ('beba47ac-b7e8-4603-9bf9-07e34ec40018',), ('19d0cef9-ae6d-4bdf-a522-5559f46d73c5',), ('d499f3c2-e170-4541-ab83-78671bdf20f3',), ('47f4a404-61c7-4a84-adee-796fed88e5b8',), ('c6517746-692b-4635-a51d-9a3c11cf19f5',), ('8a4d7ab1-26a5-4453-8876-8a602431288a',), ('dcccd977-2451-4ef3-91a6-7a6d8c93ef2c',), ('2efcc8c8-a663-406d-b447-961978c74de7',), ('72202084-2e23-4c5b-9cd8-1f30a3abe944',), ('9c93bb64-bac0-42f9-9cec-48a838abc56b',), ('aa600568-e942-4765-8cdf-6b63211bd6ac',), ('22c9784a-2d9a-40ec-85f1-f9eb89f262cb',), ('e3e68f3d-3e3d-4d61-a9a8-797da44816fc',), ('a74481b8-8cf4-4a94-b312-5b12bbf34c4c',), ('6be2df34-4010-4413-92fa-77f4301dd514',), ('aff56558-a78f-46a9-b93d-8acefdf9945c',), ('c8e0ff5e-260b-4fbf-9954-137a96f95d01',), ('3464fc01-2a11-4366-9b37-be0024cdc0b4',), ('5762a4c6-1f04-48ca-bfa4-d52b4bbad178',), ('37f141bf-d9f0-4236-af5b-63ff085b7e02',), ('fb68b8cb-a80e-4278-91be-9e3259af7b18',), ('8fbb5387-08f9-48af-a2c3-60c45e9f654d',), ('47b5b2c9-7b7a-4c5c-828c-d0b5d173d02f',), ('35922084-f5e7-49d9-a9de-38f8cedcc7de',), ('dc5d430c-a2fa-4612-b4c7-be72bed29973',), ('e9e84038-f2df-409a-b357-3a2cff488e8f',), ('876264ea-832b-4f83-874e-5a7a3364caa5',), ('6fb6943a-20e1-41e5-83fa-8525ca75a111',), ('2511ec81-84a0-43e2-89e6-1588f6da03b3',), ('53702b2a-2fa5-40b2-985f-ddcb2151eacc',), ('88136df3-4a6a-436e-afd3-7e64aa9d83f5',), ('028e84c3-6992-47ba-a3a9-1729d9476b4c',), ('c1947114-532f-48b6-bc4b-509718c08ecb',), ('c2f1b97f-f874-4f77-ba34-2781ed11b83a',), ('bb7ca52c-c767-4b2a-80f7-6fe6e406d33d',), ('42a3f81c-d117-4091-a3b1-c20bbe55dc7e',), ('75278b11-0a97-490e-bf49-482cfdc14756',), ('1f762d4e-cc34-4f2a-8215-b0bf3f3d7ac6',), ('bc1c8b4d-9ad4-48ed-9da6-4edb3b8384aa',), ('ca0ac87a-a0de-4d8b-90ce-23cbedd1f920',), ('1a98ddbd-8a8e-4c4f-bb2f-e48afea2c18a',), ('9e2a0f35-7eca-4d85-81f7-91b68d0cc951',), ('db50e43e-b5bb-4635-8774-796d03d90ea4',), ('0d9636df-7bd9-4e56-af91-88a478e2cffb',), ('dc98bc0d-68b9-43bd-8c71-eb9bf31711c9',), ('9edc5500-be7b-46a2-b0a0-a486be1b99a8',), ('f2097be6-1459-40ac-8f69-23b9ab44375d',), ('baca43d2-cd9e-4d06-a4b5-17527c6aab7b',), ('43b4f928-aa94-4007-963f-7d08eb06fc1e',), ('a6d279ae-3e93-4c9e-a74c-21ca56a3115a',), ('2d95cbd9-6a02-4205-893e-93c667cb5b96',), ('c9957d8f-d25b-4ac9-bc6e-34aacd1a2d51',), ('0cdca5f6-3043-4199-9ead-c0ff550e979a',), ('1882feda-da5e-491f-b4a9-2b7a21e9a06e',), ('99e74ced-365a-47cf-82dc-c262f76f5e21',), ('207b7d66-e4f9-4eac-a466-5fe30ffe9783',), ('9fd04a45-4ede-456d-a044-3221123019f5',), ('964e1ae0-f4af-47bd-81ed-51ad92635413',), ('5ebadde8-3804-4cae-ab3b-9f61fd9ba890',), ('1448f8a4-1fb8-4ca7-b832-debd7b1e3582',), ('6b7e17b2-a5fd-41cc-a676-dc0173242389',), ('9c399122-69a9-4b69-b498-579c38e2af7f',), ('77ae3ea3-db37-48df-8665-6979f5c90bfa',), ('b1f6d201-f1bf-45ac-8081-12064cd1f904',), ('4502cb17-18d9-4ff7-a330-73ea3a1028c8',), ('878050a0-58da-4d78-9fd3-bdd112264170',), ('ca57ccf2-058b-4318-886b-7b9af783c6cd',), ('d45757ab-2c42-4dd5-b996-88a86985b5c6',), ('3c188b2f-2d8c-4284-b116-f36147e9bf5f',), ('32f9a4ad-8707-4463-9696-23bf8586cbad',), ('379c209b-205d-4254-bbb7-a0658fe37445',), ('ee260a04-8c60-4c9a-82cd-817da615ad41',), ('aeee02ff-f967-43bf-88a7-13bfe731f8a6',), ('7dad24bf-8e2f-4ca5-b59d-ab01f2748877',), ('1ab6e7f2-4d39-4c4f-a482-5854cb1fd242',), ('5c372bc6-ce56-4729-a4d4-1078c58743c2',), ('67370f6d-d53b-41b4-899f-6d1a6b43857c',), ('9404130b-5fdd-4108-9a77-089fa6c72491',), ('6da00cfe-7bcb-472f-9b1b-4c62917cc984',), ('dffabcad-7ceb-4446-a9e3-8f6b840b537b',), ('041099c7-fdcc-4476-a13e-a51708be3546',), ('8113aede-d13b-40e3-b097-1ecd401e540c',), ('e01122bd-7d60-46d2-8096-a7ae813ad2a1',), ('ee4e31ba-34ee-4e13-ac44-0496f294e9b4',), ('dec74a8f-453e-432e-b15a-4e98de31dacf',), ('e9d9fde4-888b-46eb-b08a-c89afc29613f',), ('254ece31-c5c7-44c8-b65d-55c9037955ea',), ('5c7bf111-7419-4e8a-bf12-f898389a18eb',), ('f8f22062-e5aa-4940-bf17-dd3194cfd9a3',), ('4599d783-aecb-4ebc-81bd-602b0c56653e',), ('63495d36-815f-4187-9023-4bba67ef2ed3',), ('1b5d3d1e-1be0-41c7-a2fc-b36662421fe0',), ('111a2440-881c-4957-a045-1fd5089d236e',), ('6aa28aa7-8ab5-44a9-abba-a8d9e809c649',), ('c83bf38b-5353-4e9d-93f3-1ab3f81acf7a',), ('1a266ac6-c975-449f-b5f2-73cbabc48443',), ('8a15cf32-0709-48cc-8f6f-c31f058fbb1f',), ('d176e96e-2710-47c6-a1e9-d239516ae4cd',), ('0caf0f91-ecb3-4bd5-8a7b-7e515f8b9318',), ('11109ad8-d4ac-498c-9b7c-76880fcb45c9',), ('9ce5c404-d1e7-457a-a711-a0dc31b41034',), ('5b77c2ee-2d7c-46b7-a213-3e9cb90553fb',), ('204052be-08cc-4cce-9ab8-12a6e26847f4',), ('606ea592-c043-4ee7-9a81-6e171e9c5116',), ('bd218a39-3972-4f3a-b758-06745f8f9a03',), ('2bdf62c5-b652-44fc-85fa-e62159e6b7ea',), ('1cacb051-fcf7-4f2b-9d33-f61f16de38fd',), ('a8ed2a36-27eb-4099-a03e-2a583020c311',), ('028f3b03-a173-44bf-9bbf-de90115e9346',), ('85923c4c-9b24-4047-9bda-562cd202db36',), ('89b30a66-3ad9-421d-babb-d8e6f7289659',), ('0399efee-67c9-485e-a557-5ecad7279051',), ('88abd52c-3a17-4fde-bb31-a118c9af158f',), ('9b281663-31c7-4a9c-925a-2de969d9f6ef',), ('d39f803e-f5d1-4731-a808-564dd35cd20c',), ('a0bb3d94-0a53-4f6b-8163-e8207ca82415',), ('7c318ade-2ecd-4b2f-8236-72a8fdf01f89',), ('774fed02-5ff7-470d-97aa-602d1624088c',), ('1b564cae-874b-4bfb-8882-45989221abf5',), ('06a81fb9-b0b5-42f9-b9dd-e2077f774a88',), ('b4f774ed-4cf4-441d-be8e-bd734598dfd1',), ('aa0869bf-b11b-46d1-acc4-c2a83f511a04',), ('20d10b7d-cf07-4b3e-92df-c448f95638e9',), ('27974314-4a1a-4f26-8f3d-5ec232f0bdde',), ('75c8dba3-c747-4969-a061-4a155bbbdb16',), ('7e08dbbb-4541-48a8-afa4-cc34dfb6672c',), ('e5fbec99-4bc4-419a-8b75-41c9302d86d6',), ('0e8d0ba3-e484-4877-b304-7a7d72bb9eb3',), ('6ba81ca3-eb83-4a63-a609-c2aaccd9c0b0',), ('ea0e1fb1-394b-4a2c-9780-970d4fb9fe71',), ('6ab172bd-fa57-48ed-85f9-30110959ad5c',), ('a3118152-46f6-4428-8044-2a3fad167204',), ('89eeb7c0-faee-4011-9caf-142fd330e56a',), ('051794f8-1216-458b-96bb-f1494f7d243b',), ('28611b74-73c4-40f7-b224-67a9f7feed56',), ('d44d382e-ee62-49d0-ad03-1922bda74ddf',), ('44453150-8659-47cb-a3f7-7c99bd2aa3ee',), ('ca33823e-e695-4012-a0a0-7fcdba468423',), ('1446f924-6e99-4d6a-af42-0929f062e8e1',), ('0cd6bb33-c2dd-4804-9688-2dff1d5e411b',), ('ef9eba8e-c37d-4049-800f-0440e638109b',), ('c6ab4706-66f5-4fd0-8f59-18a6c2ccdfda',), ('712a293e-c868-4647-8752-33d8ed887a81',), ('143f71fc-ed0b-458e-88ce-f65c13f2527a',), ('73d9e0af-abe5-4fd3-833e-c7bfc698713a',), ('e8d01e58-a9d9-4460-b5ff-669809eeac93',), ('29618ece-853c-446d-8c12-546d08b6a19c',), ('01fa4d08-a075-4b09-a816-258bddd780f7',), ('44b1f00f-4990-4805-b773-b78e1b083b93',), ('d823a74b-75e0-4b4b-ac9b-347406bec235',), ('e961064c-a53a-4a25-a22e-ad1162a241a9',), ('6556087a-bbd1-4bb7-9525-85043167883d',), ('d5b34c4e-93dc-4082-93d3-d4f3d3fff6b8',), ('aabea614-1e31-48e7-8e94-59e7eee85e2d',), ('3c0b7919-790e-4536-b260-7c3cddabf3ba',), ('cd8001c9-4418-44e5-bd46-eb8a72f64273',), ('372431b0-8660-4151-a13a-f4dbf461b681',), ('3f94499a-3f31-4b8b-a60a-da66112ebcb3',), ('d93086a5-ffc2-40a8-b81a-1440178f7595',), ('8deb7625-0b91-4dd7-87bf-25463a5aeece',), ('2ceff4f0-0ccc-4941-973b-3bc6a0bafdf2',), ('8dea2efe-ac57-4da6-a367-17dbf93a369e',), ('7013f8f7-dd45-4ddc-a6dc-e33002d3c866',), ('bc42d945-ef0c-4bce-9c44-ce37e77cb5ea',), ('45723f36-11c6-440c-aff0-5b69af9a1bfc',), ('cff0bbef-b561-4952-9d19-240bdc14711a',), ('ebd41eb9-ce6e-4e1f-a8f4-8fa8c99cf8cf',), ('1f238eb8-0954-403f-b41b-d5cdf1523350',), ('81b531c6-70e1-46d3-b803-6a6ef461ff39',), ('136cff4f-a331-4355-8f7e-2e0650060617',), ('bb607809-c474-477b-ad4a-2400b387942c',), ('29c19dbf-18ab-4ae4-b477-d6ce23513470',), ('a1fb65eb-de6f-4439-a199-3799b6c62370',), ('7caadb3b-09e5-4ca9-8390-bbf260eb67c7',), ('9f1b0000-09c0-40a7-8f3d-19dbbde33595',), ('e1c7e331-98de-41d5-af07-8ffa24eb896c',), ('597a7a4b-c694-42db-9f1f-da2d440c8f56',), ('5056d9b8-55f7-475d-9a3b-d0e80e4bf989',), ('2522da29-bb78-4fa2-8837-7b793bdc0561',), ('ea973f67-50a7-4b52-b253-2892edf7b51a',), ('01acc670-a82b-44e3-9c03-855cf32e22a1',), ('490f168e-039d-4780-aaef-efa5d1e3c24b',), ('acc10c19-662e-40d4-8f1d-879ec99b7661',), ('1e9adc44-5a02-4449-a959-2db014b3e200',), ('b1844b4a-d563-4a4b-8116-025e1decc1c0',), ('0b421f05-a866-4597-a842-e97f6283e087',), ('624f02ae-b594-4f24-8f23-bc2db3eab701',), ('90148d08-15a9-4f35-ab8c-f20e7a96dfed',), ('560334bd-9369-4b7f-8eba-42cfc2e7c68e',), ('6178bcef-eee4-44ae-824b-14782ed6d8b6',), ('92cdff4a-75ef-495e-bef4-d7dc8a6338d2',), ('d8e2faf6-e3ba-4eba-9466-28ac8d8734c9',), ('5b183c81-1a6d-499b-961c-04ad6e304b55',), ('c86967b5-7568-4b28-91e4-e50e1d616780',), ('55cdb295-1357-4a0b-bf6d-145040a0418f',), ('ca33648b-3099-43be-8741-15c12ec198cd',), ('4f13c4e0-0a04-4977-b4ba-a554f6e362a8',), ('32171c74-1273-41bc-9580-2c46cf18ba93',), ('4d70076a-c2c2-4309-9b74-da040e0c4d0e',), ('0398a7d8-3798-4bd2-8031-5c867a6dccad',), ('b2fda5a8-1573-428a-b222-7edc79252883',), ('7eb88c79-af07-4b18-a16b-87276b064c0f',), ('6db394cf-4f0c-4a2f-8d8b-7d46c29e1100',), ('a16fa2c2-d049-4319-8d5f-bd60cca7fda1',), ('4953cdef-2e92-4d1d-bc54-b7f1ef19f9e6',), ('636646a0-ee0e-4d4a-8805-aff983dd4218',), ('d8f9b761-f1ac-4a14-933f-b66cb3b52fb3',), ('21deb06f-aa4a-47ca-8c33-617fbb42e715',), ('4b5eddfd-5c47-4c57-99b9-b70ee6493cd5',), ('d1d964f9-b8f5-4d4f-85f7-4fe98a5ba30e',), ('e9c66e2b-c7e1-4d8a-8146-6db7d8fe846b',), ('2e32ec5f-8916-4312-ab38-2ec5660e1099',), ('b3bee136-0bc4-4701-a90f-15e5428b2144',), ('1fb7d02c-4468-446b-8bd9-35870a93656a',), ('29803e78-15be-420d-b0d4-1912f8f9ae62',), ('355a3536-ee03-49b7-b148-40657558664c',), ('78416fe1-9068-4357-88bd-0ee6ed736f1f',), ('1aadb8e4-5414-4b74-9516-251fdf2608c5',), ('2e836b23-70a7-466e-ae8c-13ac77bb246c',), ('c504081d-6d2b-48c5-a62f-dda69d717146',), ('2c6afd74-38a1-4eae-9207-ecf16c8ae5a6',), ('7e495432-f103-4850-bebe-a1610b5cf219',), ('375f00e7-0369-439a-ac19-387eb5c73f23',), ('89d925db-9940-443a-b7a0-739b4379f2d5',), ('a31bd3c7-4d6e-41f6-88ff-50445f7a925a',), ('3b3f35a9-6bdc-45f3-9d78-017cac97bbcd',), ('9cfa032e-7192-4a98-86e5-0ca7302eed22',), ('16a2b5e6-272d-4483-95c6-367c4385ed5f',), ('46ddd948-9389-44ba-98b1-dd70cf7e06b0',), ('b1cf69d0-2eaf-45be-9aad-e63555081121',), ('a45a6d8a-a2b2-42b9-a33c-de8969127ba1',), ('096e70a0-dffc-4912-9b62-460545e69e8c',), ('e446332f-2442-416e-8854-604e195deedf',), ('ba23f0ac-dd03-4ba4-902e-2b747296fb1f',), ('09251a80-29fc-47b7-a097-af7f51aaa5fe',), ('ecbe8b6c-feac-499e-a871-68bdc253702a',), ('d5a830d6-3bec-41ad-8473-766c5f73c5d4',), ('769b627c-e0c8-4568-b594-e1257d8269e7',), ('c76921db-dd9c-4920-9080-17d9a2e5afd6',), ('3598e5ec-5a1d-4d2f-90e5-fd1fc68e2ab2',), ('f333196d-eada-44d2-a984-0070aab1863e',), ('778280b2-170d-4f59-9875-eea39ab5e82c',), ('31354854-5a8f-4b9b-b8cb-a9340c2cbae7',), ('89462dfc-2dcb-461b-bfde-28e6e6cb9fef',), ('9b654c9d-2499-4433-b472-99b95684b6d2',), ('a6eb6134-b5bd-4d87-93eb-47d209cd53a0',), ('f88df944-2152-4853-82e1-1a2257507e0c',), ('79082b81-602c-495c-a353-2c1c4432a367',), ('5c2e6050-a4da-4035-9eb5-68322b5adcd9',), ('a17e6102-40f6-4269-b00d-bcd236faedfe',), ('478b138f-1050-49a9-a650-2e82aeb1f591',), ('b040a409-a277-4ffc-b901-6601425e91dc',), ('894c2539-4073-4521-9f6b-1ee2c1fb1423',), ('8dedec1f-aefc-47ad-872f-666b2d8706de',), ('9bd2eb21-4b4f-4673-84f6-92625032d869',), ('db7b9d1b-cb89-4ebd-9a7e-76aa558e28ad',), ('655c05f2-e7aa-4e37-bc28-fcf253a61867',), ('3cde7c5a-a66a-4af1-b674-6452baebd732',), ('0effd51b-6ec1-484f-92f0-ce4998d0362c',), ('bd5e892c-075b-4c07-80db-8a506ddde040',), ('4e91c00e-5e01-4f71-888a-6978b5af7713',), ('4d6c6e00-21fc-4b08-a63e-b8cdecf7298f',), ('2f16c534-3126-4a45-ab03-7c25ced00c33',), ('9813c958-4755-4832-8b47-298f540900ec',), ('c110f4f5-9254-44f9-89b4-8d27ebad1ed9',), ('6968ff4f-9921-4fe7-820c-5f89bddaffde',), ('826c5464-6536-4521-8781-e5b73f6201c3',), ('f1a6f3b8-c18b-4942-8388-b99d540475b6',), ('9f9b17f6-67d4-4898-a728-ee8a1b15a267',), ('9d5d9f73-0cfe-4cce-96a8-d5ab7e07a70f',), ('93d84637-1907-4ec4-a11a-221960bfa0cb',), ('1e0887c9-a3e0-47f5-9a8c-1f1fe85b010a',), ('baa053e7-13f1-4fa2-a2bf-67505c6d62af',), ('cbc2cc23-2344-4eaf-ae63-870358504fd6',), ('b388ac80-9abf-4439-8464-1ed1142f1800',), ('1540019e-c03b-4b13-9540-d507d072c1c8',), ('fa8c69ad-9300-459b-9b9b-59e45fab4d3a',), ('1dd31df3-8113-4b92-817b-6c736fd2ad90',), ('c71939e8-ec01-4bb8-b206-d19001e51db6',), ('1dd5162a-8030-4852-bcaf-343234c9124c',), ('bfb015f9-ae81-49a7-912e-1de5af1c99d3',), ('dd7d5ee8-b59e-4e35-a662-a6b473f5f243',), ('1aa05521-cd90-41d0-9a30-ad4ddd1b390b',), ('c7817d51-c7fc-4cff-a7d4-44f492d75af0',), ('12d68a00-aa20-485c-b64e-603623ab7cb6',), ('daf206a0-2740-4daa-8fcd-3aafb9418c0b',), ('5d945dbd-9410-4d65-a713-b9a0bb376f10',), ('cdb5a8ac-e827-4832-ae30-43119a98cccc',), ('e097e73e-adf9-421b-87cf-5e4583270f90',), ('9d8cfca9-6806-4202-995d-b68fe3f61dca',), ('13956f55-4c9a-45c8-af03-d9e782ae74c5',), ('491190f5-ee37-4c83-b813-39223e595d2c',), ('105a064b-e3bd-4677-bc11-2adb26ec5473',), ('e944468d-52f4-4bff-9752-25082513a5a6',), ('40a2e9ec-a69d-445e-b88b-ef4d3dc42d44',), ('307e14db-6783-40c3-bf84-8c01980486b0',), ('e9fc5c35-f883-4a6c-994c-b45a64729bce',), ('d2d3a590-56cc-4722-bef6-0dc1d7419159',), ('6989fb6f-f7ee-4d5f-b6ae-3a9a7d3debfb',), ('662fa534-55b3-4093-bd35-73ce001aec48',), ('e36bbda0-ed35-428c-b774-cc0f09084dac',), ('978971da-1e70-4444-94e2-4ed7daf6d642',), ('6ae64ad0-8b23-4bc5-be34-cb7844917d12',), ('86187638-02c8-40c1-9eab-0d3cb6cbac1b',), ('2d7c4dd7-452c-45e5-bd79-fb33edca0962',), ('8d74877c-dcfa-4f88-a203-dc4b55198003',), ('f7a961e9-db3b-4af3-9749-68bb4cb8c933',), ('254e50da-e83d-400b-b668-89e342559d64',), ('3ff75c7f-2cd1-40e6-8b4d-017841d4b3b1',), ('a75d5a77-27a5-4a36-a858-04a4e5c46bad',), ('aedeed29-8b59-4434-bf6a-563c86817835',), ('bc658478-ed1d-4cfb-8265-5b3526a03533',), ('53ef95a0-cb6a-4625-a1de-638f8aeb9ac9',)]\n"
          ]
        }
      ]
    },
    {
      "cell_type": "code",
      "source": [
        "avl_mbid = [l[0] for l in rows]"
      ],
      "metadata": {
        "id": "vTF4T6ZwPzS-"
      },
      "execution_count": null,
      "outputs": []
    },
    {
      "cell_type": "code",
      "source": [
        "print (len(avl_mbid))"
      ],
      "metadata": {
        "colab": {
          "base_uri": "https://localhost:8080/"
        },
        "id": "Gj0isTBHP9Fk",
        "outputId": "6bbbffe6-3b73-445a-a013-955a5cd89863"
      },
      "execution_count": null,
      "outputs": [
        {
          "output_type": "stream",
          "name": "stdout",
          "text": [
            "1362\n"
          ]
        }
      ]
    },
    {
      "cell_type": "code",
      "source": [
        "unique_counts = new_df.nunique()\n",
        "print (unique_counts)"
      ],
      "metadata": {
        "colab": {
          "base_uri": "https://localhost:8080/"
        },
        "id": "A-e0VYQURU6H",
        "outputId": "d73842b5-a3bb-4b45-d942-b7ac907ffa2d"
      },
      "execution_count": null,
      "outputs": [
        {
          "output_type": "stream",
          "name": "stdout",
          "text": [
            "title_x      2172\n",
            "artist        550\n",
            "members       323\n",
            "lyrics       2193\n",
            "id_x         2194\n",
            "id_y          677\n",
            "id.1          553\n",
            "tracks         43\n",
            "mbid         2194\n",
            "artist_id     551\n",
            "dtype: int64\n"
          ]
        }
      ]
    },
    {
      "cell_type": "code",
      "source": [
        "print (len(mbids))\n",
        "print (len(set(mbids)))"
      ],
      "metadata": {
        "colab": {
          "base_uri": "https://localhost:8080/"
        },
        "id": "KTAOE2t6R7dd",
        "outputId": "7c9b03b9-a608-48e0-e5ae-35a65993b633"
      },
      "execution_count": null,
      "outputs": [
        {
          "output_type": "stream",
          "name": "stdout",
          "text": [
            "2331\n",
            "2194\n"
          ]
        }
      ]
    },
    {
      "cell_type": "code",
      "source": [
        "filtered_df = new_df[new_df['mbid'].isin(avl_mbid)]\n",
        "print (filtered_df.shape)"
      ],
      "metadata": {
        "colab": {
          "base_uri": "https://localhost:8080/"
        },
        "id": "_SaCF50QQCyU",
        "outputId": "0f8cf56d-7846-4f47-84ce-e910aabf8205"
      },
      "execution_count": null,
      "outputs": [
        {
          "output_type": "stream",
          "name": "stdout",
          "text": [
            "(1471, 10)\n"
          ]
        }
      ]
    },
    {
      "cell_type": "code",
      "source": [
        "!pg_dump -U postgres -h localhost -d cse512 > cse512_song_dump_final.sql"
      ],
      "metadata": {
        "colab": {
          "base_uri": "https://localhost:8080/"
        },
        "id": "470pyLWvMtOT",
        "outputId": "7315f130-0ac5-49dc-d1c5-290432a80d38"
      },
      "execution_count": null,
      "outputs": [
        {
          "output_type": "stream",
          "name": "stdout",
          "text": [
            "Password: \n"
          ]
        }
      ]
    }
  ]
}